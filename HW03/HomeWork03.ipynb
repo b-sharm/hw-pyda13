{
 "cells": [
  {
   "cell_type": "markdown",
   "metadata": {},
   "source": [
    "# Домашнее задание №3.\n",
    "## Управляющие конструкции и коллекции. Часть 1\n",
    "**Выполнил: Шармашкеев Б.В.**"
   ]
  },
  {
   "cell_type": "markdown",
   "metadata": {},
   "source": [
    "## Задание 1\n",
    "Дана переменная, в которой хранится слово из латинских букв. Напишите код, который выводит на экран:\n",
    "- среднюю букву, если число букв в слове нечетное;\n",
    "- две средних буквы, если число букв четное."
   ]
  },
  {
   "cell_type": "code",
   "execution_count": 19,
   "metadata": {},
   "outputs": [
    {
     "name": "stdout",
     "output_type": "stream",
     "text": [
      "Введите слово: perfecto\n",
      "fe\n"
     ]
    }
   ],
   "source": [
    "word =  input('Введите слово: ')\n",
    "length = len(word)\n",
    "if (length %2 != 0):\n",
    "    print(word[len(word)//2])\n",
    "else:\n",
    "    print(word[len(word)//2-1] + word[len(word)//2])"
   ]
  },
  {
   "cell_type": "markdown",
   "metadata": {},
   "source": [
    "## Задание 2\n",
    "Напишите программу, которая последовательно запрашивает у пользователя числа (по одному за раз) и после первого нуля выводит сумму всех ранее введенных чисел."
   ]
  },
  {
   "cell_type": "code",
   "execution_count": 2,
   "metadata": {},
   "outputs": [
    {
     "name": "stdout",
     "output_type": "stream",
     "text": [
      "Введите число: 4\n",
      "Введите число: 5\n",
      "Введите число: 0\n",
      "Результат:  9\n"
     ]
    }
   ],
   "source": [
    "usrNum = 1\n",
    "numSum = 0\n",
    "while usrNum != 0:\n",
    "    usrNum = int(input('Введите число: '))\n",
    "    numSum += usrNum\n",
    "print('Результат: ', numSum)"
   ]
  },
  {
   "cell_type": "markdown",
   "metadata": {},
   "source": [
    "## Задание 3\n",
    "Мы делаем MVP dating-сервиса, и у нас есть список парней и девушек.\n",
    "Выдвигаем гипотезу: лучшие рекомендации мы получим, если просто отсортируем имена по алфавиту и познакомим людей с одинаковыми индексами после сортировки! Но мы не будем никого знакомить, если кто-то может остаться без пары."
   ]
  },
  {
   "cell_type": "code",
   "execution_count": 24,
   "metadata": {},
   "outputs": [],
   "source": [
    "# Списки имен. Вариант 1\n",
    "boys = ['Peter', 'Alex', 'John', 'Arthur', 'Richard']\n",
    "girls = ['Kate', 'Liza', 'Kira', 'Emma', 'Trisha']"
   ]
  },
  {
   "cell_type": "code",
   "execution_count": 22,
   "metadata": {},
   "outputs": [],
   "source": [
    "# Списки имен. Вариант 2\n",
    "boys = ['Peter', 'Alex', 'John', 'Arthur', 'Richard', 'Michael']\n",
    "girls = ['Kate', 'Liza', 'Kira', 'Emma', 'Trisha']"
   ]
  },
  {
   "cell_type": "code",
   "execution_count": 25,
   "metadata": {},
   "outputs": [
    {
     "name": "stdout",
     "output_type": "stream",
     "text": [
      "Идеальные пары:\n",
      "Alex и Emma\n",
      "Arthur и Kate\n",
      "John и Kira\n",
      "Peter и Liza\n",
      "Richard и Trisha\n"
     ]
    }
   ],
   "source": [
    "if len(boys) != len(girls): # Проверка, что всем хватеет пары\n",
    "    print('Внимание, кто-то может остаться без пары!')\n",
    "else: \n",
    "    couples = list(zip(sorted(boys), sorted(girls))) # Формирование списка пар\n",
    "    print('Идеальные пары:')\n",
    "    for i in range(len(boys)): # Вывод пар в нужном формате\n",
    "        print(couples[i][0], 'и', couples[i][1])"
   ]
  },
  {
   "cell_type": "markdown",
   "metadata": {},
   "source": [
    "## Задание 4\n",
    "У нас есть список, содержащий информацию о среднедневной температуре в Фаренгейтах за произвольный период по странам (структура данных в примере). Необходимо написать код, который рассчитает среднюю температуру за период в Цельсиях(!) для каждой страны."
   ]
  },
  {
   "cell_type": "code",
   "execution_count": 26,
   "metadata": {},
   "outputs": [],
   "source": [
    "# Исходные данные\n",
    "countries_temperature = [\n",
    "    ['Thailand', [75.2, 77, 78.8, 73.4, 68, 75.2, 77]],\n",
    "    ['Germany', [57.2, 55.4, 59, 59, 53.6]],\n",
    "    ['Russia', [35.6, 37.4, 39.2, 41, 42.8, 39.2, 35.6]],\n",
    "    ['Poland', [50, 50, 53.6, 57.2, 55.4, 55.4]]\n",
    "]"
   ]
  },
  {
   "attachments": {
    "image.png": {
     "image/png": "[encoded data removed]"
    }
   },
   "cell_type": "markdown",
   "metadata": {},
   "source": [
    "### Формула для вычисления температуры в градусах по шкале Цельсия\n",
    "![image.png](attachment:image.png)"
   ]
  },
  {
   "cell_type": "code",
   "execution_count": 38,
   "metadata": {},
   "outputs": [
    {
     "name": "stdout",
     "output_type": "stream",
     "text": [
      "Thailand  -  23.9\n",
      "Germany  -  13.8\n",
      "Russia  -  3.7\n",
      "Poland  -  12.0\n"
     ]
    }
   ],
   "source": [
    "for i in range(len(countries_temperature)):\n",
    "    avgF = sum(countries_temperature[i][1]) / len(countries_temperature[i][1]) # Вычисление средней температуры\n",
    "    avgC = round((avgF - 32)*5/9, 1) # Перевод в градусы по шкале Цельсия\n",
    "    print(countries_temperature[i][0], ' - ', avgC) # Вывод информации в ннужном формате"
   ]
  },
  {
   "cell_type": "markdown",
   "metadata": {},
   "source": [
    "## Задание №5\n",
    "Дан поток логов по количеству просмотренных страниц для каждого пользователя. Вам необходимо написать алгоритм, который считает среднее значение просмотров на пользователя. Т. е. надо посчитать отношение суммы всех просмотров к количеству уникальных пользователей."
   ]
  },
  {
   "cell_type": "code",
   "execution_count": 74,
   "metadata": {},
   "outputs": [],
   "source": [
    "stream = [\n",
    "    '2018-01-01,user1,3',\n",
    "    '2018-01-07,user1,4',\n",
    "    '2018-03-29,user1,1',\n",
    "    '2018-04-04,user1,13',\n",
    "    '2018-01-05,user2,7',\n",
    "    '2018-06-14,user3,4',\n",
    "    '2018-07-02,user3,10',\n",
    "    '2018-03-21,user4,19',\n",
    "    '2018-03-22,user4,4',\n",
    "    '2018-04-22,user4,8',\n",
    "    '2018-05-03,user4,9',\n",
    "    '2018-05-11,user4,11',\n",
    "]"
   ]
  },
  {
   "cell_type": "code",
   "execution_count": 76,
   "metadata": {},
   "outputs": [],
   "source": [
    "stream = [\n",
    "    '2018-01-01,user100,150',\n",
    "    '2018-01-07,user99,205',\n",
    "    '2018-03-29,user1001,81'\n",
    "]"
   ]
  },
  {
   "cell_type": "code",
   "execution_count": 77,
   "metadata": {},
   "outputs": [
    {
     "name": "stdout",
     "output_type": "stream",
     "text": [
      "Среднее количество просмотров на уникального пользователя:  145.33\n"
     ]
    }
   ],
   "source": [
    "pages = [] \n",
    "user = []\n",
    "for i in range(len(stream)):\n",
    "    # Разделение строк по запятой, формирование списка с количеством просмотренных страниц\n",
    "    pages.append(int(stream[i].split(',')[2]))\n",
    "    user.append(stream[i].split(',')[1]) # Формирование списка пользователей\n",
    "    user =sorted(list(set(user))) # Формирование списка уникальных пользователей\n",
    "# Вычисление ср. кол.-ва просмотров на уникального пользователя\n",
    "avg_pages = round(sum(pages) / len(user), 2)\n",
    "print('Среднее количество просмотров на уникального пользователя: ', avg_pages)"
   ]
  },
  {
   "cell_type": "markdown",
   "metadata": {},
   "source": [
    "## Задание №6\n",
    "Необходимо у пользователя запрашивать набор чисел разделенных пробелом. В результате должны выводиться числа, которые повторяются в вводе более одного раза."
   ]
  },
  {
   "cell_type": "code",
   "execution_count": 54,
   "metadata": {},
   "outputs": [
    {
     "name": "stdout",
     "output_type": "stream",
     "text": [
      "Введите числа через пробел: 4 8 0 3 4 2 0 3\n",
      "0 3 4 "
     ]
    }
   ],
   "source": [
    "numStr = input('Введите числа через пробел: ')\n",
    "result = []\n",
    "numList = list(map(int, numStr.split(' '))) # Формирование спсика с числами, исходня строка разбивается по пробел\n",
    "for el in numList: # В цикле формируется спсиок с значениями, которые встечаются чаще 1 раза\n",
    "    if numList.count(el) > 1:\n",
    "        result.append(el)\n",
    "result = list(set(result)) # Оставляем в писке только уникальные значения\n",
    "for i in range(len(result)): # В цикле выводим наши значения в нужном формате, в данном случае просто через пробел\n",
    "    print(result[i], end=' ')"
   ]
  }
 ],
 "metadata": {
  "kernelspec": {
   "display_name": "Python 3",
   "language": "python",
   "name": "python3"
  },
  "language_info": {
   "codemirror_mode": {
    "name": "ipython",
    "version": 3
   },
   "file_extension": ".py",
   "mimetype": "text/x-python",
   "name": "python",
   "nbconvert_exporter": "python",
   "pygments_lexer": "ipython3",
   "version": "3.8.3"
  }
 },
 "nbformat": 4,
 "nbformat_minor": 4
}
