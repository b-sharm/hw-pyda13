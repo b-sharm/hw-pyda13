{
 "cells": [
  {
   "cell_type": "markdown",
   "metadata": {},
   "source": [
    "# Домашнее задание №2. Основы Python\n",
    "**Выполнил: Шармашкеев Б.В.**"
   ]
  },
  {
   "cell_type": "markdown",
   "metadata": {},
   "source": [
    "## Задание 1\n",
    "Даны 2 переменных, в которых хранятся строки произвольной длины: phrase_1 и phrase_2.\n",
    "Напишите код, который проверяет какая из этих строк длиннее."
   ]
  },
  {
   "cell_type": "code",
   "execution_count": 1,
   "metadata": {},
   "outputs": [],
   "source": [
    "# Определение переменных. Вариант 1\n",
    "phrase_1 = 'Насколько проще было бы писать программы, если бы не заказчики'\n",
    "phrase_2 = '640Кб должно хватить для любых задач. Билл Гейтс (по легенде)'"
   ]
  },
  {
   "cell_type": "code",
   "execution_count": 4,
   "metadata": {},
   "outputs": [],
   "source": [
    "# Определение переменных. Вариант 2\n",
    "phrase_1 = '640Кб должно хватить для любых задач. Билл Гейтс (по легенде)'\n",
    "phrase_2 = 'Насколько проще было бы писать программы, если бы не заказчики'"
   ]
  },
  {
   "cell_type": "code",
   "execution_count": 6,
   "metadata": {},
   "outputs": [],
   "source": [
    "# Определение переменных. Вариант 3\n",
    "phrase_1 = 'Насколько проще было бы писать программы, если бы не заказчики'\n",
    "phrase_2 = 'Насколько проще было бы писать программы, если бы не заказчики'"
   ]
  },
  {
   "cell_type": "code",
   "execution_count": 7,
   "metadata": {},
   "outputs": [
    {
     "name": "stdout",
     "output_type": "stream",
     "text": [
      "Фразы равной длины\n"
     ]
    }
   ],
   "source": [
    "# Код для сравнения длины строк\n",
    "if len(phrase_1) == len(phrase_2):\n",
    "    print ('Фразы равной длины')\n",
    "elif len(phrase_1) > len(phrase_2):\n",
    "    print ('Фраза 1 длиннее фразы 2')\n",
    "else:\n",
    "    print('Фраза 2 длиннее фразы 1')"
   ]
  },
  {
   "cell_type": "markdown",
   "metadata": {},
   "source": [
    "## Задание 2\n",
    "Дана переменная, в которой хранится четырехзначное число (год). Необходимо написать программу, которая выведет, является ли данный год високосным или обычным."
   ]
  },
  {
   "cell_type": "code",
   "execution_count": 15,
   "metadata": {},
   "outputs": [],
   "source": [
    "# Определение переменной года\n",
    "year = 1700"
   ]
  },
  {
   "cell_type": "code",
   "execution_count": 16,
   "metadata": {},
   "outputs": [
    {
     "name": "stdout",
     "output_type": "stream",
     "text": [
      "1700 - обычный год\n"
     ]
    }
   ],
   "source": [
    "# Код определяющий високосность года\n",
    "'''Високосным является год, который без остатка делится на 4.\n",
    "Исключением являются годы кратные 100, но не делящиеся на 400 без остатка'''\n",
    "if (year % 4 != 0) or (year % 100 == 0) and (year %400 != 0):\n",
    "    print (year, '- обычный год')\n",
    "else:\n",
    "    print (year, '- високосный год')\n",
    "    "
   ]
  },
  {
   "cell_type": "markdown",
   "metadata": {},
   "source": [
    "## Задание 3\n",
    "Необходимо написать программу, которая будет запрашивать у пользователя месяц и дату рождения и выводить соответствующий знак зодиака."
   ]
  },
  {
   "cell_type": "code",
   "execution_count": 64,
   "metadata": {},
   "outputs": [
    {
     "name": "stdout",
     "output_type": "stream",
     "text": [
      "Введите Вашу дату рождения  в фомате ММ.ДД: 10.31\n",
      "Ваш знак зодиака СКОРПИОН\n"
     ]
    }
   ],
   "source": [
    "import datetime as DT\n",
    "DOB = DT.datetime.strptime(input('Введите Вашу дату рождения  в фомате ММ.ДД: '), '%m.%d').date()\n",
    "if (DT.datetime.strptime('0321', '%m%d').date()) <= DOB <= (DT.datetime.strptime('0420', '%m%d').date()):\n",
    "    print ('Ваш знак зодиака ОВЕН')\n",
    "elif (DT.datetime.strptime('0421', '%m%d').date()) <= DOB <= (DT.datetime.strptime('0521', '%m%d').date()):\n",
    "    print ('Ваш знак зодиака ТЕЛЕЦ')\n",
    "elif (DT.datetime.strptime('0522', '%m%d').date()) <= DOB <= (DT.datetime.strptime('0621', '%m%d').date()):\n",
    "    print ('Ваш знак зодиака БЛИЗНЕЦЫ')\n",
    "elif (DT.datetime.strptime('0622', '%m%d').date()) <= DOB <= (DT.datetime.strptime('0722', '%m%d').date()):\n",
    "    print ('Ваш знак зодиака РАК')\n",
    "elif (DT.datetime.strptime('0723', '%m%d').date()) <= DOB <= (DT.datetime.strptime('0823', '%m%d').date()):\n",
    "    print ('Ваш знак зодиака ЛЕВ')\n",
    "elif (DT.datetime.strptime('0824', '%m%d').date()) <= DOB <= (DT.datetime.strptime('0923', '%m%d').date()):\n",
    "    print ('Ваш знак зодиака ДЕВА')\n",
    "elif (DT.datetime.strptime('0924', '%m%d').date()) <= DOB <= (DT.datetime.strptime('1023', '%m%d').date()):\n",
    "    print ('Ваш знак зодиака ВЕСЫ')\n",
    "elif (DT.datetime.strptime('1024', '%m%d').date()) <= DOB <= (DT.datetime.strptime('1122', '%m%d').date()):\n",
    "    print ('Ваш знак зодиака СКОРПИОН')\n",
    "elif (DT.datetime.strptime('1123', '%m%d').date()) <= DOB <= (DT.datetime.strptime('1222', '%m%d').date()):\n",
    "    print ('Ваш знак зодиака СТРЕЛЕЦ')\n",
    "elif (DT.datetime.strptime('0121', '%m%d').date()) <= DOB <= (DT.datetime.strptime('0219', '%m%d').date()):\n",
    "    print ('Ваш знак зодиака ВОДОЛЕЙ')\n",
    "elif (DT.datetime.strptime('0220', '%m%d').date()) <= DOB <= (DT.datetime.strptime('0320', '%m%d').date()):\n",
    "    print ('Ваш знак зодиака РЫБЫ')\n",
    "else:\n",
    "    print ('Ваш знак зодиака КОЗЕРОГ')"
   ]
  },
  {
   "cell_type": "markdown",
   "metadata": {},
   "source": [
    "## Задание 4\n",
    "Вам нужно написать программу для подбора упаковок по размерам товара. Размеры хранятся в переменных (в сантиметрах):\n",
    "\n",
    "- width = 10\n",
    "- length = 205\n",
    "- height = 5\n",
    "\n",
    "Используйте следующие правила:\n",
    "- если каждое из трех измерений менее 15 сантиметров, то выведите на экран \"Коробка №1\";\n",
    "- если хотя бы одно из измерений больше 15 сантиметров, но менее 50 сантиметров, то выводите \"Коробка №2\";\n",
    "- если длина товара больше 2 метров, то выводите \"Упаковка для лыж\";\n",
    "- во всех остальных случаях выводите \"Стандартная коробка №3\"."
   ]
  },
  {
   "cell_type": "code",
   "execution_count": 65,
   "metadata": {},
   "outputs": [
    {
     "name": "stdout",
     "output_type": "stream",
     "text": [
      "Введите ширину товара, см: 10\n",
      "Введите длину товара, см: 205\n",
      "Введите высоту товара, см: 5\n",
      "Упаковка для лыж\n"
     ]
    }
   ],
   "source": [
    "# Запрос размеров товара\n",
    "width = int(input('Введите ширину товара, см: '))\n",
    "length = int(input('Введите длину товара, см: '))\n",
    "height = int(input('Введите высоту товара, см: '))\n",
    "\n",
    "# Выбор упаковки в соотвествии с заданием\n",
    "if length > 200:\n",
    "    print ('Упаковка для лыж')\n",
    "elif (width < 15) and (length < 15) and (height < 15):\n",
    "    print('Коробка №1')\n",
    "elif max(width, length, height) >= 15 and max(width, length, height) < 50:\n",
    "    print('Коробка №2')\n",
    "else:\n",
    "    print('Стандартная коробка №3')"
   ]
  },
  {
   "cell_type": "markdown",
   "metadata": {},
   "source": [
    "## Задание №5\n",
    "Дана переменная, в которой хранится шестизначное число (номер проездного билета). Напишите программу, которая будет определять, является ли данный билет \"счастливым\". Билет считается счастливым, если сумма первых трех цифр совпадает с суммой последних трех цифр номера."
   ]
  },
  {
   "cell_type": "code",
   "execution_count": 90,
   "metadata": {},
   "outputs": [
    {
     "name": "stdout",
     "output_type": "stream",
     "text": [
      "Введите 6-значный номер билета: 123321\n",
      "123321  - счастливый билет\n"
     ]
    }
   ],
   "source": [
    "# перевожу в int так как в задании было сказано число,\n",
    "# ввод с клавиатуры для удобства проверки\n",
    "ticket = int(input('Введите 6-значный номер билета: ')) \n",
    "numbers = list(map(int, str(ticket))) # число переводим в строку, чтобы с помощью MAP получить список цифр\n",
    "\n",
    "if len(numbers) == 6: # проверка, что номер билета соответствует формату\n",
    "    if (numbers[0]+numbers[1]+numbers[2]) == (numbers[3]+numbers[4]+numbers[5]):\n",
    "        print(ticket, ' - счастливый билет')\n",
    "    else:\n",
    "        print(ticket, ' - обычный билет')\n",
    "else:\n",
    "    print(\"Формат номера неправильный\") "
   ]
  },
  {
   "cell_type": "markdown",
   "metadata": {},
   "source": [
    "## Задание №6\n",
    "Напишите программу, которая сможет вычислять площади трех фигур (круг, треугольник и прямоугольник). Тип фигуры запрашиваем через пользовательский ввод, после чего делаем запрос характеристик фигуры:\n",
    "\n",
    "если пользователь выбрал круг, запрашиваем его радиус,\n",
    "если треугольник – длины трех его сторон;\n",
    "если прямоугольник – длины двух его сторон."
   ]
  },
  {
   "cell_type": "code",
   "execution_count": 102,
   "metadata": {},
   "outputs": [
    {
     "name": "stdout",
     "output_type": "stream",
     "text": [
      "Введите тип фигуры (круг - 1, треугольник - 2 или прямоугольник - 3): 3\n",
      "Введите длину прямоугольника: 10\n",
      "Введите высоту прямоугольника: 2.555\n",
      "Площадь прямоугольника:  25.55\n"
     ]
    }
   ],
   "source": [
    "import math\n",
    "figure = int(input('Введите тип фигуры (круг - 1, треугольник - 2 или прямоугольник - 3): '))\n",
    "if figure == 1:\n",
    "    r = float(input('Введите радиус круга: '))\n",
    "    ca = round(math.pi*(r**2), 2)\n",
    "    print ('Площадь круга: ', ca)\n",
    "elif figure == 2:\n",
    "    a = float(input('Введите 1 сторону треугольника: '))\n",
    "    b = float(input('Введите 2 сторону треугольника: '))\n",
    "    c = float(input('Введите 3 сторону треугольника: '))\n",
    "    p=0.5*(a+b+c) # Полупериметр треугольника\n",
    "    ta = round(math.sqrt(p*(p-a)*(p-b)*(p-c)),2)\n",
    "    print ('Площадь треугольника: ', ta)\n",
    "elif figure == 3:\n",
    "    a = float(input('Введите длину прямоугольника: '))\n",
    "    b = float(input('Введите высоту прямоугольника: '))\n",
    "    ra = round(a*b, 2)\n",
    "    print ('Площадь прямоугольника: ', ra)\n",
    "else:\n",
    "    print('Неизвестная фигура')"
   ]
  },
  {
   "cell_type": "code",
   "execution_count": null,
   "metadata": {},
   "outputs": [],
   "source": []
  }
 ],
 "metadata": {
  "kernelspec": {
   "display_name": "Python 3",
   "language": "python",
   "name": "python3"
  },
  "language_info": {
   "codemirror_mode": {
    "name": "ipython",
    "version": 3
   },
   "file_extension": ".py",
   "mimetype": "text/x-python",
   "name": "python",
   "nbconvert_exporter": "python",
   "pygments_lexer": "ipython3",
   "version": "3.8.3"
  }
 },
 "nbformat": 4,
 "nbformat_minor": 4
}
