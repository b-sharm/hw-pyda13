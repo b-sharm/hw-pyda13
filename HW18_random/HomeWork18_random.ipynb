{
 "cells": [
  {
   "cell_type": "markdown",
   "metadata": {},
   "source": [
    "# Домашнее задание №18.\n",
    "## Случайные значения\n",
    "**Выполнил: Шармашкеев Б.В.**"
   ]
  },
  {
   "cell_type": "code",
   "execution_count": 67,
   "metadata": {},
   "outputs": [],
   "source": [
    "import numpy as np\n",
    "import pandas as pd\n",
    "import re"
   ]
  },
  {
   "cell_type": "markdown",
   "metadata": {},
   "source": [
    "## Задание\n",
    "Смоделировать игру против лотерейного автомата типа “777”. Игрок платит 1 руб., после чего выпадает случайное целое число, равномерно распределенное от 0 до 999. При некоторых значениях числа игрок получает выигрыш:\n",
    "\n",
    "- 777: 200 руб.\n",
    "- 999: 100 руб.\n",
    "- 555: 50 руб.\n",
    "- 333: 15 руб.\n",
    "- 111: 10 руб.\n",
    "- x77: 5 руб.\n",
    "- xx7: 3 руб.\n",
    "- x00: 2 руб.\n",
    "- xx0: 1 руб.\n",
    "\n",
    "\"x\" - любая цифра\n",
    "\n",
    "Выгодна ли игра игроку?\n",
    "\n",
    "Сколько в среднем приобретает\n",
    "или теряет игрок за одну игру?\n",
    "\n",
    "Дополнительное задание повышенной сложности. Теоретически рассчитать средний выигрыш (проигрыш) и сравнить с результатами моделирования"
   ]
  },
  {
   "cell_type": "code",
   "execution_count": 27,
   "metadata": {},
   "outputs": [],
   "source": [
    "# Возможные призы\n",
    "prizes = {'777': 200,\n",
    "          '999': 100,\n",
    "          '555': 50,\n",
    "          '333': 15,\n",
    "          '111': 10,\n",
    "          '77': 5,\n",
    "          '7': 3,\n",
    "          '00': 2,\n",
    "          '0': 1\n",
    "         }"
   ]
  },
  {
   "cell_type": "code",
   "execution_count": 100,
   "metadata": {},
   "outputs": [
    {
     "data": {
      "text/html": [
       "<div>\n",
       "<style scoped>\n",
       "    .dataframe tbody tr th:only-of-type {\n",
       "        vertical-align: middle;\n",
       "    }\n",
       "\n",
       "    .dataframe tbody tr th {\n",
       "        vertical-align: top;\n",
       "    }\n",
       "\n",
       "    .dataframe thead th {\n",
       "        text-align: right;\n",
       "    }\n",
       "</style>\n",
       "<table border=\"1\" class=\"dataframe\">\n",
       "  <thead>\n",
       "    <tr style=\"text-align: right;\">\n",
       "      <th></th>\n",
       "      <th>Комбинация</th>\n",
       "      <th>Приз</th>\n",
       "      <th>Кол.-во</th>\n",
       "      <th>P1</th>\n",
       "      <th>P1*Приз</th>\n",
       "    </tr>\n",
       "  </thead>\n",
       "  <tbody>\n",
       "    <tr>\n",
       "      <th>0</th>\n",
       "      <td>777</td>\n",
       "      <td>200</td>\n",
       "      <td>1</td>\n",
       "      <td>0.001</td>\n",
       "      <td>0.200</td>\n",
       "    </tr>\n",
       "    <tr>\n",
       "      <th>1</th>\n",
       "      <td>999</td>\n",
       "      <td>100</td>\n",
       "      <td>1</td>\n",
       "      <td>0.001</td>\n",
       "      <td>0.100</td>\n",
       "    </tr>\n",
       "    <tr>\n",
       "      <th>2</th>\n",
       "      <td>555</td>\n",
       "      <td>50</td>\n",
       "      <td>1</td>\n",
       "      <td>0.001</td>\n",
       "      <td>0.050</td>\n",
       "    </tr>\n",
       "    <tr>\n",
       "      <th>3</th>\n",
       "      <td>333</td>\n",
       "      <td>15</td>\n",
       "      <td>1</td>\n",
       "      <td>0.001</td>\n",
       "      <td>0.015</td>\n",
       "    </tr>\n",
       "    <tr>\n",
       "      <th>4</th>\n",
       "      <td>111</td>\n",
       "      <td>10</td>\n",
       "      <td>1</td>\n",
       "      <td>0.001</td>\n",
       "      <td>0.010</td>\n",
       "    </tr>\n",
       "    <tr>\n",
       "      <th>5</th>\n",
       "      <td>77</td>\n",
       "      <td>5</td>\n",
       "      <td>9</td>\n",
       "      <td>0.009</td>\n",
       "      <td>0.045</td>\n",
       "    </tr>\n",
       "    <tr>\n",
       "      <th>6</th>\n",
       "      <td>7</td>\n",
       "      <td>3</td>\n",
       "      <td>90</td>\n",
       "      <td>0.090</td>\n",
       "      <td>0.270</td>\n",
       "    </tr>\n",
       "    <tr>\n",
       "      <th>7</th>\n",
       "      <td>00</td>\n",
       "      <td>2</td>\n",
       "      <td>10</td>\n",
       "      <td>0.010</td>\n",
       "      <td>0.020</td>\n",
       "    </tr>\n",
       "    <tr>\n",
       "      <th>8</th>\n",
       "      <td>0</td>\n",
       "      <td>1</td>\n",
       "      <td>90</td>\n",
       "      <td>0.090</td>\n",
       "      <td>0.090</td>\n",
       "    </tr>\n",
       "  </tbody>\n",
       "</table>\n",
       "</div>"
      ],
      "text/plain": [
       "  Комбинация  Приз  Кол.-во     P1  P1*Приз\n",
       "0        777   200        1  0.001    0.200\n",
       "1        999   100        1  0.001    0.100\n",
       "2        555    50        1  0.001    0.050\n",
       "3        333    15        1  0.001    0.015\n",
       "4        111    10        1  0.001    0.010\n",
       "5         77     5        9  0.009    0.045\n",
       "6          7     3       90  0.090    0.270\n",
       "7         00     2       10  0.010    0.020\n",
       "8          0     1       90  0.090    0.090"
      ]
     },
     "execution_count": 100,
     "metadata": {},
     "output_type": "execute_result"
    }
   ],
   "source": [
    "df = pd.DataFrame({'Комбинация': prizes.keys(), \n",
    "                   'Приз': prizes.values(),\n",
    "                   'Кол.-во': [1, 1, 1, 1, 1, 9, 90, 10, 90]})\n",
    "df['P1'] = df['Кол.-во']/1000\n",
    "df['P1*Приз'] = df['Приз'] * df['P1']\n",
    "df"
   ]
  },
  {
   "cell_type": "code",
   "execution_count": 106,
   "metadata": {},
   "outputs": [],
   "source": [
    "apt = (df['P1']*df['Приз']).sum() # Математическое ожидание выигрыша\n",
    "alt = -1*(1000 - df['Кол.-во'].sum())/1000"
   ]
  },
  {
   "cell_type": "code",
   "execution_count": 86,
   "metadata": {},
   "outputs": [
    {
     "name": "stdout",
     "output_type": "stream",
     "text": [
      "2039388 10000000 0.2039388 0.8013533\n",
      "7960612 10000000 0.7960612 -0.7960612\n"
     ]
    }
   ],
   "source": [
    "trials = 10000000    # Количество попыток\n",
    "successes = 0 # Количество успехов\n",
    "fails = 0\n",
    "loss = 0\n",
    "profit = 0\n",
    "\n",
    "for i in range(trials):\n",
    "    number = str(np.random.randint(0, 1000)).zfill(3)\n",
    "    if '777' in number:\n",
    "        successes += 1\n",
    "        profit += prizes[number]\n",
    "    elif '999' in number:\n",
    "        successes += 1\n",
    "        profit += prizes[number]\n",
    "    elif '555' in number:\n",
    "        successes += 1\n",
    "        profit += prizes[number]\n",
    "    elif '333' in number:\n",
    "        successes += 1\n",
    "        profit += prizes[number]\n",
    "    elif '111' in number:\n",
    "        successes += 1\n",
    "        profit += prizes[number]\n",
    "    elif re.match(r'\\d77', number):\n",
    "        successes += 1\n",
    "        profit += prizes[number[-2:]]\n",
    "    elif re.match(r'\\d00', number):\n",
    "        successes += 1\n",
    "        profit += prizes[number[-2:]]\n",
    "    elif re.match(r'\\d{2}7', number):\n",
    "        successes += 1\n",
    "        profit += prizes[number[-1]]\n",
    "    elif re.match(r'\\d{2}0', number):\n",
    "        successes += 1\n",
    "        profit += prizes[number[-1]]\n",
    "    else:\n",
    "        fails += 1\n",
    "        loss -= 1\n",
    "        \n",
    "p_s = successes / trials\n",
    "profit_avg = profit / trials\n",
    "p_f = fails / trials\n",
    "loss_avg = loss / trials\n",
    "\n",
    "print(successes, trials, p_s, profit_avg)\n",
    "print(fails, trials, p_f, loss_avg)"
   ]
  },
  {
   "cell_type": "markdown",
   "metadata": {},
   "source": [
    "### Итог"
   ]
  },
  {
   "cell_type": "code",
   "execution_count": 105,
   "metadata": {},
   "outputs": [
    {
     "name": "stdout",
     "output_type": "stream",
     "text": [
      "Вероятность успеха расчетная: 0.204\n",
      "Вероятность успеха по Монте-Карло: 0.2039388\n",
      "Вероятность проигрыша расчетная: 0.796\n",
      "Вероятность проигрыша по Монте-Карло: 0.7960612\n",
      "Средний расчетный выигрыш: 0.8; средний расчетный проигрыш: -0.796\n",
      "Средний выигрыш по Монте-Карло: 0.8013533; средний проигрыш по Монте-Карло: -0.7960612\n"
     ]
    }
   ],
   "source": [
    "print(f\"Вероятность успеха расчетная: {204/1000}\")\n",
    "print(f\"Вероятность успеха по Монте-Карло: {p_s}\")\n",
    "print(f\"Вероятность проигрыша расчетная: {(1000-204)/1000}\")\n",
    "print(f\"Вероятность проигрыша по Монте-Карло: {p_f}\")\n",
    "print(f\"Средний расчетный выигрыш: {apt}; средний расчетный проигрыш: {alt}\")\n",
    "print(f\"Средний выигрыш по Монте-Карло: {profit_avg}; средний проигрыш по Монте-Карло: {loss_avg}\")"
   ]
  },
  {
   "cell_type": "markdown",
   "metadata": {},
   "source": [
    "Оба метода показывают, что играть невыгодно:\n",
    "- средний выигрыш меньше вложенного 1 рубля\n",
    "- вероятность проигрыша существенно выше"
   ]
  }
 ],
 "metadata": {
  "kernelspec": {
   "display_name": "Python 3",
   "language": "python",
   "name": "python3"
  },
  "language_info": {
   "codemirror_mode": {
    "name": "ipython",
    "version": 3
   },
   "file_extension": ".py",
   "mimetype": "text/x-python",
   "name": "python",
   "nbconvert_exporter": "python",
   "pygments_lexer": "ipython3",
   "version": "3.8.5"
  }
 },
 "nbformat": 4,
 "nbformat_minor": 4
}
