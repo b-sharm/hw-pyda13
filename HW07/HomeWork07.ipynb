{
 "cells": [
  {
   "cell_type": "markdown",
   "metadata": {},
   "source": [
    "# Домашнее задание №7.\n",
    "## Исключения и обработка ошибок\n",
    "**Выполнил: Шармашкеев Б.В.**"
   ]
  },
  {
   "cell_type": "markdown",
   "metadata": {},
   "source": [
    "### Задание 1.\n",
    "Печатные газеты использовали свой формат дат для каждого выпуска. Для каждой газеты из списка напишите формат указанной даты для перевода в объект datetime:\n",
    "1. The Moscow Times - Wednesday, October 2, 2002\n",
    "2. The Guardian - Friday, 11.10.13\n",
    "3. Daily News - Thursday, 18 August 1977"
   ]
  },
  {
   "cell_type": "code",
   "execution_count": 1,
   "metadata": {},
   "outputs": [],
   "source": [
    "MoscowTimes = 'Wednesday, October 2, 2002'\n",
    "Guardian = 'Friday, 11.10.13'\n",
    "DailyNews = 'Thursday, 18 August 1977'"
   ]
  },
  {
   "cell_type": "code",
   "execution_count": 2,
   "metadata": {},
   "outputs": [],
   "source": [
    "from datetime import datetime"
   ]
  },
  {
   "cell_type": "code",
   "execution_count": 3,
   "metadata": {},
   "outputs": [
    {
     "data": {
      "text/plain": [
       "datetime.datetime(2002, 10, 2, 0, 0)"
      ]
     },
     "execution_count": 3,
     "metadata": {},
     "output_type": "execute_result"
    }
   ],
   "source": [
    "datetime.strptime(MoscowTimes, '%A, %B %d, %Y')"
   ]
  },
  {
   "cell_type": "code",
   "execution_count": 7,
   "metadata": {
    "scrolled": true
   },
   "outputs": [
    {
     "data": {
      "text/plain": [
       "datetime.datetime(2013, 11, 10, 0, 0)"
      ]
     },
     "execution_count": 7,
     "metadata": {},
     "output_type": "execute_result"
    }
   ],
   "source": [
    "datetime.strptime(Guardian, '%A, %m.%d.%y')"
   ]
  },
  {
   "cell_type": "code",
   "execution_count": 6,
   "metadata": {},
   "outputs": [
    {
     "data": {
      "text/plain": [
       "datetime.datetime(1977, 8, 18, 0, 0)"
      ]
     },
     "execution_count": 6,
     "metadata": {},
     "output_type": "execute_result"
    }
   ],
   "source": [
    "datetime.strptime(DailyNews, '%A, %d %B %Y')"
   ]
  },
  {
   "cell_type": "markdown",
   "metadata": {},
   "source": [
    "### Задание 2.\n",
    "Дан поток дат в формате YYYY-MM-DD, в которых встречаются некорректные значения:\n",
    "stream = [‘2018-04-02’, ‘2018-02-29’, ‘2018-19-02’]\n",
    "\n",
    "Напишите функцию, которая проверяет эти даты на корректность. Т. е. для каждой даты возвращает True (дата корректна) или False (некорректная дата)."
   ]
  },
  {
   "cell_type": "code",
   "execution_count": 22,
   "metadata": {},
   "outputs": [],
   "source": [
    "stream = ['2018-04-02', '2018-02-29', '2018-19-02']\n",
    "check_dict = {}\n",
    "def check_dates(s):\n",
    "    '''\n",
    "    Функция проверяет эти даты на корректность.\n",
    "    То есть для каждой даты возвращает True (дата корректна) или False (некорректная дата).\n",
    "    '''\n",
    "    for date in s:\n",
    "        try:\n",
    "            datetime.strptime(date, '%Y-%m-%d')\n",
    "            check_dict[date] = True\n",
    "        except:\n",
    "            check_dict[date] = False\n",
    "    return check_dict"
   ]
  },
  {
   "cell_type": "code",
   "execution_count": 23,
   "metadata": {},
   "outputs": [
    {
     "data": {
      "text/plain": [
       "{'2018-04-02': True, '2018-02-29': False, '2018-19-02': False}"
      ]
     },
     "execution_count": 23,
     "metadata": {},
     "output_type": "execute_result"
    }
   ],
   "source": [
    "check_dates(stream)"
   ]
  },
  {
   "cell_type": "markdown",
   "metadata": {},
   "source": [
    "### Задание 3.\n",
    "Напишите функцию date_range, которая возвращает список дат за период от start_date до end_date. Даты должны вводиться в формате YYYY-MM-DD. В случае неверного формата или при start_date > end_date должен возвращаться пустой список."
   ]
  },
  {
   "cell_type": "code",
   "execution_count": 55,
   "metadata": {},
   "outputs": [],
   "source": [
    "from datetime import datetime\n",
    "from datetime import timedelta"
   ]
  },
  {
   "cell_type": "code",
   "execution_count": 62,
   "metadata": {},
   "outputs": [],
   "source": [
    "def date_range(start_date, end_date):\n",
    "    '''\n",
    "    Функция возвращает список дат за период от start_date до end_date. Даты должны вводиться в формате YYYY-MM-DD.\n",
    "    В случае неверного формата или при start_date > end_date должен возвращаться пустой список.\n",
    "    '''\n",
    "    dates_list = []\n",
    "    try:\n",
    "        start_date_dt = datetime.strptime(start_date, '%Y-%m-%d')\n",
    "    except:\n",
    "        print('Некорректная начальная дата')\n",
    "        return dates_list \n",
    "    \n",
    "    try:\n",
    "         end_date_dt = datetime.strptime(end_date, '%Y-%m-%d')\n",
    "    except:\n",
    "        print('Некорректная конечная дата')\n",
    "        return dates_list        \n",
    "    \n",
    "    if start_date_dt > end_date_dt:\n",
    "        print('Начальная дата больше конечной')\n",
    "        return dates_list\n",
    "    \n",
    "    else:\n",
    "        dt = start_date_dt\n",
    "        while dt <= end_date_dt:\n",
    "            dates_list.append(dt.strftime('%Y-%m-%d'))\n",
    "            dt += timedelta(days=1)\n",
    "    return dates_list"
   ]
  },
  {
   "cell_type": "code",
   "execution_count": 68,
   "metadata": {},
   "outputs": [
    {
     "name": "stdout",
     "output_type": "stream",
     "text": [
      "Введите начальную дату в формате YYYY-mm-dd: 2020-09-17\n",
      "Введите конечную дату в формате YYYY-mm-dd: 2020-02-23\n",
      "Начальная дата больше конечной\n"
     ]
    },
    {
     "data": {
      "text/plain": [
       "[]"
      ]
     },
     "execution_count": 68,
     "metadata": {},
     "output_type": "execute_result"
    }
   ],
   "source": [
    "date_range(input('Введите начальную дату в формате YYYY-mm-dd: '),\n",
    "           input('Введите конечную дату в формате YYYY-mm-dd: '))"
   ]
  },
  {
   "cell_type": "markdown",
   "metadata": {},
   "source": [
    "### Задание 4.\n",
    "Ваш коллега прислал код функции:\n",
    "```python\n",
    "DEFAULT_USER_COUNT = 3\n",
    "\n",
    "def delete_and_return_last_user(region, default_list=[‘A100’, ‘A101’, ‘A102’]):\n",
    "    '''\n",
    "    Удаляет из списка default_list последнего пользователя\n",
    "    и возвращает ID нового последнего пользователя.\n",
    "    '''\n",
    "    element_to_delete = default_list[-1]\n",
    "    default_list.remove(element_to_delete)\n",
    "    return default_list[DEFAULT_USER_COUNT-2]\n",
    "```\n",
    "При однократном вызове этой функции все работает корректно:\n",
    "```python\n",
    "delete_and_return_last_user(1)\n",
    "```\n",
    "```'A101'```\n",
    "\n",
    "Однако, при повторном вызове получается ошибка IndexError: list index out of range.\n",
    "\n",
    "Задание:\n",
    "1. Что значит ошибка list index out of range?\n",
    "2. Почему при первом запуске функция работает корректно, а при втором - нет?"
   ]
  },
  {
   "cell_type": "markdown",
   "metadata": {},
   "source": [
    "1. Ошибка list index out of range означает, что в коде мы обратились к несуществующему элементу списка.\n",
    "2. Элементов изначально 3: индексы 0, 1, 2. Первый раз алгоритм работает так как в строке ```return default_list[DEFAULT_USER_COUNT-2]``` получается индекс 1 (3 - 2 =1 ), при этом ```DEFAULT_USER_COUNT``` в функции не уменьшается, что приводит к тому, что при запуске функции мы обращаемся к элементу с индексом 1, хотя остался только нулевой.\n",
    "3. Также ошибка может возникнуть, если мы обратимся к последнему элементу, а список пустой."
   ]
  },
  {
   "cell_type": "markdown",
   "metadata": {},
   "source": [
    "#### Вариант фанкции, которая работает правильно при многократном обращении:"
   ]
  },
  {
   "cell_type": "code",
   "execution_count": 204,
   "metadata": {},
   "outputs": [],
   "source": [
    "def delete_and_return_last_user(region, default_list=['A100', 'A101', 'A102']):\n",
    "    '''\n",
    "    Удаляет из списка default_list последнего пользователя\n",
    "    и возвращает ID нового последнего пользователя.\n",
    "    '''\n",
    "    if len(default_list) == 0:\n",
    "        print('В функцию передан пустой список')\n",
    "        return\n",
    "    else:\n",
    "        element_to_delete = default_list[-1]\n",
    "        default_list.remove(element_to_delete)\n",
    "    if len(default_list) == 0:\n",
    "        print('Все элементы списка удалены')\n",
    "    else:\n",
    "        return default_list[-1]        "
   ]
  },
  {
   "cell_type": "code",
   "execution_count": 208,
   "metadata": {},
   "outputs": [
    {
     "name": "stdout",
     "output_type": "stream",
     "text": [
      "В функцию передан пустой список\n"
     ]
    }
   ],
   "source": [
    "delete_and_return_last_user(1)"
   ]
  }
 ],
 "metadata": {
  "kernelspec": {
   "display_name": "Python 3",
   "language": "python",
   "name": "python3"
  },
  "language_info": {
   "codemirror_mode": {
    "name": "ipython",
    "version": 3
   },
   "file_extension": ".py",
   "mimetype": "text/x-python",
   "name": "python",
   "nbconvert_exporter": "python",
   "pygments_lexer": "ipython3",
   "version": "3.8.5"
  }
 },
 "nbformat": 4,
 "nbformat_minor": 4
}
