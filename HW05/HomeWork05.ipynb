{
 "cells": [
  {
   "cell_type": "markdown",
   "metadata": {},
   "source": [
    "# Домашнее задание №5 (доработка).\n",
    "## Функции\n",
    "**Выполнил: Шармашкеев Б.В.**"
   ]
  },
  {
   "cell_type": "markdown",
   "metadata": {},
   "source": [
    "## Задание 1\n",
    "Нужно помочь секретарю автоматизировать работу. Для этого нужно написать программу, которая будет на основе хранимых данных исполнять пользовательские команды."
   ]
  },
  {
   "cell_type": "code",
   "execution_count": 2,
   "metadata": {},
   "outputs": [],
   "source": [
    "documents = [\n",
    "{'type': 'passport', 'number': '2207 876234', 'name': 'Василий Гупкин'},\n",
    "{'type': 'invoice', 'number': '11-2', 'name': 'Геннадий Покемонов'},\n",
    "{'type': 'insurance', 'number': '10006', 'name': 'Аристарх Павлов'}\n",
    "]"
   ]
  },
  {
   "cell_type": "code",
   "execution_count": 3,
   "metadata": {},
   "outputs": [],
   "source": [
    "directories = {\n",
    "'1': ['2207 876234', '11-2'],\n",
    "'2': ['10006'],\n",
    "'3': []\n",
    "}"
   ]
  },
  {
   "cell_type": "markdown",
   "metadata": {},
   "source": [
    "### 1.1. Пользователь по команде “p” может узнать владельца документа по его номеру."
   ]
  },
  {
   "cell_type": "code",
   "execution_count": 12,
   "metadata": {},
   "outputs": [],
   "source": [
    "def name_by_document_number(com):\n",
    "    '''\n",
    "    Функция выводит имя владельца документа по его номеру.\n",
    "    \n",
    "    -----Пример-----\n",
    "    Введите номер документа:\n",
    "    10006\n",
    "    Владелец документа: Аристарх Павлов\n",
    "    ----------------\n",
    "    '''\n",
    "    num = input('Введите номер документа: ')\n",
    "    found = False\n",
    "    for i in documents:\n",
    "        for key in i:\n",
    "            if i[key] == num:\n",
    "                found = True\n",
    "                print(f\"Владелец документа: {i['name']}\")\n",
    "    if not found:\n",
    "        print('Документ не найден.')    "
   ]
  },
  {
   "cell_type": "markdown",
   "metadata": {},
   "source": [
    "### 1.2. Пользователь по команде “s” может по номеру документа узнать на какой полке он хранится."
   ]
  },
  {
   "cell_type": "code",
   "execution_count": 45,
   "metadata": {},
   "outputs": [],
   "source": [
    "def directory_by_document_number(com, num=''):\n",
    "    '''\n",
    "    Функция выводит полку,на которой хранится документ по его номеру.\n",
    "    \n",
    "    -----Пример-----\n",
    "    Введите номер документа:\n",
    "    10006\n",
    "    Документ хранится на полке: 2\n",
    "    ----------------\n",
    "    '''\n",
    "    found = False\n",
    "    doc_dir = ''\n",
    "    if com == 's':\n",
    "        num = input('Введите номер документа: ')  \n",
    "    for directory in directories:\n",
    "        if num in directories[directory]:\n",
    "            found = True\n",
    "            if com == 's':\n",
    "                print(f\"Документ хранится на полке: {directory}\")\n",
    "            doc_dir = directory\n",
    "    if not found:\n",
    "        print('Документ не найден.')\n",
    "    return doc_dir"
   ]
  },
  {
   "cell_type": "markdown",
   "metadata": {},
   "source": [
    "### 1.3. Пользователь по команде “l” может увидеть полную информацию по всем документам."
   ]
  },
  {
   "cell_type": "code",
   "execution_count": 42,
   "metadata": {},
   "outputs": [],
   "source": [
    "def full_info(com):\n",
    "    '''\n",
    "    Функция выводит полную информацию по документам.\n",
    "    \n",
    "    -----Пример-----\n",
    "    Введите команду:\n",
    "    i\n",
    "    №: 2207 876234, тип: passport, владелец: Василий Гупкин, полка хранения: 1\n",
    "    №: 11-2, тип: invoice, владелец: Геннадий Покемонов, полка хранения: 1\n",
    "    №: 10006, тип: insurance, владелец: Аристарх Павлов, полка хранения: 2\n",
    "    ----------------\n",
    "    '''\n",
    "    for i in documents:\n",
    "        directory = directory_by_document_number(com, i['number'])\n",
    "        print(f\"№: {i['number']}, тип: {i['type']}, владелец: {i['name']}, полка хранения: {directory}\")"
   ]
  },
  {
   "cell_type": "markdown",
   "metadata": {},
   "source": [
    "### 1.4. Пользователь по команде “as” может добавить новую полку."
   ]
  },
  {
   "cell_type": "code",
   "execution_count": 13,
   "metadata": {},
   "outputs": [],
   "source": [
    "def add_new_directory(com):\n",
    "    '''\n",
    "    Функция добавляет новую полку с именем dir_name в базу.\n",
    "    \n",
    "    -----Пример-----\n",
    "    Введите команду:\n",
    "    as\n",
    "    Введите номер полки:\n",
    "    10\n",
    "    Результат:\n",
    "    Полка добавлена. Текущий перечень полок: 1, 2, 3, 10.\n",
    "    \n",
    "    Введите команду:\n",
    "    as\n",
    "    Введите номер полки:\n",
    "    3\n",
    "    Результат:\n",
    "    Полка уже существует. Текущий перечень полок: 1, 2, 3.\n",
    "    ----------------\n",
    "    '''\n",
    "    dir_name = input('Введите номер полки: ')\n",
    "    dirs = ''\n",
    "    if dir_name not in directories:\n",
    "        directories[dir_name] = []\n",
    "        for i in directories.keys():\n",
    "            dirs = dirs + i + ', '\n",
    "        print(f\"Полка добавлена. Текущий перечень полок: {dirs[0:-2]}\")\n",
    "    else:\n",
    "        for i in directories.keys():\n",
    "            dirs = dirs + i + ', '      \n",
    "        print(f\"Полка уже существует. Текущий перечень полок: {dirs[0:-2]}\")"
   ]
  },
  {
   "cell_type": "markdown",
   "metadata": {},
   "source": [
    "### 1.5. Пользователь по команде “ds” может удалить существующую полку из данных (только если она пустая)."
   ]
  },
  {
   "cell_type": "code",
   "execution_count": 14,
   "metadata": {},
   "outputs": [],
   "source": [
    "def del_empty_directory(com):\n",
    "    '''\n",
    "    Функция удаляет полку c именем dir_name, если на ней нет документов.\n",
    "    \n",
    "    -----Пример-----\n",
    "    Введите команду:\n",
    "    ds\n",
    "    Введите номер полки:\n",
    "    3\n",
    "    Результат:\n",
    "    Полка удалена. Текущий перечень полок: 1, 2.\n",
    "    \n",
    "    Введите команду:\n",
    "    as\n",
    "    Введите номер полки:\n",
    "    1\n",
    "    Результат:\n",
    "    На полке есть документы, удалите их перед удалением полки. Текущий перечень полок: 1, 2, 3.\n",
    "    ----------------\n",
    "    '''\n",
    "    dir_name = input('Введите номер полки: ')\n",
    "    dirs = ''\n",
    "    if dir_name not in directories.keys():\n",
    "        for i in directories.keys():\n",
    "            dirs = dirs + i + ', '\n",
    "        print(f\"Полка не найдена. Текущий перечень: {dirs[0:-2]}\")\n",
    "    elif directories[dir_name] == []:\n",
    "        del directories[dir_name]\n",
    "        for i in directories.keys():\n",
    "            dirs = dirs + i + ', '\n",
    "        print(f\"Полка удалена. Текущий перечень полок: {dirs[0:-2]}\")\n",
    "    elif not directories[dir_name] == []:\n",
    "        for i in directories.keys():\n",
    "            dirs = dirs + i + ', '\n",
    "        print(f\"На полке есть документы, удалите их перед удалением полки. Текущий перечень: {dirs[0:-2]}\")"
   ]
  },
  {
   "cell_type": "markdown",
   "metadata": {},
   "source": [
    "# Задание 2\n",
    "Необходимо дополнить программу из задания 1 более продвинутыми командами."
   ]
  },
  {
   "cell_type": "markdown",
   "metadata": {},
   "source": [
    "### 2.1. Пользователь по команде “ad” может добавить новый документ в данные."
   ]
  },
  {
   "cell_type": "code",
   "execution_count": 57,
   "metadata": {},
   "outputs": [],
   "source": [
    "def add_new_document(com):\n",
    "    '''\n",
    "    Функция добавляет новый документ в базу\n",
    "     -----Пример-----\n",
    "    Введите команду:\n",
    "    ad\n",
    "    Введите номер документа:\n",
    "    42\n",
    "    Введите тип документа:\n",
    "    multipassport\n",
    "    Введите владельца документа:\n",
    "    R2D2\n",
    "    Введите полку для хранения:\n",
    "    3\n",
    "    Результат:\n",
    "    Документ добавлен. Текущий список документов:\n",
    "    №: 2207 876234, тип: passport, владелец: Василий Гупкин, полка хранения: 1\n",
    "    №: 11-2, тип: invoice, владелец: Геннадий Покемонов, полка хранения: 1\n",
    "    №: 10006, тип: insurance, владелец: Аристарх Павлов, полка хранения: 2\n",
    "    №: 42, тип: multipassport, владелец: R2D2, полка хранения: 3\n",
    "    ----------------\n",
    "    '''\n",
    "    doc_num = input('Введите номер документа: ')\n",
    "    doc_type = input('Введите тип документа: ')\n",
    "    owner_name = input('Введите имя владельца: ')\n",
    "    directory = input('Введите номер полки: ')\n",
    "    if directory not in directories.keys():\n",
    "        print(f\"Такой полки не существует. Добавьте полку командой as.\\nТекущий список документов:\")\n",
    "        full_info(com)\n",
    "    else:\n",
    "        documents.append({'type': doc_type, 'number': doc_num, 'name': owner_name})\n",
    "        directories[directory].append(doc_num)\n",
    "        print(f\"Документ добален.\\nТекущий список документов:\")\n",
    "        full_info(com) "
   ]
  },
  {
   "cell_type": "markdown",
   "metadata": {},
   "source": [
    "### 2.2. Пользователь по команде “d” может удалить документ из данных."
   ]
  },
  {
   "cell_type": "code",
   "execution_count": 55,
   "metadata": {},
   "outputs": [],
   "source": [
    "def del_document(com):\n",
    "    '''\n",
    "    Функция удаляет документ из базы\n",
    "     -----Пример-----\n",
    "    Введите команду:\n",
    "    d\n",
    "    Введите номер документа:\n",
    "    10006\n",
    "    Результат:\n",
    "    Документ удален.\n",
    "    Текущий список документов:\n",
    "    №: 2207 876234, тип: passport, владелец: Василий Гупкин, полка хранения: 1\n",
    "    №: 11-2, тип: invoice, владелец: Геннадий Покемонов, полка хранения: 1\n",
    "    '''\n",
    "    num = input('Введите номер документа: ')\n",
    "    found = False\n",
    "    for line in documents:\n",
    "        if num == line['number']:\n",
    "            documents.remove(line) \n",
    "            directories[directory_by_document_number(com, num)].remove(num)\n",
    "            found = True\n",
    "    if found == True:\n",
    "        print('Документ удален.\\nТекущий список документов:')\n",
    "    else:\n",
    "        print('Документ не найден в базе.\\nТекущий список документов:')\n",
    "    full_info(com)"
   ]
  },
  {
   "cell_type": "markdown",
   "metadata": {},
   "source": [
    "### 2.3. Пользователь по команде “m” может переместить документ с полки на полку."
   ]
  },
  {
   "cell_type": "code",
   "execution_count": 54,
   "metadata": {},
   "outputs": [],
   "source": [
    "def move_document(com):\n",
    "    '''\n",
    "    Функция перемещает документ на другую существующую полку\n",
    "     -----Пример-----\n",
    "    Введите команду:\n",
    "    m\n",
    "    Введите номер документа:\n",
    "    10006\n",
    "    Введите полку для хранения:\n",
    "    3\n",
    "    Результат:\n",
    "    Документ перемещен.\n",
    "    Текущий список документов:\n",
    "    №: 2207 876234, тип: passport, владелец: Василий Гупкин, полка хранения: 1\n",
    "    №: 11-2, тип: invoice, владелец: Геннадий Покемонов, полка хранения: 1\n",
    "    №: 10006, тип: insurance, владелец: Аристарх Павлов, полка хранения: 3\n",
    "    '''\n",
    "    found = False\n",
    "    doc_num = input('Введите номер документа: ')\n",
    "    new_directory = input('Введите номер полки: ')\n",
    "    for doc in documents:\n",
    "        if doc['number'] == doc_num:\n",
    "            found = True\n",
    "    if found:\n",
    "        current_dir = directory_by_document_number(com, doc_num)\n",
    "        if current_dir != new_directory:\n",
    "            directories[current_dir].remove(doc_num)\n",
    "            directories[new_directory].append(doc_num)\n",
    "            print('Документ перемещен.\\nТекущий список документов: ')\n",
    "        else:\n",
    "            print('Перемещение не требуется.\\nТекущий список документов: ')\n",
    "    else:\n",
    "        print('Документ не найден в базе.\\nТекущий список документов: ')\n",
    "    full_info(com)"
   ]
  },
  {
   "cell_type": "markdown",
   "metadata": {},
   "source": [
    " ### Выход из программы"
   ]
  },
  {
   "cell_type": "markdown",
   "metadata": {},
   "source": [
    "## Главная функция"
   ]
  },
  {
   "cell_type": "code",
   "execution_count": 65,
   "metadata": {},
   "outputs": [],
   "source": [
    "def main():\n",
    "    print('''Список команд:\n",
    "     q - завершение работы;\n",
    "     p - узнать владельца документа по номеру документа;\n",
    "     s - узнать по номеру документа полку, на которой он хранится;\n",
    "     l - вывести перечень документов;\n",
    "     as - добавить полку хранения;\n",
    "     ds - удалить полку хранения, если она пустая;\n",
    "     ad - добавить документ;\n",
    "     d - удалить документ;\n",
    "     m - переместить документ на другую полку;\n",
    "     q - завершение работы программы.''')\n",
    "    command = ''\n",
    "    dictOfCommands = {\n",
    "    'l': full_info,\n",
    "    'p': name_by_document_number,\n",
    "    's': directory_by_document_number,\n",
    "    'as': add_new_directory,\n",
    "    'ds': del_empty_directory,\n",
    "    'ad': add_new_document,\n",
    "    'd': del_document,\n",
    "    'm': move_document,\n",
    "    'q': exit\n",
    "    }\n",
    "    while command != 'q':\n",
    "        command = input('Введите команду: ')\n",
    "        if command != 'q':\n",
    "            dictOfCommands[command](command)\n",
    "        else:\n",
    "            print('Работа завершена.')"
   ]
  },
  {
   "cell_type": "markdown",
   "metadata": {},
   "source": [
    "## Вызов основной функции"
   ]
  },
  {
   "cell_type": "code",
   "execution_count": 66,
   "metadata": {},
   "outputs": [
    {
     "name": "stdout",
     "output_type": "stream",
     "text": [
      "Список команд:\n",
      "     q - завершение работы;\n",
      "     p - узнать владельца документа по номеру документа;\n",
      "     s - узнать по номеру документа полку, на которой он хранится;\n",
      "     l - вывести перечень документов;\n",
      "     as - добавить полку хранения;\n",
      "     ds - удалить полку хранения, если она пустая;\n",
      "     ad - добавить документ;\n",
      "     d - удалить документ;\n",
      "     m - переместить документ на другую полку;\n",
      "     q - завершение работы программы.\n",
      "Введите команду: q\n",
      "Работа завершена.\n"
     ]
    }
   ],
   "source": [
    "main()"
   ]
  }
 ],
 "metadata": {
  "kernelspec": {
   "display_name": "Python 3",
   "language": "python",
   "name": "python3"
  }
 },
 "nbformat": 4,
 "nbformat_minor": 4
}
