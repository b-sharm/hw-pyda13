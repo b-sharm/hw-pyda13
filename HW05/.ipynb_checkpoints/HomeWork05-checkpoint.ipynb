{
 "cells": [
  {
   "cell_type": "markdown",
   "metadata": {},
   "source": [
    "# Домашнее задание №5.\n",
    "## Функции\n",
    "**Выполнил: Шармашкеев Б.В.**"
   ]
  },
  {
   "cell_type": "markdown",
   "metadata": {},
   "source": [
    "Вам нужно помочь секретарю автоматизировать работу. Для этого нужно написать программу, которая будет на основе хранимых данных исполнять пользовательские команды.\n",
    "\n",
    "**Исходные данные имеют следующую структуру:**\n",
    "\n",
    "1. перечень всех документов\n",
    "\n",
    "```python\n",
    "documents = [\n",
    "{'type': 'passport', 'number': '2207 876234', 'name': 'Василий Гупкин'},\n",
    "{'type': 'invoice', 'number': '11-2', 'name': 'Геннадий Покемонов'},\n",
    "{'type': 'insurance', 'number': '10006', 'name': 'Аристарх Павлов'}\n",
    "]\n",
    "```\n",
    "2.перечень полок, на которых хранятся документы (если документ есть в documents, то он обязательно должен быть и в directories)\n",
    "\n",
    "```python\n",
    "directories = {\n",
    "'1': ['2207 876234', '11-2'],\n",
    "'2': ['10006'],\n",
    "'3': []\n",
    "}\n",
    "```\n",
    "**Общие требования к программе:**\n",
    "- код должен быть грамотно декомпозирован (каждая функция отвечает за свою конкретную задачу, дублирующийся функционал переиспользуется, а его код не повторяется);\n",
    "- в коде отсутствуют глобальные переменные (за исключением documents и directories);\n",
    "- пользовательский ввод обрабатывается в цикле while до тех пор, пока пользователь явно не завершит программу (вводом команды “q”)."
   ]
  },
  {
   "cell_type": "markdown",
   "metadata": {},
   "source": [
    "## Задание 1"
   ]
  },
  {
   "cell_type": "code",
   "execution_count": 2,
   "metadata": {},
   "outputs": [],
   "source": [
    "documents = [\n",
    "{'type': 'passport', 'number': '2207 876234', 'name': 'Василий Гупкин'},\n",
    "{'type': 'invoice', 'number': '11-2', 'name': 'Геннадий Покемонов'},\n",
    "{'type': 'insurance', 'number': '10006', 'name': 'Аристарх Павлов'}\n",
    "]"
   ]
  },
  {
   "cell_type": "code",
   "execution_count": 24,
   "metadata": {},
   "outputs": [],
   "source": [
    "directories = {\n",
    "'1': ['2207 876234', '11-2'],\n",
    "'2': ['10006'],\n",
    "'3': []\n",
    "}"
   ]
  },
  {
   "cell_type": "markdown",
   "metadata": {},
   "source": [
    "### 1.1. Пользователь по команде “p” может узнать владельца документа по его номеру."
   ]
  },
  {
   "cell_type": "code",
   "execution_count": 20,
   "metadata": {},
   "outputs": [],
   "source": [
    "def name_by_document_number(num):\n",
    "    '''\n",
    "    Функция выводит имя владельца документа по его номеру.\n",
    "    \n",
    "    -----Пример-----\n",
    "    Введите номер документа:\n",
    "    10006\n",
    "    Владелец документа: Аристарх Павлов\n",
    "    ----------------\n",
    "    '''\n",
    "    found = False\n",
    "    for i in documents:\n",
    "        for key in i:\n",
    "            if i[key] == num:\n",
    "                found = True\n",
    "                print(f\"Владелец документа: {i['name']}\")\n",
    "    if not found:\n",
    "        print('Документ не найден.')    "
   ]
  },
  {
   "cell_type": "markdown",
   "metadata": {},
   "source": [
    "### 1.2. Пользователь по команде “s” может по номеру документа узнать на какой полке он хранится."
   ]
  },
  {
   "cell_type": "code",
   "execution_count": 27,
   "metadata": {},
   "outputs": [],
   "source": [
    "def directory_by_document_number(num):\n",
    "    '''\n",
    "    Функция выводит полку,на которой хранится документ по его номеру.\n",
    "    \n",
    "    -----Пример-----\n",
    "    Введите номер документа:\n",
    "    10006\n",
    "    Документ хранится на полке: 2\n",
    "    ----------------\n",
    "    '''\n",
    "    found = False\n",
    "    for i in directories:\n",
    "        if num in directories[i]:\n",
    "            found = True\n",
    "            print(f\"Документ хранится на полке: {i}\")\n",
    "    if not found:\n",
    "        print('Документ не найден.')    "
   ]
  },
  {
   "cell_type": "markdown",
   "metadata": {},
   "source": [
    "### 1.3. Пользователь по команде “l” может увидеть полную информацию по всем документам."
   ]
  },
  {
   "cell_type": "code",
   "execution_count": null,
   "metadata": {},
   "outputs": [],
   "source": [
    "def full_info():\n",
    "    '''\n",
    "    Функция выводит полную информацию по документам.\n",
    "    \n",
    "    -----Пример-----\n",
    "    Введите команду:\n",
    "    l\n",
    "    №: 2207 876234, тип: passport, владелец: Василий Гупкин, полка хранения: 1\n",
    "    №: 11-2, тип: invoice, владелец: Геннадий Покемонов, полка хранения: 1\n",
    "    №: 10006, тип: insurance, владелец: Аристарх Павлов, полка хранения: 2\n",
    "    ----------------\n",
    "    '''"
   ]
  },
  {
   "cell_type": "markdown",
   "metadata": {},
   "source": [
    "### 1.4. Пользователь по команде “as” может добавить новую полку."
   ]
  },
  {
   "cell_type": "code",
   "execution_count": null,
   "metadata": {},
   "outputs": [],
   "source": []
  },
  {
   "cell_type": "markdown",
   "metadata": {},
   "source": [
    "### 1.5. Пользователь по команде “ds” может удалить существующую полку из данных (только если она пустая)."
   ]
  },
  {
   "cell_type": "code",
   "execution_count": null,
   "metadata": {},
   "outputs": [],
   "source": []
  },
  {
   "cell_type": "code",
   "execution_count": 34,
   "metadata": {},
   "outputs": [],
   "source": [
    "def main():\n",
    "    command = ''\n",
    "    while command != 'q':\n",
    "        command = input('Введите команду: ')\n",
    "        if command == 'p':\n",
    "            name_by_document_number(input('Введите номер документа: '))\n",
    "        elif command == 's':\n",
    "            directory_by_document_number(input('Введите номер документа: '))\n",
    "    print('Работа завершена.')\n",
    "        "
   ]
  },
  {
   "cell_type": "code",
   "execution_count": 35,
   "metadata": {},
   "outputs": [
    {
     "name": "stdout",
     "output_type": "stream",
     "text": [
      "Введите команду: p\n",
      "Введите номер документа: 10006\n",
      "Владелец документа: Аристарх Павлов\n",
      "Введите команду: s\n",
      "Введите номер документа: 1\n",
      "Документ не найден.\n",
      "Введите команду: q\n",
      "Работа завершена.\n"
     ]
    }
   ],
   "source": [
    "main()"
   ]
  },
  {
   "cell_type": "markdown",
   "metadata": {},
   "source": []
  },
  {
   "cell_type": "markdown",
   "metadata": {},
   "source": [
    "## Задание 2 (необязательное)\n",
    "Вам необходимо дополнить программу из задания 1 более продвинутыми командами.\n",
    "1. Пользователь по команде “ad” может добавить новый документ в данные.\n",
    "2. Пользователь по команде “d” может удалить документ из данных.\n",
    "3. Пользователь по команде “m” может переместить документ с полки на полку."
   ]
  },
  {
   "cell_type": "code",
   "execution_count": null,
   "metadata": {},
   "outputs": [],
   "source": []
  }
 ],
 "metadata": {
  "kernelspec": {
   "display_name": "Python 3",
   "language": "python",
   "name": "python3"
  },
  "language_info": {
   "codemirror_mode": {
    "name": "ipython",
    "version": 3
   },
   "file_extension": ".py",
   "mimetype": "text/x-python",
   "name": "python",
   "nbconvert_exporter": "python",
   "pygments_lexer": "ipython3",
   "version": "3.8.3"
  }
 },
 "nbformat": 4,
 "nbformat_minor": 4
}
