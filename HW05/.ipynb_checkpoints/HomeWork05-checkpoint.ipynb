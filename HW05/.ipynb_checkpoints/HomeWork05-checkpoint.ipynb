{
 "cells": [
  {
   "cell_type": "markdown",
   "metadata": {},
   "source": [
    "# Домашнее задание №5.\n",
    "## Функции\n",
    "**Выполнил: Шармашкеев Б.В.**"
   ]
  },
  {
   "cell_type": "markdown",
   "metadata": {},
   "source": [
    "## Задание 1\n",
    "Нужно помочь секретарю автоматизировать работу. Для этого нужно написать программу, которая будет на основе хранимых данных исполнять пользовательские команды."
   ]
  },
  {
   "cell_type": "code",
   "execution_count": 25,
   "metadata": {},
   "outputs": [],
   "source": [
    "documents = [\n",
    "{'type': 'passport', 'number': '2207 876234', 'name': 'Василий Гупкин'},\n",
    "{'type': 'invoice', 'number': '11-2', 'name': 'Геннадий Покемонов'},\n",
    "{'type': 'insurance', 'number': '10006', 'name': 'Аристарх Павлов'}\n",
    "]"
   ]
  },
  {
   "cell_type": "code",
   "execution_count": 26,
   "metadata": {},
   "outputs": [],
   "source": [
    "directories = {\n",
    "'1': ['2207 876234', '11-2'],\n",
    "'2': ['10006'],\n",
    "'3': []\n",
    "}"
   ]
  },
  {
   "cell_type": "markdown",
   "metadata": {},
   "source": [
    "### 1.1. Пользователь по команде “p” может узнать владельца документа по его номеру."
   ]
  },
  {
   "cell_type": "code",
   "execution_count": 5,
   "metadata": {},
   "outputs": [],
   "source": [
    "def name_by_document_number(num):\n",
    "    '''\n",
    "    Функция выводит имя владельца документа по его номеру.\n",
    "    \n",
    "    -----Пример-----\n",
    "    Введите номер документа:\n",
    "    10006\n",
    "    Владелец документа: Аристарх Павлов\n",
    "    ----------------\n",
    "    '''\n",
    "    found = False\n",
    "    for i in documents:\n",
    "        for key in i:\n",
    "            if i[key] == num:\n",
    "                found = True\n",
    "                print(f\"Владелец документа: {i['name']}\")\n",
    "    if not found:\n",
    "        print('Документ не найден.')    "
   ]
  },
  {
   "cell_type": "markdown",
   "metadata": {},
   "source": [
    "### 1.2. Пользователь по команде “s” может по номеру документа узнать на какой полке он хранится."
   ]
  },
  {
   "cell_type": "code",
   "execution_count": 6,
   "metadata": {},
   "outputs": [],
   "source": [
    "def directory_by_document_number(num, print):\n",
    "    '''\n",
    "    Функция выводит полку,на которой хранится документ по его номеру.\n",
    "    \n",
    "    -----Пример-----\n",
    "    Введите номер документа:\n",
    "    10006\n",
    "    Документ хранится на полке: 2\n",
    "    ----------------\n",
    "    '''\n",
    "    found = False\n",
    "    doc_dir = ''\n",
    "    for directory in directories:\n",
    "        if num in directories[directory]:\n",
    "            found = True\n",
    "            if print:\n",
    "                print(f\"Документ хранится на полке: {directory}\")\n",
    "            doc_dir = directory\n",
    "    if not found:\n",
    "        print('Документ не найден.')\n",
    "    return doc_dir"
   ]
  },
  {
   "cell_type": "markdown",
   "metadata": {},
   "source": [
    "### 1.3. Пользователь по команде “i” может увидеть полную информацию по всем документам."
   ]
  },
  {
   "cell_type": "code",
   "execution_count": 7,
   "metadata": {},
   "outputs": [],
   "source": [
    "def full_info():\n",
    "    '''\n",
    "    Функция выводит полную информацию по документам.\n",
    "    \n",
    "    -----Пример-----\n",
    "    Введите команду:\n",
    "    i\n",
    "    №: 2207 876234, тип: passport, владелец: Василий Гупкин, полка хранения: 1\n",
    "    №: 11-2, тип: invoice, владелец: Геннадий Покемонов, полка хранения: 1\n",
    "    №: 10006, тип: insurance, владелец: Аристарх Павлов, полка хранения: 2\n",
    "    ----------------\n",
    "    '''\n",
    "    for i in documents:\n",
    "        directory = directory_by_document_number(i['number'], False)\n",
    "        print(f\"№: {i['number']}, тип: {i['type']}, владелец: {i['name']}, полка хранения: {directory}\")"
   ]
  },
  {
   "cell_type": "markdown",
   "metadata": {},
   "source": [
    "### 1.4. Пользователь по команде “as” может добавить новую полку."
   ]
  },
  {
   "cell_type": "code",
   "execution_count": 8,
   "metadata": {},
   "outputs": [],
   "source": [
    "def add_new_directory(dir_name):\n",
    "    '''\n",
    "    Функция добавляет новую полку с именем dir_name в базу.\n",
    "    \n",
    "    -----Пример-----\n",
    "    Введите команду:\n",
    "    as\n",
    "    Введите номер полки:\n",
    "    10\n",
    "    Результат:\n",
    "    Полка добавлена. Текущий перечень полок: 1, 2, 3, 10.\n",
    "    \n",
    "    Введите команду:\n",
    "    as\n",
    "    Введите номер полки:\n",
    "    3\n",
    "    Результат:\n",
    "    Полка уже существует. Текущий перечень полок: 1, 2, 3.\n",
    "    ----------------\n",
    "    '''\n",
    "    dirs = ''\n",
    "    if dir_name not in directories:\n",
    "        directories[dir_name] = []\n",
    "        for i in directories.keys():\n",
    "            dirs = dirs + i + ', '\n",
    "        print(f\"Полка добавлена. Текущий перечень полок: {dirs[0:-2]}\")\n",
    "    else:\n",
    "        for i in directories.keys():\n",
    "            dirs = dirs + i + ', '      \n",
    "        print(f\"Полка уже существует. Текущий перечень полок: {dirs[0:-2]}\")"
   ]
  },
  {
   "cell_type": "markdown",
   "metadata": {},
   "source": [
    "### 1.5. Пользователь по команде “ds” может удалить существующую полку из данных (только если она пустая)."
   ]
  },
  {
   "cell_type": "code",
   "execution_count": 9,
   "metadata": {},
   "outputs": [],
   "source": [
    "def del_empty_directory(dir_name):\n",
    "    '''\n",
    "    Функция удаляет полку c именем dir_name, если на ней нет документов.\n",
    "    \n",
    "    -----Пример-----\n",
    "    Введите команду:\n",
    "    ds\n",
    "    Введите номер полки:\n",
    "    3\n",
    "    Результат:\n",
    "    Полка удалена. Текущий перечень полок: 1, 2.\n",
    "    \n",
    "    Введите команду:\n",
    "    as\n",
    "    Введите номер полки:\n",
    "    1\n",
    "    Результат:\n",
    "    На полке есть документы, удалите их перед удалением полки. Текущий перечень полок: 1, 2, 3.\n",
    "    ----------------\n",
    "    '''\n",
    "    dirs = ''\n",
    "    if dir_name not in directories.keys():\n",
    "        for i in directories.keys():\n",
    "            dirs = dirs + i + ', '\n",
    "        print(f\"Полка не найдена. Текущий перечень: {dirs[0:-2]}\")\n",
    "    elif directories[dir_name] == []:\n",
    "        del directories[dir_name]\n",
    "        for i in directories.keys():\n",
    "            dirs = dirs + i + ', '\n",
    "        print(f\"Полка удалена. Текущий перечень полок: {dirs[0:-2]}\")\n",
    "    elif not directories[dir_name] == []:\n",
    "        for i in directories.keys():\n",
    "            dirs = dirs + i + ', '\n",
    "        print(f\"На полке есть документы, удалите их перед удалением полки. Текущий перечень: {dirs[0:-2]}\")"
   ]
  },
  {
   "cell_type": "markdown",
   "metadata": {},
   "source": [
    "# Задание 2\n",
    "Необходимо дополнить программу из задания 1 более продвинутыми командами."
   ]
  },
  {
   "cell_type": "markdown",
   "metadata": {},
   "source": [
    "### 2.1. Пользователь по команде “ad” может добавить новый документ в данные."
   ]
  },
  {
   "cell_type": "code",
   "execution_count": 29,
   "metadata": {},
   "outputs": [],
   "source": [
    "def add_new_document():\n",
    "    '''\n",
    "    Функция добавляет новый документ в базу\n",
    "     -----Пример-----\n",
    "    Введите команду:\n",
    "    ad\n",
    "    Введите номер документа:\n",
    "    42\n",
    "    Введите тип документа:\n",
    "    multipassport\n",
    "    Введите владельца документа:\n",
    "    R2D2\n",
    "    Введите полку для хранения:\n",
    "    3\n",
    "    Результат:\n",
    "    Документ добавлен. Текущий список документов:\n",
    "    №: 2207 876234, тип: passport, владелец: Василий Гупкин, полка хранения: 1\n",
    "    №: 11-2, тип: invoice, владелец: Геннадий Покемонов, полка хранения: 1\n",
    "    №: 10006, тип: insurance, владелец: Аристарх Павлов, полка хранения: 2\n",
    "    №: 42, тип: multipassport, владелец: R2D2, полка хранения: 3\n",
    "    ----------------\n",
    "    '''\n",
    "    doc_num = input('Введите номер документа: ')\n",
    "    doc_type = input('Введите тип документа: ')\n",
    "    owner_name = input('Введите имя владельца: ')\n",
    "    directory = input('Введите номер полки: ')\n",
    "    if directory not in directories.keys():\n",
    "        print(f\"Такой полки не существует. Добавьте полку командой as.\\nТекущий список документов:\")\n",
    "        full_info()\n",
    "    else:\n",
    "        documents.append({'type': doc_type, 'number': doc_num, 'name': owner_name})\n",
    "        directories[directory].append(doc_num)\n",
    "        print(f\"Документ добален.\\nТекущий список документов:\")\n",
    "        full_info() "
   ]
  },
  {
   "cell_type": "markdown",
   "metadata": {},
   "source": [
    "### 2.2. Пользователь по команде “d” может удалить документ из данных."
   ]
  },
  {
   "cell_type": "code",
   "execution_count": 27,
   "metadata": {},
   "outputs": [],
   "source": [
    "def del_document(num):\n",
    "    '''\n",
    "    Функция удаляет новый документ из базы\n",
    "     -----Пример-----\n",
    "    Введите команду:\n",
    "    d\n",
    "    Введите номер документа:\n",
    "    10006\n",
    "    Результат:\n",
    "    Документ удален.\n",
    "    Текущий список документов:\n",
    "    №: 2207 876234, тип: passport, владелец: Василий Гупкин, полка хранения: 1\n",
    "    №: 11-2, тип: invoice, владелец: Геннадий Покемонов, полка хранения: 1\n",
    "    '''\n",
    "    found = False\n",
    "    for line in documents:\n",
    "        if num == line['number']:\n",
    "            documents.remove(line) \n",
    "            directories[directory_by_document_number(num, False)].remove(num)\n",
    "            found = True\n",
    "    if found == True:\n",
    "        print('Документ удален.\\nТекущий список документов:')\n",
    "    else:\n",
    "        print('Документ не найден в базе.\\nТекущий список документов:')\n",
    "    full_info()"
   ]
  },
  {
   "cell_type": "markdown",
   "metadata": {},
   "source": [
    "### 2.3. Пользователь по команде “m” может переместить документ с полки на полку."
   ]
  },
  {
   "cell_type": "code",
   "execution_count": 46,
   "metadata": {},
   "outputs": [],
   "source": [
    "def move_document():\n",
    "    '''\n",
    "    Функция перемещает документ на другую существующую полку\n",
    "     -----Пример-----\n",
    "    Введите команду:\n",
    "    m\n",
    "    Введите номер документа:\n",
    "    10006\n",
    "    Введите полку для хранения:\n",
    "    3\n",
    "    Результат:\n",
    "    Документ перемещен.\n",
    "    Текущий список документов:\n",
    "    №: 2207 876234, тип: passport, владелец: Василий Гупкин, полка хранения: 1\n",
    "    №: 11-2, тип: invoice, владелец: Геннадий Покемонов, полка хранения: 1\n",
    "    №: 10006, тип: insurance, владелец: Аристарх Павлов, полка хранения: 3\n",
    "    '''\n",
    "    found = False\n",
    "    doc_num = input('Введите номер документа: ')\n",
    "    new_directory = input('Введите номер полки: ')\n",
    "    for doc in documents:\n",
    "        if doc['number'] == doc_num:\n",
    "            found = True\n",
    "    if found:\n",
    "        current_dir = directory_by_document_number(doc_num, False)\n",
    "        if current_dir != new_directory:\n",
    "            directories[current_dir].remove(doc_num)\n",
    "            directories[new_directory].append(doc_num)\n",
    "            print('Документ перемещен.\\nТекущий список документов: ')\n",
    "        else:\n",
    "            print('Перемещение не требуется.\\nТекущий список документов: ')\n",
    "    else:\n",
    "        print('Документ не найден в базе.\\nТекущий список документов: ')\n",
    "    full_info()"
   ]
  },
  {
   "cell_type": "code",
   "execution_count": 47,
   "metadata": {},
   "outputs": [],
   "source": [
    "?move_document"
   ]
  },
  {
   "cell_type": "markdown",
   "metadata": {},
   "source": [
    "## Главная функция"
   ]
  },
  {
   "cell_type": "code",
   "execution_count": 1,
   "metadata": {},
   "outputs": [],
   "source": [
    "def main():\n",
    "    '''\n",
    "    Список команд:\n",
    "    q - завершение работы;\n",
    "    p - узнать владельца документа по номеру документа;\n",
    "    s - узнать по номеру документа полку, на которой он хранится;\n",
    "    l - вывести перечень документов;\n",
    "    as - добавить полку хранения;\n",
    "    ds - удалить полку хранения, если она пустая;\n",
    "    ad - добавить документ;\n",
    "    d - удалить документ;\n",
    "    m - переместить документ на другую полку.\n",
    "    '''\n",
    "    command = ''\n",
    "    while command != 'q':\n",
    "        command = input('Введите команду: ')\n",
    "        if command == 'p':\n",
    "            name_by_document_number(input('Введите номер документа: '))\n",
    "        elif command == 's':\n",
    "            directory_by_document_number(input('Введите номер документа: '), True)\n",
    "        elif command == 'l':\n",
    "            full_info()\n",
    "        elif command == 'as':\n",
    "            add_new_directory(input('Введите номер полки: '))\n",
    "        elif command == 'ds':\n",
    "            del_empty_directory(input('Введите номер полки: '))\n",
    "        elif command == 'ad':\n",
    "            add_new_document()\n",
    "        elif command == 'd':\n",
    "            del_document()\n",
    "        elif command == 'm':\n",
    "            move_document()\n",
    "    print('Работа завершена.')\n",
    "        "
   ]
  },
  {
   "cell_type": "markdown",
   "metadata": {},
   "source": [
    "## Вызов основной функции"
   ]
  },
  {
   "cell_type": "code",
   "execution_count": 52,
   "metadata": {},
   "outputs": [
    {
     "name": "stdout",
     "output_type": "stream",
     "text": [
      "Введите команду: ad\n",
      "Введите номер документа: 777\n",
      "Введите тип документа: drv\n",
      "Введите имя владельца: Петр Петров\n",
      "Введите номер полки: 2\n",
      "Документ добален.\n",
      "Текущий список документов:\n",
      "№: 2207 876234, тип: passport, владелец: Василий Гупкин, полка хранения: 1\n",
      "№: 11-2, тип: invoice, владелец: Геннадий Покемонов, полка хранения: 1\n",
      "№: 10006, тип: insurance, владелец: Аристарх Павлов, полка хранения: 3\n",
      "№: 42, тип: m_pass, владелец: Lilu, полка хранения: 2\n",
      "№: 777, тип: drv, владелец: Петр Петров, полка хранения: 2\n",
      "Введите команду: q\n",
      "Работа завершена.\n"
     ]
    }
   ],
   "source": [
    "main()"
   ]
  }
 ],
 "metadata": {
  "kernelspec": {
   "display_name": "Python 3",
   "language": "python",
   "name": "python3"
  },
  "language_info": {
   "codemirror_mode": {
    "name": "ipython",
    "version": 3
   },
   "file_extension": ".py",
   "mimetype": "text/x-python",
   "name": "python",
   "nbconvert_exporter": "python",
   "pygments_lexer": "ipython3",
   "version": "3.8.3"
  }
 },
 "nbformat": 4,
 "nbformat_minor": 4
}
