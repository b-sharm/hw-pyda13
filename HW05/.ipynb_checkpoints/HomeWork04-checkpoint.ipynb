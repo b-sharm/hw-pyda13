{
 "cells": [
  {
   "cell_type": "markdown",
   "metadata": {},
   "source": [
    "# Домашнее задание №4.\n",
    "## Управляющие конструкции и коллекции. Часть 2\n",
    "**Выполнил: Шармашкеев Б.В.**"
   ]
  },
  {
   "cell_type": "markdown",
   "metadata": {},
   "source": [
    "## Задание 1\n",
    "Дана переменная, в которой хранится словарь, содержащий гео-метки для каждого пользователя (пример структуры данных приведен ниже). Вам необходимо написать программу, которая выведет на экран множество уникальных гео-меток всех пользователей."
   ]
  },
  {
   "cell_type": "code",
   "execution_count": 4,
   "metadata": {},
   "outputs": [],
   "source": [
    "ids = {'user1': [213, 213, 213, 15, 213], \n",
    "       'user2': [54, 54, 119, 119, 119], \n",
    "       'user3': [213, 98, 98, 35]}"
   ]
  },
  {
   "cell_type": "code",
   "execution_count": 63,
   "metadata": {
    "scrolled": true
   },
   "outputs": [
    {
     "name": "stdout",
     "output_type": "stream",
     "text": [
      "{98, 35, 15, 213, 54, 119}\n"
     ]
    }
   ],
   "source": [
    "geo_tags = set() # пустое множество для вывода результата\n",
    "for key in ids: # перебор по ключам для доступа к гео-меткам\n",
    "    [geo_tags.add(i) for i in ids[key]] # добавляем метки в множество, что автомтически оставляет только уникальные значения\n",
    "print(geo_tags)"
   ]
  },
  {
   "cell_type": "markdown",
   "metadata": {},
   "source": [
    "## Задание 2\n",
    "Дана переменная, в которой хранится список поисковых запросов пользователя (пример структуры данных приведен ниже). Вам необходимо написать программу, которая выведет на экран распределение количества слов в запросах в требуемом виде."
   ]
  },
  {
   "cell_type": "code",
   "execution_count": 32,
   "metadata": {},
   "outputs": [],
   "source": [
    "queries = [\n",
    "    'смотреть сериалы онлайн',\n",
    "    'новости спорта',\n",
    "    'афиша кино',\n",
    "    'курс доллара',\n",
    "    'сериалы этим летом',\n",
    "    'курс по питону',\n",
    "    'сериалы про спорт',\n",
    "    'жилье крым не дорого'\n",
    "]"
   ]
  },
  {
   "cell_type": "code",
   "execution_count": 33,
   "metadata": {},
   "outputs": [
    {
     "name": "stdout",
     "output_type": "stream",
     "text": [
      "Поисковых запросов, содержащих 2 слов(-а): 37.5%\n",
      "Поисковых запросов, содержащих 3 слов(-а): 50.0%\n",
      "Поисковых запросов, содержащих 4 слов(-а): 12.5%\n"
     ]
    }
   ],
   "source": [
    "query_length = [] # список для хранения длин каждого запросов\n",
    "\n",
    "for query in queries:\n",
    "    query_length.append(len(query.split(' '))) # добавляем в список количество слов по каждому запросу\n",
    "    \n",
    "length = set(query_length) # формируем множество с вариантами длин запросов\n",
    "for i in length: # перебор по вариантам длин запросов\n",
    "    print(f\"Поисковых запросов, содержащих {i} слов(-а): {round(100*query_length.count(i)/len(queries), 2)}%\")"
   ]
  },
  {
   "cell_type": "markdown",
   "metadata": {},
   "source": [
    "## Задание 3\n",
    "Дана переменная, в которой хранится информация о затратах и доходе рекламных кампаний по различным источникам. Необходимо дополнить исходную структуру показателем ROI, который рассчитаем по формуле:\n",
    "\\begin{equation} \n",
    "ROI = \\frac{revenue}{cost-1} \\cdot 100 \n",
    "\\end{equation}"
   ]
  },
  {
   "cell_type": "code",
   "execution_count": 34,
   "metadata": {},
   "outputs": [],
   "source": [
    "results = {\n",
    "    'vk': {'revenue': 103, 'cost': 98},\n",
    "    'yandex': {'revenue': 179, 'cost': 153},\n",
    "    'facebook': {'revenue': 103, 'cost': 110},\n",
    "    'adwords': {'revenue': 35, 'cost': 34},\n",
    "    'twitter': {'revenue': 11, 'cost': 24},\n",
    "}"
   ]
  },
  {
   "cell_type": "code",
   "execution_count": 57,
   "metadata": {},
   "outputs": [
    {
     "name": "stdout",
     "output_type": "stream",
     "text": [
      "vk: {'revenue': 103, 'cost': 98, 'ROI': 106.19}\n",
      "yandex: {'revenue': 179, 'cost': 153, 'ROI': 117.76}\n",
      "facebook: {'revenue': 103, 'cost': 110, 'ROI': 94.5}\n",
      "adwords: {'revenue': 35, 'cost': 34, 'ROI': 106.06}\n",
      "twitter: {'revenue': 11, 'cost': 24, 'ROI': 47.83}\n"
     ]
    }
   ],
   "source": [
    "for key in results:\n",
    "    results[key]['ROI'] = round(100 * results[key]['revenue'] / (results[key]['cost'] - 1), 2)\n",
    "    print(f\"{key}: {results[key]}\")"
   ]
  },
  {
   "cell_type": "markdown",
   "metadata": {},
   "source": [
    "## Задание 4\n",
    "Дана переменная, в которой хранится статистика рекламных каналов по объемам продаж (пример структуры данных приведен ниже). Напишите программу, которая возвращает название канала с максимальным объемом продаж."
   ]
  },
  {
   "cell_type": "code",
   "execution_count": 115,
   "metadata": {},
   "outputs": [],
   "source": [
    "stats = {'facebook': 55, 'yandex': 115, 'vk': 120, 'google': 99, 'email': 42, 'ok': 98}"
   ]
  },
  {
   "cell_type": "code",
   "execution_count": 124,
   "metadata": {},
   "outputs": [],
   "source": [
    "stats2 = {'facebook': 55, 'yandex': 115, 'vk': 120, 'google': 120, 'email': 42, 'ok': 98}"
   ]
  },
  {
   "cell_type": "code",
   "execution_count": 116,
   "metadata": {},
   "outputs": [
    {
     "name": "stdout",
     "output_type": "stream",
     "text": [
      "Максимальный объем продаж на рекламном канале: vk\n"
     ]
    }
   ],
   "source": [
    "max_value = max(stats.values())\n",
    "max_stats = {key for key, value in stats.items() if value == max_value}\n",
    "print('Максимальный объем продаж на рекламном канале:', key)"
   ]
  },
  {
   "cell_type": "markdown",
   "metadata": {},
   "source": [
    "*Пытался разобрать случай, если максимальное значение встречается не один раз. Не получается выдать, как в задании. Подскажите, в какую сторону копать.*"
   ]
  },
  {
   "cell_type": "code",
   "execution_count": 139,
   "metadata": {},
   "outputs": [
    {
     "name": "stdout",
     "output_type": "stream",
     "text": [
      "Максимальный объем продаж на рекламном канале(-ах):\n",
      "  - vk\n",
      "  - google\n"
     ]
    }
   ],
   "source": [
    "max_value = max(stats2.values())\n",
    "max_stats = {key for key, value in stats2.items() if value == max_value}\n",
    "print('Максимальный объем продаж на рекламном канале(-ах):')\n",
    "for key in max_stats:\n",
    "    print(f\"  - {key}\")"
   ]
  },
  {
   "cell_type": "markdown",
   "metadata": {},
   "source": [
    "## Задание №5\n",
    "Дан список произвольной длины. Необходимо написать код, который на основе исходного списка составит словарь такого уровня вложенности, какова длина исхондого списка."
   ]
  },
  {
   "cell_type": "code",
   "execution_count": 157,
   "metadata": {},
   "outputs": [],
   "source": [
    "my_list1 = ['2018-01-01', 'yandex', 'cpc', 100]\n",
    "# Результат: {'2018-01-01': {'yandex': {'cpc': 100}}}\n",
    "my_list2 = ['a', 'b', 'c', 'd', 'e', 'f']\n",
    "# Результат: {'a': {'b': {'c': {'d': {'e': 'f'}}}}}"
   ]
  },
  {
   "cell_type": "code",
   "execution_count": 158,
   "metadata": {},
   "outputs": [
    {
     "name": "stdout",
     "output_type": "stream",
     "text": [
      "Результат: {'2018-01-01': {'yandex': {'cpc': 100}}}\n"
     ]
    }
   ],
   "source": [
    "dic1 = my_list1[-1] # начинаем с последнего элесента списка\n",
    "\"\"\" \n",
    "Для цикла исключаем полседний элемент и разворачиваем список,\n",
    "чтобы в temp на каждом шаге был ключ верхнего уровня\n",
    "\"\"\"\n",
    "for temp in reversed(my_list1[:-1]):\n",
    "    dic1 = {temp: dic1} # формирование словарей\n",
    "print(f\"Результат: {dic1}\")"
   ]
  },
  {
   "cell_type": "code",
   "execution_count": 159,
   "metadata": {},
   "outputs": [
    {
     "name": "stdout",
     "output_type": "stream",
     "text": [
      "Результат: {'a': {'b': {'c': {'d': {'e': 'f'}}}}}\n"
     ]
    }
   ],
   "source": [
    "dic2 = my_list2[-1] # начинаем с последнего элесента списка\n",
    "\"\"\" \n",
    "Для цикла исключаем полседний элемент и разворачиваем список,\n",
    "чтобы в temp на каждом шаге был ключ верхнего уровня\n",
    "\"\"\"\n",
    "for temp in reversed(my_list2[:-1]):\n",
    "    dic2 = {temp: dic2} # формирование словарей\n",
    "print(f\"Результат: {dic2}\")"
   ]
  },
  {
   "cell_type": "markdown",
   "metadata": {},
   "source": [
    "## Задание №6\n",
    "Дана книга рецептов с информацией о том, сколько ингредиентов нужно для приготовления блюда в расчете на одну порцию (пример данных представлен ниже).\n",
    "Напишите программу, которая будет запрашивать у пользователя количество порций для приготовления этих блюд и отображать информацию о суммарном количестве требуемых ингредиентов в указанном виде.\n",
    "\n",
    "**Внимание!** Одинаковые ингридиенты с разными размерностями нужно считать раздельно!"
   ]
  },
  {
   "cell_type": "code",
   "execution_count": 235,
   "metadata": {},
   "outputs": [],
   "source": [
    "cook_book = {\n",
    "  'салат': [\n",
    "     {'ingridient_name': 'сыр', 'quantity': 50, 'measure': 'гр'},\n",
    "     {'ingridient_name': 'томаты', 'quantity': 2, 'measure': 'шт'},\n",
    "     {'ingridient_name': 'огурцы', 'quantity': 20, 'measure': 'гр'},\n",
    "     {'ingridient_name': 'маслины', 'quantity': 10, 'measure': 'гр'},\n",
    "     {'ingridient_name': 'оливковое масло', 'quantity': 20, 'measure': 'мл'},\n",
    "     {'ingridient_name': 'салат', 'quantity': 10, 'measure': 'гр'},\n",
    "     {'ingridient_name': 'перец', 'quantity': 20, 'measure': 'гр'}\n",
    "    ],\n",
    "  'пицца': [\n",
    "     {'ingridient_name': 'сыр', 'quantity': 20, 'measure': 'гр'},\n",
    "     {'ingridient_name': 'колбаса', 'quantity': 30, 'measure': 'гр'},\n",
    "     {'ingridient_name': 'бекон', 'quantity': 30, 'measure': 'гр'},\n",
    "     {'ingridient_name': 'оливки', 'quantity': 10, 'measure': 'гр'},\n",
    "     {'ingridient_name': 'томаты', 'quantity': 20, 'measure': 'гр'},\n",
    "     {'ingridient_name': 'тесто', 'quantity': 100, 'measure': 'гр'},   \n",
    "    ],\n",
    "  'лимонад': [\n",
    "     {'ingridient_name': 'лимон', 'quantity': 1, 'measure': 'шт'},\n",
    "     {'ingridient_name': 'вода', 'quantity': 200, 'measure': 'мл'},\n",
    "     {'ingridient_name': 'сахар', 'quantity': 10, 'measure': 'гр'},\n",
    "     {'ingridient_name': 'лайм', 'quantity': 20, 'measure': 'гр'},    \n",
    "    ]\n",
    "}"
   ]
  },
  {
   "cell_type": "code",
   "execution_count": 347,
   "metadata": {},
   "outputs": [
    {
     "name": "stdout",
     "output_type": "stream",
     "text": [
      "Введите количество порций: 3\n",
      "\n",
      "СПИСОК ПОКУПОК\n",
      "  Сыр: 210гр\n",
      "  Томаты: 6шт\n",
      "  Огурцы: 60гр\n",
      "  Маслины: 30гр\n",
      "  Оливковое масло: 60мл\n",
      "  Салат: 30гр\n",
      "  Перец: 60гр\n",
      "  Колбаса: 90гр\n",
      "  Бекон: 90гр\n",
      "  Оливки: 30гр\n",
      "  Томаты: 60гр\n",
      "  Тесто: 300гр\n",
      "  Лимон: 3шт\n",
      "  Вода: 600мл\n",
      "  Сахар: 30гр\n",
      "  Лайм: 60гр\n"
     ]
    }
   ],
   "source": [
    "full_list = []\n",
    "items = []\n",
    "line = []\n",
    "\n",
    "persons = int(input('Введите количество порций: ')) # Запрос количества персон\n",
    "\n",
    "# Распаковка списков и словарей исходной структуры\n",
    "for k1 in cook_book:\n",
    "    for l1 in cook_book[k1]:\n",
    "        for k2 in l1:\n",
    "            line.append(l1[k2])\n",
    "        full_list.append(line) \n",
    "        line = []\n",
    "\n",
    "# Подготовка списка уникальных позиций\n",
    "for row in full_list:\n",
    "    line.append(row[0])\n",
    "    line.append(row[2])\n",
    "    line.insert(1, 0)\n",
    "    if line not in items:\n",
    "        items.append(line)\n",
    "    line = []\n",
    "\n",
    "# Суммирование количества продуктов с учетом ед. измерения\n",
    "for j in full_list:\n",
    "    for i in items:\n",
    "        if (i[0] == j[0]) and (i[2] == j[2]):\n",
    "            i[1] = (i[1] + j[1])\n",
    "\n",
    "# Вывод данных\n",
    "print('\\nСПИСОК ПОКУПОК')\n",
    "for i in items:\n",
    "    meal, qty, units = i\n",
    "    qty = qty * persons\n",
    "    print(f\"  {meal.capitalize()}: {qty}{units}\")"
   ]
  }
 ],
 "metadata": {
  "kernelspec": {
   "display_name": "Python 3",
   "language": "python",
   "name": "python3"
  },
  "language_info": {
   "codemirror_mode": {
    "name": "ipython",
    "version": 3
   },
   "file_extension": ".py",
   "mimetype": "text/x-python",
   "name": "python",
   "nbconvert_exporter": "python",
   "pygments_lexer": "ipython3",
   "version": "3.8.3"
  }
 },
 "nbformat": 4,
 "nbformat_minor": 4
}
