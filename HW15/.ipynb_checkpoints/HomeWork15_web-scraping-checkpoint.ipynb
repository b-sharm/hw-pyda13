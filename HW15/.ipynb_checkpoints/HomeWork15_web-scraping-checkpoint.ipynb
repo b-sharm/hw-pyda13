{
 "cells": [
  {
   "cell_type": "markdown",
   "metadata": {},
   "source": [
    "# Домашнее задание №15.\n",
    "## Основы веб-скрапинга и работы с API\n",
    "**Выполнил: Шармашкеев Б.В.**"
   ]
  },
  {
   "cell_type": "code",
   "execution_count": 2,
   "metadata": {
    "scrolled": true
   },
   "outputs": [],
   "source": [
    "import requests\n",
    "import time\n",
    "from bs4 import BeautifulSoup\n",
    "\n",
    "import re\n",
    "import pandas as pd"
   ]
  },
  {
   "cell_type": "markdown",
   "metadata": {},
   "source": [
    "### Задание 1.\n",
    "#### 1.1. Обязательная часть\n",
    "Будем парсить страницу со свежеми новостям на habr.com/ru/all/.\n",
    "\n",
    "Вам необходимо собирать только те статьи, в которых встречается хотя бы одно требуемое ключевое слово. Эти слова определяем в начале кода в переменной, например:\n",
    "\n",
    "KEYWORDS = ['python', 'парсинг']\n",
    "\n",
    "Поиск вести по всей доступной preview-информации (это информация, доступная непосредственно с текущей страницы).\n",
    "\n",
    "В итоге должен формироваться датафрейм вида: <дата> - <заголовок> - <ссылка>"
   ]
  },
  {
   "cell_type": "code",
   "execution_count": 18,
   "metadata": {
    "scrolled": true
   },
   "outputs": [],
   "source": [
    "# Определяем список ключевых слов\n",
    "keywords = ['ETH', 'стенд', 'новость']"
   ]
  },
  {
   "cell_type": "code",
   "execution_count": 19,
   "metadata": {
    "scrolled": true
   },
   "outputs": [],
   "source": [
    "# Страница с постами\n",
    "req = requests.get('https://habr.com/ru/all/')\n",
    "soup = BeautifulSoup(req.text, 'html.parser')"
   ]
  },
  {
   "cell_type": "code",
   "execution_count": 20,
   "metadata": {
    "scrolled": false
   },
   "outputs": [],
   "source": [
    "# Посты на странице\n",
    "posts = soup.find_all('article', class_='post')"
   ]
  },
  {
   "cell_type": "code",
   "execution_count": 5,
   "metadata": {
    "scrolled": true
   },
   "outputs": [],
   "source": [
    "# Библиотека для парсинга даты и времени =)\n",
    "import dateparser"
   ]
  },
  {
   "cell_type": "code",
   "execution_count": 6,
   "metadata": {
    "scrolled": true
   },
   "outputs": [],
   "source": [
    "def links_by_keywords(posts, keywords):\n",
    "    links = pd.DataFrame()\n",
    "    for post in posts:\n",
    "        post_id = post.parent.attrs.get('id')\n",
    "        if not post_id:\n",
    "            continue\n",
    "        post_id = int(post_id.split('_')[-1])\n",
    "        date = dateparser.parse(post.find('span', class_='post__time').text)\n",
    "        href = post.find('a', class_='post__title_link').get('href')\n",
    "        post_title = post.find('a', class_='post__title_link').text\n",
    "        post_preview = post.find('div', class_='post__text').text\n",
    "        for kw in keywords:\n",
    "            if re.search(kw, post_title) or re.search(kw, post_preview):              \n",
    "                row = {'Дата': date, 'Заголовок': post_title, 'Ссылка': href}\n",
    "                links = pd.concat([links, pd.DataFrame([row])])  \n",
    "    return links"
   ]
  },
  {
   "cell_type": "code",
   "execution_count": 21,
   "metadata": {
    "scrolled": true
   },
   "outputs": [
    {
     "data": {
      "text/html": [
       "<div>\n",
       "<style scoped>\n",
       "    .dataframe tbody tr th:only-of-type {\n",
       "        vertical-align: middle;\n",
       "    }\n",
       "\n",
       "    .dataframe tbody tr th {\n",
       "        vertical-align: top;\n",
       "    }\n",
       "\n",
       "    .dataframe thead th {\n",
       "        text-align: right;\n",
       "    }\n",
       "</style>\n",
       "<table border=\"1\" class=\"dataframe\">\n",
       "  <thead>\n",
       "    <tr style=\"text-align: right;\">\n",
       "      <th></th>\n",
       "      <th>Дата</th>\n",
       "      <th>Заголовок</th>\n",
       "      <th>Ссылка</th>\n",
       "    </tr>\n",
       "  </thead>\n",
       "  <tbody>\n",
       "    <tr>\n",
       "      <th>0</th>\n",
       "      <td>2020-12-07 20:28:00</td>\n",
       "      <td>Security Week 50: zero-click уязвимость в iPho...</td>\n",
       "      <td>https://habr.com/ru/company/kaspersky/blog/531...</td>\n",
       "    </tr>\n",
       "    <tr>\n",
       "      <th>0</th>\n",
       "      <td>2020-12-07 17:14:00</td>\n",
       "      <td>ETH: новая модель денег</td>\n",
       "      <td>https://habr.com/ru/post/531762/</td>\n",
       "    </tr>\n",
       "  </tbody>\n",
       "</table>\n",
       "</div>"
      ],
      "text/plain": [
       "                 Дата                                          Заголовок  \\\n",
       "0 2020-12-07 20:28:00  Security Week 50: zero-click уязвимость в iPho...   \n",
       "0 2020-12-07 17:14:00                            ETH: новая модель денег   \n",
       "\n",
       "                                              Ссылка  \n",
       "0  https://habr.com/ru/company/kaspersky/blog/531...  \n",
       "0                   https://habr.com/ru/post/531762/  "
      ]
     },
     "execution_count": 21,
     "metadata": {},
     "output_type": "execute_result"
    }
   ],
   "source": [
    "links01 = links_by_keywords(posts, keywords)\n",
    "links01"
   ]
  },
  {
   "cell_type": "markdown",
   "metadata": {},
   "source": [
    "#### 1.2. Дополнительная часть (необязательная)\n",
    "Улучшить скрипт так, чтобы он анализировал не только preview-информацию статьи, но и весь текст статьи целиком.\n",
    "\n",
    "Для этого потребуется получать страницы статей и искать по тексту внутри этой страницы.\n",
    "\n",
    "Итоговый датафрейм формировать со столбцами: <дата> - <заголовок> - <ссылка> - <текст_статьи>"
   ]
  },
  {
   "cell_type": "code",
   "execution_count": 8,
   "metadata": {
    "scrolled": true
   },
   "outputs": [],
   "source": [
    "# Поиск в полном тексте поста\n",
    "def pars_full_text(link):\n",
    "    r = requests.get(link)\n",
    "    s = BeautifulSoup(r.text, 'html.parser')\n",
    "    return s.find('div', class_='post__text').text "
   ]
  },
  {
   "cell_type": "code",
   "execution_count": 23,
   "metadata": {
    "scrolled": true
   },
   "outputs": [],
   "source": [
    "def links_with_text(posts, keywords):\n",
    "    links = pd.DataFrame()\n",
    "    for post in posts:\n",
    "        post_id = post.parent.attrs.get('id')\n",
    "        if not post_id:\n",
    "            continue\n",
    "        post_id = int(post_id.split('_')[-1])\n",
    "        date = dateparser.parse(post.find('span', class_='post__time').text)\n",
    "        href = post.find('a', class_='post__title_link').get('href')\n",
    "        post_title = post.find('a', class_='post__title_link').text\n",
    "        full_text = pars_full_text(href)\n",
    "        for kw in keywords:\n",
    "            if re.search(kw, post_title) or re.search(kw, full_text):              \n",
    "                row = {'Дата': date, 'Заголовок': post_title, 'Ссылка': href, 'Текст': full_text}\n",
    "                links = pd.concat([links, pd.DataFrame([row])])            \n",
    "    return links"
   ]
  },
  {
   "cell_type": "code",
   "execution_count": 22,
   "metadata": {
    "scrolled": true
   },
   "outputs": [
    {
     "data": {
      "text/html": [
       "<div>\n",
       "<style scoped>\n",
       "    .dataframe tbody tr th:only-of-type {\n",
       "        vertical-align: middle;\n",
       "    }\n",
       "\n",
       "    .dataframe tbody tr th {\n",
       "        vertical-align: top;\n",
       "    }\n",
       "\n",
       "    .dataframe thead th {\n",
       "        text-align: right;\n",
       "    }\n",
       "</style>\n",
       "<table border=\"1\" class=\"dataframe\">\n",
       "  <thead>\n",
       "    <tr style=\"text-align: right;\">\n",
       "      <th></th>\n",
       "      <th>Дата</th>\n",
       "      <th>Заголовок</th>\n",
       "      <th>Ссылка</th>\n",
       "      <th>Текст</th>\n",
       "    </tr>\n",
       "  </thead>\n",
       "  <tbody>\n",
       "    <tr>\n",
       "      <th>0</th>\n",
       "      <td>2020-12-07 20:28:00</td>\n",
       "      <td>Security Week 50: zero-click уязвимость в iPho...</td>\n",
       "      <td>https://habr.com/ru/company/kaspersky/blog/531...</td>\n",
       "      <td>Главная новость прошлой недели посвящена уже з...</td>\n",
       "    </tr>\n",
       "    <tr>\n",
       "      <th>0</th>\n",
       "      <td>2020-12-07 18:00:00</td>\n",
       "      <td>Как использовать объектное S3-хранилище Mail.r...</td>\n",
       "      <td>https://habr.com/ru/company/mailru/blog/530756/</td>\n",
       "      <td>LogiMap ASRS Unit by Vidom\\n\\r\\nVeeam Backup &amp;...</td>\n",
       "    </tr>\n",
       "    <tr>\n",
       "      <th>0</th>\n",
       "      <td>2020-12-07 17:14:00</td>\n",
       "      <td>ETH: новая модель денег</td>\n",
       "      <td>https://habr.com/ru/post/531762/</td>\n",
       "      <td>Уважаемые криптоэнтузиасты.Не знаю как вас, но...</td>\n",
       "    </tr>\n",
       "  </tbody>\n",
       "</table>\n",
       "</div>"
      ],
      "text/plain": [
       "                 Дата                                          Заголовок  \\\n",
       "0 2020-12-07 20:28:00  Security Week 50: zero-click уязвимость в iPho...   \n",
       "0 2020-12-07 18:00:00  Как использовать объектное S3-хранилище Mail.r...   \n",
       "0 2020-12-07 17:14:00                            ETH: новая модель денег   \n",
       "\n",
       "                                              Ссылка  \\\n",
       "0  https://habr.com/ru/company/kaspersky/blog/531...   \n",
       "0    https://habr.com/ru/company/mailru/blog/530756/   \n",
       "0                   https://habr.com/ru/post/531762/   \n",
       "\n",
       "                                               Текст  \n",
       "0  Главная новость прошлой недели посвящена уже з...  \n",
       "0  LogiMap ASRS Unit by Vidom\\n\\r\\nVeeam Backup &...  \n",
       "0  Уважаемые криптоэнтузиасты.Не знаю как вас, но...  "
      ]
     },
     "execution_count": 22,
     "metadata": {},
     "output_type": "execute_result"
    }
   ],
   "source": [
    "links02 = links_with_text(posts, keywords)\n",
    "links02"
   ]
  },
  {
   "cell_type": "markdown",
   "metadata": {},
   "source": [
    "### Задание 2.\n",
    "#### 2.1. Обязательная часть\n",
    "Написать скрипт, который будет проверять список e-mail адресов на утечку при помощи сервиса Avast Hack Ckeck. Список email-ов задаем переменной в начале кода:\n",
    "EMAIL = [xxx@x.ru, yyy@y.com]\n",
    "\n",
    "В итоге должен формироваться датафрейм со столбцами: <почта> - <дата утечки> - <источник утечки> - <описание утечки>\n",
    "\n",
    "Подсказка: сервис работает при помощи \"скрытого\" API. Внимательно изучите post-запросы."
   ]
  },
  {
   "cell_type": "code",
   "execution_count": 114,
   "metadata": {
    "scrolled": true
   },
   "outputs": [],
   "source": [
    "import json\n",
    "from datetime import datetime, date"
   ]
  },
  {
   "cell_type": "code",
   "execution_count": 104,
   "metadata": {
    "scrolled": true
   },
   "outputs": [],
   "source": [
    "emails = [\"bulia.54rus@gmail.com\", \"sh-family@yandex.ru\"]"
   ]
  },
  {
   "cell_type": "code",
   "execution_count": 105,
   "metadata": {
    "scrolled": true
   },
   "outputs": [],
   "source": [
    "url = 'https://identityprotection.avast.com/v1/web/query/site-breaches/unauthorized-data'"
   ]
  },
  {
   "cell_type": "code",
   "execution_count": 106,
   "metadata": {
    "scrolled": true
   },
   "outputs": [],
   "source": [
    "payload = {\"emailAddresses\": emails}\n",
    "\n",
    "headers = {\n",
    "    'Vaar-Version': '0',\n",
    "    'User-Agent': 'Mozilla/5.0 (Windows NT 6.1; Win64; x64) AppleWebKit/537.36 (KHTML, like Gecko) Chrome/86.0.4240.185 YaBrowser/20.11.2.78 Yowser/2.5 Safari/537.36',\n",
    "    'Vaar-Header-App-Product': 'hackcheck-web-avast'\n",
    "}"
   ]
  },
  {
   "cell_type": "code",
   "execution_count": 109,
   "metadata": {
    "scrolled": true
   },
   "outputs": [
    {
     "data": {
      "text/plain": [
       "{'breaches': {'16372': {'breachId': 16372,\n",
       "   'site': 'bookmate.com',\n",
       "   'recordsCount': 7775238,\n",
       "   'description': 'In July 2018, Bookmate was allegedly breached. The stolen data contains usernames, passwords, salts, email addresses and additional personal information. This data has been sold on at least one dark web market and is also being privately shared among several criminal networks.\\r\\n',\n",
       "   'publishDate': '2019-03-20T00:00:00Z',\n",
       "   'statistics': {'usernames': 7775230,\n",
       "    'passwords': 2547574,\n",
       "    'emails': 3822191}},\n",
       "  '17609': {'breachId': 17609,\n",
       "   'site': 'vk.com',\n",
       "   'recordsCount': 42536910,\n",
       "   'description': 'At some time in 2020, the Russian social networking website vKontakte was allegedly breached. The stolen data contains email addresses and additional personal information. This breach is being privately shared on the internet.',\n",
       "   'publishDate': '2020-05-21T00:00:00Z',\n",
       "   'statistics': {'usernames': 0, 'passwords': 0, 'emails': 20549631}},\n",
       "  '14357': {'breachId': 14357,\n",
       "   'site': 'storelp.ru',\n",
       "   'recordsCount': 1435760,\n",
       "   'description': \"At an unconfirmed date, StoreLP.ru's database was allegedly breached. The stolen data contains passwords and email addresses. This breach is being privately shared on the internet.\",\n",
       "   'publishDate': '2018-06-19T00:00:00Z',\n",
       "   'statistics': {'usernames': 0, 'passwords': 1435760, 'emails': 1435760}},\n",
       "  '3707': {'breachId': 3707,\n",
       "   'site': 'google.com/gmail',\n",
       "   'recordsCount': 19222303,\n",
       "   'description': 'This collection of compromised Gmail users contains over 20 million Gmail email addresses and passwords. We believe this data to be a compilation of Gmail records from multiple third party breaches currently being sold and traded in the underground.',\n",
       "   'publishDate': '2017-04-10T00:00:00Z',\n",
       "   'statistics': {'usernames': 0, 'passwords': 19222303, 'emails': 19222303}},\n",
       "  '4505': {'breachId': 4505,\n",
       "   'site': 'nnm-club.me',\n",
       "   'recordsCount': 6852998,\n",
       "   'description': \"In September 2013, Russian torrent tracker NNM-Club's user database was allegedly breached. The stolen data contains around 7 million records including email addresses, usernames, and passwords. On January 2014, the data was shared on publicly available cybercrime and forums.\",\n",
       "   'publishDate': '2017-06-14T00:00:00Z',\n",
       "   'statistics': {'usernames': 6848208,\n",
       "    'passwords': 6852955,\n",
       "    'emails': 3429241}}},\n",
       " 'data': {'bookmate.com': {'sh-family@yandex.ru': [{'breachId': 16372,\n",
       "     'usernameBreached': True,\n",
       "     'passwordBreached': True}]},\n",
       "  'nnm-club.me': {'bulia.54rus@gmail.com': [{'breachId': 4505,\n",
       "     'usernameBreached': True,\n",
       "     'passwordBreached': True}]},\n",
       "  'google.com/gmail': {'bulia.54rus@gmail.com': [{'breachId': 3707,\n",
       "     'usernameBreached': True,\n",
       "     'passwordBreached': True}]},\n",
       "  'storelp.ru': {'sh-family@yandex.ru': [{'breachId': 14357,\n",
       "     'usernameBreached': True,\n",
       "     'passwordBreached': True}]},\n",
       "  'vk.com': {'sh-family@yandex.ru': [{'breachId': 17609,\n",
       "     'usernameBreached': True,\n",
       "     'passwordBreached': True}]}},\n",
       " 'summary': {'bulia.54rus@gmail.com': {'breaches': [3707, 4505]},\n",
       "  'sh-family@yandex.ru': {'breaches': [16372, 17609, 14357]}}}"
      ]
     },
     "execution_count": 109,
     "metadata": {},
     "output_type": "execute_result"
    }
   ],
   "source": [
    "res = requests.post(url, headers=headers, data=json.dumps(payload))\n",
    "res.json()"
   ]
  },
  {
   "cell_type": "code",
   "execution_count": 122,
   "metadata": {
    "scrolled": false
   },
   "outputs": [
    {
     "data": {
      "text/html": [
       "<div>\n",
       "<style scoped>\n",
       "    .dataframe tbody tr th:only-of-type {\n",
       "        vertical-align: middle;\n",
       "    }\n",
       "\n",
       "    .dataframe tbody tr th {\n",
       "        vertical-align: top;\n",
       "    }\n",
       "\n",
       "    .dataframe thead th {\n",
       "        text-align: right;\n",
       "    }\n",
       "</style>\n",
       "<table border=\"1\" class=\"dataframe\">\n",
       "  <thead>\n",
       "    <tr style=\"text-align: right;\">\n",
       "      <th></th>\n",
       "      <th>e-mail</th>\n",
       "      <th>Дата утечки</th>\n",
       "      <th>Источник утечки</th>\n",
       "      <th>Описание</th>\n",
       "    </tr>\n",
       "  </thead>\n",
       "  <tbody>\n",
       "    <tr>\n",
       "      <th>0</th>\n",
       "      <td>bulia.54rus@gmail.com</td>\n",
       "      <td>2019-03-20</td>\n",
       "      <td>bookmate.com</td>\n",
       "      <td>In July 2018, Bookmate was allegedly breached....</td>\n",
       "    </tr>\n",
       "    <tr>\n",
       "      <th>0</th>\n",
       "      <td>bulia.54rus@gmail.com</td>\n",
       "      <td>2020-05-21</td>\n",
       "      <td>vk.com</td>\n",
       "      <td>At some time in 2020, the Russian social netwo...</td>\n",
       "    </tr>\n",
       "    <tr>\n",
       "      <th>0</th>\n",
       "      <td>bulia.54rus@gmail.com</td>\n",
       "      <td>2018-06-19</td>\n",
       "      <td>storelp.ru</td>\n",
       "      <td>At an unconfirmed date, StoreLP.ru's database ...</td>\n",
       "    </tr>\n",
       "    <tr>\n",
       "      <th>0</th>\n",
       "      <td>bulia.54rus@gmail.com</td>\n",
       "      <td>2017-04-10</td>\n",
       "      <td>google.com/gmail</td>\n",
       "      <td>This collection of compromised Gmail users con...</td>\n",
       "    </tr>\n",
       "    <tr>\n",
       "      <th>0</th>\n",
       "      <td>bulia.54rus@gmail.com</td>\n",
       "      <td>2017-06-14</td>\n",
       "      <td>nnm-club.me</td>\n",
       "      <td>In September 2013, Russian torrent tracker NNM...</td>\n",
       "    </tr>\n",
       "    <tr>\n",
       "      <th>0</th>\n",
       "      <td>bulia.54rus@gmail.com</td>\n",
       "      <td>2019-03-20</td>\n",
       "      <td>bookmate.com</td>\n",
       "      <td>In July 2018, Bookmate was allegedly breached....</td>\n",
       "    </tr>\n",
       "    <tr>\n",
       "      <th>0</th>\n",
       "      <td>bulia.54rus@gmail.com</td>\n",
       "      <td>2020-05-21</td>\n",
       "      <td>vk.com</td>\n",
       "      <td>At some time in 2020, the Russian social netwo...</td>\n",
       "    </tr>\n",
       "    <tr>\n",
       "      <th>0</th>\n",
       "      <td>bulia.54rus@gmail.com</td>\n",
       "      <td>2018-06-19</td>\n",
       "      <td>storelp.ru</td>\n",
       "      <td>At an unconfirmed date, StoreLP.ru's database ...</td>\n",
       "    </tr>\n",
       "    <tr>\n",
       "      <th>0</th>\n",
       "      <td>bulia.54rus@gmail.com</td>\n",
       "      <td>2017-04-10</td>\n",
       "      <td>google.com/gmail</td>\n",
       "      <td>This collection of compromised Gmail users con...</td>\n",
       "    </tr>\n",
       "    <tr>\n",
       "      <th>0</th>\n",
       "      <td>bulia.54rus@gmail.com</td>\n",
       "      <td>2017-06-14</td>\n",
       "      <td>nnm-club.me</td>\n",
       "      <td>In September 2013, Russian torrent tracker NNM...</td>\n",
       "    </tr>\n",
       "    <tr>\n",
       "      <th>0</th>\n",
       "      <td>sh-family@yandex.ru</td>\n",
       "      <td>2019-03-20</td>\n",
       "      <td>bookmate.com</td>\n",
       "      <td>In July 2018, Bookmate was allegedly breached....</td>\n",
       "    </tr>\n",
       "    <tr>\n",
       "      <th>0</th>\n",
       "      <td>sh-family@yandex.ru</td>\n",
       "      <td>2020-05-21</td>\n",
       "      <td>vk.com</td>\n",
       "      <td>At some time in 2020, the Russian social netwo...</td>\n",
       "    </tr>\n",
       "    <tr>\n",
       "      <th>0</th>\n",
       "      <td>sh-family@yandex.ru</td>\n",
       "      <td>2018-06-19</td>\n",
       "      <td>storelp.ru</td>\n",
       "      <td>At an unconfirmed date, StoreLP.ru's database ...</td>\n",
       "    </tr>\n",
       "    <tr>\n",
       "      <th>0</th>\n",
       "      <td>sh-family@yandex.ru</td>\n",
       "      <td>2017-04-10</td>\n",
       "      <td>google.com/gmail</td>\n",
       "      <td>This collection of compromised Gmail users con...</td>\n",
       "    </tr>\n",
       "    <tr>\n",
       "      <th>0</th>\n",
       "      <td>sh-family@yandex.ru</td>\n",
       "      <td>2017-06-14</td>\n",
       "      <td>nnm-club.me</td>\n",
       "      <td>In September 2013, Russian torrent tracker NNM...</td>\n",
       "    </tr>\n",
       "    <tr>\n",
       "      <th>0</th>\n",
       "      <td>sh-family@yandex.ru</td>\n",
       "      <td>2019-03-20</td>\n",
       "      <td>bookmate.com</td>\n",
       "      <td>In July 2018, Bookmate was allegedly breached....</td>\n",
       "    </tr>\n",
       "    <tr>\n",
       "      <th>0</th>\n",
       "      <td>sh-family@yandex.ru</td>\n",
       "      <td>2020-05-21</td>\n",
       "      <td>vk.com</td>\n",
       "      <td>At some time in 2020, the Russian social netwo...</td>\n",
       "    </tr>\n",
       "    <tr>\n",
       "      <th>0</th>\n",
       "      <td>sh-family@yandex.ru</td>\n",
       "      <td>2018-06-19</td>\n",
       "      <td>storelp.ru</td>\n",
       "      <td>At an unconfirmed date, StoreLP.ru's database ...</td>\n",
       "    </tr>\n",
       "    <tr>\n",
       "      <th>0</th>\n",
       "      <td>sh-family@yandex.ru</td>\n",
       "      <td>2017-04-10</td>\n",
       "      <td>google.com/gmail</td>\n",
       "      <td>This collection of compromised Gmail users con...</td>\n",
       "    </tr>\n",
       "    <tr>\n",
       "      <th>0</th>\n",
       "      <td>sh-family@yandex.ru</td>\n",
       "      <td>2017-06-14</td>\n",
       "      <td>nnm-club.me</td>\n",
       "      <td>In September 2013, Russian torrent tracker NNM...</td>\n",
       "    </tr>\n",
       "    <tr>\n",
       "      <th>0</th>\n",
       "      <td>sh-family@yandex.ru</td>\n",
       "      <td>2019-03-20</td>\n",
       "      <td>bookmate.com</td>\n",
       "      <td>In July 2018, Bookmate was allegedly breached....</td>\n",
       "    </tr>\n",
       "    <tr>\n",
       "      <th>0</th>\n",
       "      <td>sh-family@yandex.ru</td>\n",
       "      <td>2020-05-21</td>\n",
       "      <td>vk.com</td>\n",
       "      <td>At some time in 2020, the Russian social netwo...</td>\n",
       "    </tr>\n",
       "    <tr>\n",
       "      <th>0</th>\n",
       "      <td>sh-family@yandex.ru</td>\n",
       "      <td>2018-06-19</td>\n",
       "      <td>storelp.ru</td>\n",
       "      <td>At an unconfirmed date, StoreLP.ru's database ...</td>\n",
       "    </tr>\n",
       "    <tr>\n",
       "      <th>0</th>\n",
       "      <td>sh-family@yandex.ru</td>\n",
       "      <td>2017-04-10</td>\n",
       "      <td>google.com/gmail</td>\n",
       "      <td>This collection of compromised Gmail users con...</td>\n",
       "    </tr>\n",
       "    <tr>\n",
       "      <th>0</th>\n",
       "      <td>sh-family@yandex.ru</td>\n",
       "      <td>2017-06-14</td>\n",
       "      <td>nnm-club.me</td>\n",
       "      <td>In September 2013, Russian torrent tracker NNM...</td>\n",
       "    </tr>\n",
       "  </tbody>\n",
       "</table>\n",
       "</div>"
      ],
      "text/plain": [
       "                  e-mail Дата утечки   Источник утечки  \\\n",
       "0  bulia.54rus@gmail.com  2019-03-20      bookmate.com   \n",
       "0  bulia.54rus@gmail.com  2020-05-21            vk.com   \n",
       "0  bulia.54rus@gmail.com  2018-06-19        storelp.ru   \n",
       "0  bulia.54rus@gmail.com  2017-04-10  google.com/gmail   \n",
       "0  bulia.54rus@gmail.com  2017-06-14       nnm-club.me   \n",
       "0  bulia.54rus@gmail.com  2019-03-20      bookmate.com   \n",
       "0  bulia.54rus@gmail.com  2020-05-21            vk.com   \n",
       "0  bulia.54rus@gmail.com  2018-06-19        storelp.ru   \n",
       "0  bulia.54rus@gmail.com  2017-04-10  google.com/gmail   \n",
       "0  bulia.54rus@gmail.com  2017-06-14       nnm-club.me   \n",
       "0    sh-family@yandex.ru  2019-03-20      bookmate.com   \n",
       "0    sh-family@yandex.ru  2020-05-21            vk.com   \n",
       "0    sh-family@yandex.ru  2018-06-19        storelp.ru   \n",
       "0    sh-family@yandex.ru  2017-04-10  google.com/gmail   \n",
       "0    sh-family@yandex.ru  2017-06-14       nnm-club.me   \n",
       "0    sh-family@yandex.ru  2019-03-20      bookmate.com   \n",
       "0    sh-family@yandex.ru  2020-05-21            vk.com   \n",
       "0    sh-family@yandex.ru  2018-06-19        storelp.ru   \n",
       "0    sh-family@yandex.ru  2017-04-10  google.com/gmail   \n",
       "0    sh-family@yandex.ru  2017-06-14       nnm-club.me   \n",
       "0    sh-family@yandex.ru  2019-03-20      bookmate.com   \n",
       "0    sh-family@yandex.ru  2020-05-21            vk.com   \n",
       "0    sh-family@yandex.ru  2018-06-19        storelp.ru   \n",
       "0    sh-family@yandex.ru  2017-04-10  google.com/gmail   \n",
       "0    sh-family@yandex.ru  2017-06-14       nnm-club.me   \n",
       "\n",
       "                                            Описание  \n",
       "0  In July 2018, Bookmate was allegedly breached....  \n",
       "0  At some time in 2020, the Russian social netwo...  \n",
       "0  At an unconfirmed date, StoreLP.ru's database ...  \n",
       "0  This collection of compromised Gmail users con...  \n",
       "0  In September 2013, Russian torrent tracker NNM...  \n",
       "0  In July 2018, Bookmate was allegedly breached....  \n",
       "0  At some time in 2020, the Russian social netwo...  \n",
       "0  At an unconfirmed date, StoreLP.ru's database ...  \n",
       "0  This collection of compromised Gmail users con...  \n",
       "0  In September 2013, Russian torrent tracker NNM...  \n",
       "0  In July 2018, Bookmate was allegedly breached....  \n",
       "0  At some time in 2020, the Russian social netwo...  \n",
       "0  At an unconfirmed date, StoreLP.ru's database ...  \n",
       "0  This collection of compromised Gmail users con...  \n",
       "0  In September 2013, Russian torrent tracker NNM...  \n",
       "0  In July 2018, Bookmate was allegedly breached....  \n",
       "0  At some time in 2020, the Russian social netwo...  \n",
       "0  At an unconfirmed date, StoreLP.ru's database ...  \n",
       "0  This collection of compromised Gmail users con...  \n",
       "0  In September 2013, Russian torrent tracker NNM...  \n",
       "0  In July 2018, Bookmate was allegedly breached....  \n",
       "0  At some time in 2020, the Russian social netwo...  \n",
       "0  At an unconfirmed date, StoreLP.ru's database ...  \n",
       "0  This collection of compromised Gmail users con...  \n",
       "0  In September 2013, Russian torrent tracker NNM...  "
      ]
     },
     "execution_count": 122,
     "metadata": {},
     "output_type": "execute_result"
    }
   ],
   "source": [
    "breaches = pd.DataFrame()\n",
    "for email in res.json()['summary'].keys():\n",
    "    for breach in res.json()['summary'][email]['breaches']:\n",
    "        for b_id in res.json()['breaches']:\n",
    "            row = {'e-mail': email,\n",
    "                   'Дата утечки': res.json()['breaches'][b_id]['publishDate'],\n",
    "                  'Источник утечки': res.json()['breaches'][b_id]['site'],\n",
    "                  'Описание': res.json()['breaches'][b_id]['description']}\n",
    "            breaches = pd.concat([breaches, pd.DataFrame([row])]) \n",
    "breaches['Дата утечки'] = pd.to_datetime(breaches['Дата утечки']).dt.date\n",
    "breaches"
   ]
  },
  {
   "cell_type": "markdown",
   "metadata": {},
   "source": [
    "#### 2.2. Дополнительная часть (необязательная)\n",
    "Написать скрипт, который будет получать 50 последних постов указанной группы во Вконтакте.\n",
    "Документация к API VK: https://vk.com/dev/methods , вам поможет метод wall.get\n",
    "\n",
    "GROUP = 'netology'  \n",
    "TOKEN = УДАЛЯЙТЕ В ВЕРСИИ ДЛЯ ПРОВЕРКИ, НА GITHUB НЕ ВЫКЛАДЫВАТЬ\n",
    "В итоге должен формироваться датафрейм со столбцами: <дата поста> - <текст поста>"
   ]
  },
  {
   "cell_type": "code",
   "execution_count": null,
   "metadata": {
    "scrolled": true
   },
   "outputs": [],
   "source": []
  }
 ],
 "metadata": {
  "kernelspec": {
   "display_name": "Python 3",
   "language": "python",
   "name": "python3"
  },
  "language_info": {
   "codemirror_mode": {
    "name": "ipython",
    "version": 3
   },
   "file_extension": ".py",
   "mimetype": "text/x-python",
   "name": "python",
   "nbconvert_exporter": "python",
   "pygments_lexer": "ipython3",
   "version": "3.8.5"
  }
 },
 "nbformat": 4,
 "nbformat_minor": 4
}
