{
 "cells": [
  {
   "cell_type": "markdown",
   "metadata": {},
   "source": [
    "# Домашнее задание №9.\n",
    "## Регулярные выражения\n",
    "**Выполнил: Шармашкеев Б.В.**"
   ]
  },
  {
   "cell_type": "code",
   "execution_count": 2,
   "metadata": {},
   "outputs": [],
   "source": [
    "import re"
   ]
  },
  {
   "cell_type": "markdown",
   "metadata": {},
   "source": [
    "### Задание 1.\n",
    "Напишите функцию, которая принимает на вход строку и проверяет является ли она валидным транспортным номером (1 буква, 3 цифры, 2 буквы, 2-3 цифры). Обратите внимание, что не все буквы кириллического алфавита используются в транспортных номерах.\n",
    "Если номер валиден, то функция должна возвращать отдельно номер и регион.\n",
    "\n",
    "**Примеры работы программы:**\n",
    "car_id = 'АВ222С96'\n",
    "*Результат: Номер АВ222С валиден. Регион: 96*\n",
    "\n",
    "car_id = 'АБ22ВВ193'\n",
    "*Результат: Номер не валиден*"
   ]
  },
  {
   "cell_type": "code",
   "execution_count": 20,
   "metadata": {},
   "outputs": [
    {
     "data": {
      "text/plain": [
       "[('А222ВС', '193')]"
      ]
     },
     "execution_count": 20,
     "metadata": {},
     "output_type": "execute_result"
    }
   ],
   "source": [
    "car_id_1 = 'АВ222С96'\n",
    "car_id_2 = 'А222ВС193'\n",
    "#car_id_pattern = r'([АВЕКМНОРСТУХ]\\d{3}[АВЕКМНОРСТУХ]{2})(\\d{2,3})'\n",
    "#re.findall(car_id_pattern, car_id_2)"
   ]
  },
  {
   "cell_type": "code",
   "execution_count": 59,
   "metadata": {},
   "outputs": [],
   "source": [
    "    def check_license_plate(car_id):\n",
    "        car_id_pattern = r'([АВЕКМНОРСТУХ]\\d{3}[АВЕКМНОРСТУХ]{2})(\\d{2,3})'\n",
    "        cid = re.findall(car_id_pattern, car_id)\n",
    "        if cid != []:\n",
    "            print(f\"Номер {cid[0][0]} валиден, регион {cid[0][1]}\")\n",
    "        else:\n",
    "            print('Номер не валиден')"
   ]
  },
  {
   "cell_type": "code",
   "execution_count": 60,
   "metadata": {},
   "outputs": [
    {
     "name": "stdout",
     "output_type": "stream",
     "text": [
      "Номер не валиден\n"
     ]
    }
   ],
   "source": [
    "check_license_plate(car_id_1)"
   ]
  },
  {
   "cell_type": "code",
   "execution_count": 61,
   "metadata": {},
   "outputs": [
    {
     "name": "stdout",
     "output_type": "stream",
     "text": [
      "Номер А222ВС валиден, регион 193\n"
     ]
    }
   ],
   "source": [
    "check_license_plate(car_id_2)"
   ]
  },
  {
   "cell_type": "markdown",
   "metadata": {},
   "source": [
    "### Задание 2.\n",
    "Напишите функцию, которая будет удалять все последовательные повторы слов из заданной строки при помощи регулярных выражений.\n",
    "\n",
    "**Пример работы программы:**\n",
    "some_string = ‘Напишите функцию функцию, которая будет будет будет будет удалять все все все все последовательные повторы слов из из из из заданной строки строки при помощи регулярных выражений’\n",
    "\n",
    "*Результат: Напишите функцию, которая будет удалять все последовательные повторы слов из заданной строки при помощи регулярных выражений.*"
   ]
  },
  {
   "cell_type": "code",
   "execution_count": 68,
   "metadata": {},
   "outputs": [],
   "source": [
    "some_string = \"\"\"Напишите функцию функцию, которая будет будет будет будет \n",
    "удалять все все все все последовательные повторы слов из из из из \n",
    "заданной строки строки при помощи регулярных выражений\"\"\""
   ]
  },
  {
   "cell_type": "code",
   "execution_count": 71,
   "metadata": {},
   "outputs": [],
   "source": [
    "def delete_repeats(string):\n",
    "    return re.sub(r'\\b(\\w+)(\\s+\\1)+\\b', r'\\1', re.sub(r'\\n', '', string))"
   ]
  },
  {
   "cell_type": "code",
   "execution_count": 72,
   "metadata": {},
   "outputs": [
    {
     "data": {
      "text/plain": [
       "'Напишите функцию, которая будет удалять все последовательные повторы слов из заданной строки при помощи регулярных выражений'"
      ]
     },
     "execution_count": 72,
     "metadata": {},
     "output_type": "execute_result"
    }
   ],
   "source": [
    "delete_repeats(some_string)"
   ]
  },
  {
   "cell_type": "markdown",
   "metadata": {},
   "source": [
    "### Задание 3.\n",
    "Напишите функцию, которая будет возвращать акроним по переданной в нее строке со словами.\n",
    "\n",
    "**Примеры работы программы:**\n",
    "some_words = 'Информационные технологии'\n",
    "*Результат: ИТ*\n",
    "\n",
    "some_words = 'Near Field Communication'\n",
    "*Результат: NFC*"
   ]
  },
  {
   "cell_type": "code",
   "execution_count": 17,
   "metadata": {},
   "outputs": [],
   "source": [
    "some_words_1 = 'Информационные технологии'\n",
    "some_words_2 = 'Near Field Communication'"
   ]
  },
  {
   "cell_type": "code",
   "execution_count": 18,
   "metadata": {},
   "outputs": [],
   "source": [
    "def acronym_for_string(string):\n",
    "    acronym = ''\n",
    "    for letter in re.findall(r'\\b\\w', string):\n",
    "        acronym = acronym + letter\n",
    "    acronym = acronym.upper()\n",
    "    return acronym"
   ]
  },
  {
   "cell_type": "code",
   "execution_count": 19,
   "metadata": {},
   "outputs": [
    {
     "data": {
      "text/plain": [
       "'ИТ'"
      ]
     },
     "execution_count": 19,
     "metadata": {},
     "output_type": "execute_result"
    }
   ],
   "source": [
    "acronym_for_string(some_words_1)"
   ]
  },
  {
   "cell_type": "code",
   "execution_count": 20,
   "metadata": {},
   "outputs": [
    {
     "data": {
      "text/plain": [
       "'NFC'"
      ]
     },
     "execution_count": 20,
     "metadata": {},
     "output_type": "execute_result"
    }
   ],
   "source": [
    "acronym_for_string(some_words_2)"
   ]
  },
  {
   "cell_type": "markdown",
   "metadata": {},
   "source": [
    "### Задание 4.\n",
    "Напишите функцию, которая будет принимать на вход список email-адресов и выводить их распределение по доменным зонам.\n",
    "\n",
    "**Пример работы программы:**\n",
    "emails = ['test@gmail.com', 'xyz@test.in', 'test@ya.ru', 'xyz@mail.ru', 'xyz@ya.ru', 'xyz@gmail.com']\n",
    "\n",
    "*Результат:\n",
    "gmail.com: 2\n",
    "test.in: 1\n",
    "ya.ru: 2\n",
    "mail.ru: 1*"
   ]
  },
  {
   "cell_type": "code",
   "execution_count": 2,
   "metadata": {},
   "outputs": [],
   "source": [
    "emails = ['test@gmail.com', 'xyz@test.in', 'test@ya.ru', 'xyz@mail.ru', 'xyz@ya.ru', 'xyz@gmail.com']"
   ]
  },
  {
   "cell_type": "code",
   "execution_count": 13,
   "metadata": {},
   "outputs": [],
   "source": [
    "def count_domains(emails_list):\n",
    "    counters = {}\n",
    "    emails_str = ' '.join(emails_list) # перевод в строку позволяет перебрать спискос адресов без цикла\n",
    "    domains = re.findall(r'\\w+\\.\\w{2,4}', emails_str)\n",
    "    \n",
    "    # использование словаря позволяет не контролировать уникальность пар ключ-занчение\n",
    "    for d in domains:\n",
    "        counters[d] = domains.count(d)\n",
    "        \n",
    "    # вывод данных в нужном формате\n",
    "    for k, v in counters.items():\n",
    "        print(f\"{k}: {v}\")"
   ]
  },
  {
   "cell_type": "code",
   "execution_count": 14,
   "metadata": {},
   "outputs": [
    {
     "name": "stdout",
     "output_type": "stream",
     "text": [
      "gmail.com: 2\n",
      "test.in: 1\n",
      "ya.ru: 2\n",
      "mail.ru: 1\n"
     ]
    }
   ],
   "source": [
    "count_domains(emails)"
   ]
  },
  {
   "cell_type": "markdown",
   "metadata": {},
   "source": [
    "### Задание 5 (доп.).\n",
    "Напишите функцию, которая будет подсчитывать сколько слов начинается на гласные, а сколько на согласные буквы в тексте (текст может быть написан как с использованием букв кириллицы, так и латиницы).\n",
    "\n",
    "**Пример работы программы:**\n",
    "\n",
    "some_text = 'Эталонной реализацией Python является интерпретатор CPython, поддерживающий большинство активно используемых платформ. Он распространяется под свободной лицензией Python Software Foundation License, позволяющей использовать его без ограничений в любых приложениях, включая проприетарные.'\n",
    "\n",
    "*Результат:\n",
    "Слов на гласные буквы: 9\n",
    "Слов на согласные буквы: 21*"
   ]
  },
  {
   "cell_type": "code",
   "execution_count": 53,
   "metadata": {
    "scrolled": true
   },
   "outputs": [],
   "source": [
    "some_text = \"\"\"Эталонной реализацией Python является интерпретатор CPython,\n",
    "поддерживающий большинство активно используемых платформ. Он распространяется\n",
    "под свободной лицензией Python Software Foundation License, позволяющей использовать\n",
    "его без ограничений в любых приложениях,включая проприетарные.\"\"\""
   ]
  },
  {
   "cell_type": "code",
   "execution_count": 50,
   "metadata": {},
   "outputs": [],
   "source": [
    "def count_words_vowel_consonants(text):\n",
    "    text = re.sub(r'\\s+', ' ', text)\n",
    "    pattern_vowels = r'\\b[АЕЁИОУЫЭЮЯаеёиоуыэюяAEIOUYaeiouy]'\n",
    "    pattern_consonants = r'\\b[БВГДЖЗЙКЛМНПРСТФХЧЦШЩбвгджзйклмнпрстфхчцшщBCDFGHJKLMNPQRSTVWXYZbcdfghjklmnpqrstvwxyz]'\n",
    "    print(f\"Слов на гласные: {len(re.findall(pattern_vowels, text))}.\")\n",
    "    print(f\"Слов на согласные: {len(re.findall(pattern_consonants, text))}.\")                                                                                       "
   ]
  },
  {
   "cell_type": "code",
   "execution_count": 54,
   "metadata": {},
   "outputs": [
    {
     "name": "stdout",
     "output_type": "stream",
     "text": [
      "Слов на гласные: 9.\n",
      "Слов на согласные: 21.\n"
     ]
    }
   ],
   "source": [
    "count_words_vowel_consonants(some_text)"
   ]
  },
  {
   "cell_type": "markdown",
   "metadata": {},
   "source": [
    "### Задание 6 (доп.).\n",
    "Напишите функцию, которая будет проверять номер сотового телефона на валидность, если он валиден, то переводить его в формат:\n",
    "+7-xxx-xxx-xx-xx\n",
    "Постарайтесь предусмотреть как можно больше адекватных форматов изначального ввода номера. Примеры работы программы:\n",
    "\n",
    "phone = '+7 955 555-55-55'\n",
    "*Результат: +7-950-555-55-55*\n",
    "\n",
    "phone = '8(955)555-55-55'\n",
    "*Результат: +7-950-555-55-55*\n",
    "\n",
    "phone = '+7 955 555 55 55'\n",
    "*Результат: +7-950-555-55-55*\n",
    "\n",
    "phone = '7(955) 555-55-55'\n",
    "*Результат: +7-950-555-55-55*\n",
    "\n",
    "phone = '423-555-55-5555'\n",
    "*Результат: Номер не валиден*\n",
    "\n",
    "phone = '123-456-789'\n",
    "*Результат: Номер не валиден*"
   ]
  },
  {
   "cell_type": "code",
   "execution_count": 52,
   "metadata": {},
   "outputs": [],
   "source": [
    "def phone_validation(phone):\n",
    "    pattern = r'(\\+?[78])[\\s\\(]?[\\-\\(|]?[\\s\\(|\\s|\\-|\\(]?(\\d{3})[\\s|\\-|\\)]?[\\)\\s]?[\\)\\-]?(\\d{3})[\\s|\\-]?(\\d{2})[\\s|\\-]?(\\d{2})'\n",
    "    groups = re.findall(pattern, phone)\n",
    "    if groups == []:\n",
    "        print(\"Номер не валиден\")\n",
    "    else:\n",
    "        groups_list = list(groups[0])\n",
    "        if groups_list[0] != '+7':\n",
    "            groups_list[0] = '+7'\n",
    "        print('-'.join(groups_list))"
   ]
  },
  {
   "cell_type": "code",
   "execution_count": 60,
   "metadata": {},
   "outputs": [],
   "source": [
    "phones = ['8(955)555-55-55', '+7 955 555 55 55', '+7 955 555 55 55', '7 (955) 555-55-55', '423-555-55-5555', '123-456-789']"
   ]
  },
  {
   "cell_type": "code",
   "execution_count": 61,
   "metadata": {},
   "outputs": [
    {
     "name": "stdout",
     "output_type": "stream",
     "text": [
      "+7-955-555-55-55\n",
      "+7-955-555-55-55\n",
      "+7-955-555-55-55\n",
      "+7-955-555-55-55\n",
      "Номер не валиден\n",
      "Номер не валиден\n"
     ]
    }
   ],
   "source": [
    "# цикл только для удобства проверки\n",
    "for phone_number in phones:\n",
    "    phone_validation(phone_number)"
   ]
  }
 ],
 "metadata": {
  "kernelspec": {
   "display_name": "Python 3",
   "language": "python",
   "name": "python3"
  },
  "language_info": {
   "codemirror_mode": {
    "name": "ipython",
    "version": 3
   },
   "file_extension": ".py",
   "mimetype": "text/x-python",
   "name": "python",
   "nbconvert_exporter": "python",
   "pygments_lexer": "ipython3",
   "version": "3.8.5"
  }
 },
 "nbformat": 4,
 "nbformat_minor": 4
}
