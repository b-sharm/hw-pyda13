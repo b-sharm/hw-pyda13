{
 "cells": [
  {
   "cell_type": "markdown",
   "metadata": {},
   "source": [
    "# Домашнее задание №16.\n",
    "## Основы визуализации данных в Python\n",
    "**Выполнил: Шармашкеев Б.В.**"
   ]
  },
  {
   "cell_type": "code",
   "execution_count": 4,
   "metadata": {
    "scrolled": true
   },
   "outputs": [],
   "source": [
    "import matplotlib.pyplot as plt\n",
    "import pandas as pd\n",
    "import seaborn as sns"
   ]
  },
  {
   "cell_type": "code",
   "execution_count": 200,
   "metadata": {},
   "outputs": [],
   "source": [
    "#увеличим дефолтный размер графиков\n",
    "from pylab import rcParams\n",
    "rcParams['figure.figsize'] = 15,6"
   ]
  },
  {
   "cell_type": "markdown",
   "metadata": {},
   "source": [
    "### Данные О дорожных Столкновениях в Лос-Анджелесе c 2010 по ноябрь 2019\n",
    "Ссылка: https://www.kaggle.com/cityofLA/los-angeles-traffic-collision-data?select=traffic-collision-data-from-2010-to-present.csv"
   ]
  },
  {
   "cell_type": "code",
   "execution_count": 36,
   "metadata": {
    "scrolled": false
   },
   "outputs": [
    {
     "data": {
      "text/html": [
       "<div>\n",
       "<style scoped>\n",
       "    .dataframe tbody tr th:only-of-type {\n",
       "        vertical-align: middle;\n",
       "    }\n",
       "\n",
       "    .dataframe tbody tr th {\n",
       "        vertical-align: top;\n",
       "    }\n",
       "\n",
       "    .dataframe thead th {\n",
       "        text-align: right;\n",
       "    }\n",
       "</style>\n",
       "<table border=\"1\" class=\"dataframe\">\n",
       "  <thead>\n",
       "    <tr style=\"text-align: right;\">\n",
       "      <th></th>\n",
       "      <th>DR Number</th>\n",
       "      <th>Date Reported</th>\n",
       "      <th>Date Occurred</th>\n",
       "      <th>Time Occurred</th>\n",
       "      <th>Area ID</th>\n",
       "      <th>Area Name</th>\n",
       "      <th>Reporting District</th>\n",
       "      <th>Crime Code</th>\n",
       "      <th>Crime Code Description</th>\n",
       "      <th>MO Codes</th>\n",
       "      <th>...</th>\n",
       "      <th>Premise Description</th>\n",
       "      <th>Address</th>\n",
       "      <th>Cross Street</th>\n",
       "      <th>Location</th>\n",
       "      <th>Zip Codes</th>\n",
       "      <th>Census Tracts</th>\n",
       "      <th>Precinct Boundaries</th>\n",
       "      <th>LA Specific Plans</th>\n",
       "      <th>Council Districts</th>\n",
       "      <th>Neighborhood Councils (Certified)</th>\n",
       "    </tr>\n",
       "  </thead>\n",
       "  <tbody>\n",
       "    <tr>\n",
       "      <th>0</th>\n",
       "      <td>191323054</td>\n",
       "      <td>2019-11-30T00:00:00.000</td>\n",
       "      <td>2019-11-30T00:00:00.000</td>\n",
       "      <td>130</td>\n",
       "      <td>13</td>\n",
       "      <td>Newton</td>\n",
       "      <td>1385</td>\n",
       "      <td>997</td>\n",
       "      <td>TRAFFIC COLLISION</td>\n",
       "      <td>NaN</td>\n",
       "      <td>...</td>\n",
       "      <td>STREET</td>\n",
       "      <td>SAN PEDRO                    ST</td>\n",
       "      <td>SLAUSON                      AV</td>\n",
       "      <td>{'longitude': '-118.2696', 'human_address': '{...</td>\n",
       "      <td>22352.0</td>\n",
       "      <td>786.0</td>\n",
       "      <td>858.0</td>\n",
       "      <td>7.0</td>\n",
       "      <td>13.0</td>\n",
       "      <td>46.0</td>\n",
       "    </tr>\n",
       "    <tr>\n",
       "      <th>1</th>\n",
       "      <td>192020666</td>\n",
       "      <td>2019-11-30T00:00:00.000</td>\n",
       "      <td>2019-11-30T00:00:00.000</td>\n",
       "      <td>15</td>\n",
       "      <td>20</td>\n",
       "      <td>Olympic</td>\n",
       "      <td>2054</td>\n",
       "      <td>997</td>\n",
       "      <td>TRAFFIC COLLISION</td>\n",
       "      <td>NaN</td>\n",
       "      <td>...</td>\n",
       "      <td>STREET</td>\n",
       "      <td>OLYMPIC                      BL</td>\n",
       "      <td>KINGSLEY                     AV</td>\n",
       "      <td>{'longitude': '-118.3031', 'human_address': '{...</td>\n",
       "      <td>22723.0</td>\n",
       "      <td>617.0</td>\n",
       "      <td>646.0</td>\n",
       "      <td>NaN</td>\n",
       "      <td>12.0</td>\n",
       "      <td>89.0</td>\n",
       "    </tr>\n",
       "    <tr>\n",
       "      <th>2</th>\n",
       "      <td>191616992</td>\n",
       "      <td>2019-11-30T00:00:00.000</td>\n",
       "      <td>2019-11-30T00:00:00.000</td>\n",
       "      <td>230</td>\n",
       "      <td>16</td>\n",
       "      <td>Foothill</td>\n",
       "      <td>1669</td>\n",
       "      <td>997</td>\n",
       "      <td>TRAFFIC COLLISION</td>\n",
       "      <td>NaN</td>\n",
       "      <td>...</td>\n",
       "      <td>STREET</td>\n",
       "      <td>TUJUNGA CANYON               BL</td>\n",
       "      <td>LA TUNA CANYON               RD</td>\n",
       "      <td>{'longitude': '-118.2704', 'human_address': '{...</td>\n",
       "      <td>3222.0</td>\n",
       "      <td>5.0</td>\n",
       "      <td>227.0</td>\n",
       "      <td>NaN</td>\n",
       "      <td>1.0</td>\n",
       "      <td>7.0</td>\n",
       "    </tr>\n",
       "    <tr>\n",
       "      <th>3</th>\n",
       "      <td>191824082</td>\n",
       "      <td>2019-11-30T00:00:00.000</td>\n",
       "      <td>2019-11-30T00:00:00.000</td>\n",
       "      <td>730</td>\n",
       "      <td>18</td>\n",
       "      <td>Southeast</td>\n",
       "      <td>1802</td>\n",
       "      <td>997</td>\n",
       "      <td>TRAFFIC COLLISION</td>\n",
       "      <td>0605</td>\n",
       "      <td>...</td>\n",
       "      <td>STREET</td>\n",
       "      <td>88TH                         ST</td>\n",
       "      <td>MAIN                         ST</td>\n",
       "      <td>{'longitude': '-118.2739', 'human_address': '{...</td>\n",
       "      <td>22352.0</td>\n",
       "      <td>800.0</td>\n",
       "      <td>358.0</td>\n",
       "      <td>7.0</td>\n",
       "      <td>14.0</td>\n",
       "      <td>45.0</td>\n",
       "    </tr>\n",
       "    <tr>\n",
       "      <th>4</th>\n",
       "      <td>191616980</td>\n",
       "      <td>2019-11-30T00:00:00.000</td>\n",
       "      <td>2019-11-30T00:00:00.000</td>\n",
       "      <td>720</td>\n",
       "      <td>16</td>\n",
       "      <td>Foothill</td>\n",
       "      <td>1689</td>\n",
       "      <td>997</td>\n",
       "      <td>TRAFFIC COLLISION</td>\n",
       "      <td>NaN</td>\n",
       "      <td>...</td>\n",
       "      <td>STREET</td>\n",
       "      <td>CROCKETT</td>\n",
       "      <td>SUNLAND</td>\n",
       "      <td>{'longitude': '-118.3703', 'human_address': '{...</td>\n",
       "      <td>19335.0</td>\n",
       "      <td>166.0</td>\n",
       "      <td>272.0</td>\n",
       "      <td>NaN</td>\n",
       "      <td>3.0</td>\n",
       "      <td>21.0</td>\n",
       "    </tr>\n",
       "    <tr>\n",
       "      <th>...</th>\n",
       "      <td>...</td>\n",
       "      <td>...</td>\n",
       "      <td>...</td>\n",
       "      <td>...</td>\n",
       "      <td>...</td>\n",
       "      <td>...</td>\n",
       "      <td>...</td>\n",
       "      <td>...</td>\n",
       "      <td>...</td>\n",
       "      <td>...</td>\n",
       "      <td>...</td>\n",
       "      <td>...</td>\n",
       "      <td>...</td>\n",
       "      <td>...</td>\n",
       "      <td>...</td>\n",
       "      <td>...</td>\n",
       "      <td>...</td>\n",
       "      <td>...</td>\n",
       "      <td>...</td>\n",
       "      <td>...</td>\n",
       "      <td>...</td>\n",
       "    </tr>\n",
       "    <tr>\n",
       "      <th>502853</th>\n",
       "      <td>100604050</td>\n",
       "      <td>2010-01-01T00:00:00.000</td>\n",
       "      <td>2010-01-01T00:00:00.000</td>\n",
       "      <td>335</td>\n",
       "      <td>6</td>\n",
       "      <td>Hollywood</td>\n",
       "      <td>637</td>\n",
       "      <td>997</td>\n",
       "      <td>TRAFFIC COLLISION</td>\n",
       "      <td>NaN</td>\n",
       "      <td>...</td>\n",
       "      <td>STREET</td>\n",
       "      <td>HOLLYWOOD                    BL</td>\n",
       "      <td>GOWER                        ST</td>\n",
       "      <td>{'longitude': '-118.3224', 'human_address': '{...</td>\n",
       "      <td>23446.0</td>\n",
       "      <td>427.0</td>\n",
       "      <td>573.0</td>\n",
       "      <td>NaN</td>\n",
       "      <td>8.0</td>\n",
       "      <td>64.0</td>\n",
       "    </tr>\n",
       "    <tr>\n",
       "      <th>502854</th>\n",
       "      <td>101404164</td>\n",
       "      <td>2010-01-03T00:00:00.000</td>\n",
       "      <td>2010-01-01T00:00:00.000</td>\n",
       "      <td>1900</td>\n",
       "      <td>14</td>\n",
       "      <td>Pacific</td>\n",
       "      <td>1437</td>\n",
       "      <td>997</td>\n",
       "      <td>TRAFFIC COLLISION</td>\n",
       "      <td>1501</td>\n",
       "      <td>...</td>\n",
       "      <td>STREET</td>\n",
       "      <td>VENICE                       BL</td>\n",
       "      <td>SEPULVEDA</td>\n",
       "      <td>{'longitude': '-118.4172', 'human_address': '{...</td>\n",
       "      <td>23451.0</td>\n",
       "      <td>896.0</td>\n",
       "      <td>1239.0</td>\n",
       "      <td>NaN</td>\n",
       "      <td>6.0</td>\n",
       "      <td>74.0</td>\n",
       "    </tr>\n",
       "    <tr>\n",
       "      <th>502855</th>\n",
       "      <td>101204051</td>\n",
       "      <td>2010-01-01T00:00:00.000</td>\n",
       "      <td>2010-01-01T00:00:00.000</td>\n",
       "      <td>900</td>\n",
       "      <td>12</td>\n",
       "      <td>77th Street</td>\n",
       "      <td>1259</td>\n",
       "      <td>997</td>\n",
       "      <td>TRAFFIC COLLISION</td>\n",
       "      <td>NaN</td>\n",
       "      <td>...</td>\n",
       "      <td>STREET</td>\n",
       "      <td>AVALON                       BL</td>\n",
       "      <td>75TH                         ST</td>\n",
       "      <td>{'longitude': '-118.2652', 'human_address': '{...</td>\n",
       "      <td>22352.0</td>\n",
       "      <td>790.0</td>\n",
       "      <td>998.0</td>\n",
       "      <td>7.0</td>\n",
       "      <td>13.0</td>\n",
       "      <td>46.0</td>\n",
       "    </tr>\n",
       "    <tr>\n",
       "      <th>502856</th>\n",
       "      <td>100304221</td>\n",
       "      <td>2010-01-05T00:00:00.000</td>\n",
       "      <td>2010-01-01T00:00:00.000</td>\n",
       "      <td>245</td>\n",
       "      <td>3</td>\n",
       "      <td>Southwest</td>\n",
       "      <td>378</td>\n",
       "      <td>997</td>\n",
       "      <td>TRAFFIC COLLISION</td>\n",
       "      <td>0605</td>\n",
       "      <td>...</td>\n",
       "      <td>STREET</td>\n",
       "      <td>FIGUEROA</td>\n",
       "      <td>39TH                         ST</td>\n",
       "      <td>{'longitude': '-118.2827', 'human_address': '{...</td>\n",
       "      <td>23668.0</td>\n",
       "      <td>727.0</td>\n",
       "      <td>977.0</td>\n",
       "      <td>7.0</td>\n",
       "      <td>13.0</td>\n",
       "      <td>32.0</td>\n",
       "    </tr>\n",
       "    <tr>\n",
       "      <th>502857</th>\n",
       "      <td>101804056</td>\n",
       "      <td>2010-01-02T00:00:00.000</td>\n",
       "      <td>2010-01-01T00:00:00.000</td>\n",
       "      <td>2100</td>\n",
       "      <td>18</td>\n",
       "      <td>Southeast</td>\n",
       "      <td>1822</td>\n",
       "      <td>997</td>\n",
       "      <td>TRAFFIC COLLISION</td>\n",
       "      <td>NaN</td>\n",
       "      <td>...</td>\n",
       "      <td>STREET</td>\n",
       "      <td>FIGUEROA                     ST</td>\n",
       "      <td>CENTURY                      BL</td>\n",
       "      <td>{'longitude': '-118.2826', 'human_address': '{...</td>\n",
       "      <td>22352.0</td>\n",
       "      <td>803.0</td>\n",
       "      <td>1165.0</td>\n",
       "      <td>7.0</td>\n",
       "      <td>14.0</td>\n",
       "      <td>45.0</td>\n",
       "    </tr>\n",
       "  </tbody>\n",
       "</table>\n",
       "<p>502858 rows × 24 columns</p>\n",
       "</div>"
      ],
      "text/plain": [
       "        DR Number            Date Reported            Date Occurred  \\\n",
       "0       191323054  2019-11-30T00:00:00.000  2019-11-30T00:00:00.000   \n",
       "1       192020666  2019-11-30T00:00:00.000  2019-11-30T00:00:00.000   \n",
       "2       191616992  2019-11-30T00:00:00.000  2019-11-30T00:00:00.000   \n",
       "3       191824082  2019-11-30T00:00:00.000  2019-11-30T00:00:00.000   \n",
       "4       191616980  2019-11-30T00:00:00.000  2019-11-30T00:00:00.000   \n",
       "...           ...                      ...                      ...   \n",
       "502853  100604050  2010-01-01T00:00:00.000  2010-01-01T00:00:00.000   \n",
       "502854  101404164  2010-01-03T00:00:00.000  2010-01-01T00:00:00.000   \n",
       "502855  101204051  2010-01-01T00:00:00.000  2010-01-01T00:00:00.000   \n",
       "502856  100304221  2010-01-05T00:00:00.000  2010-01-01T00:00:00.000   \n",
       "502857  101804056  2010-01-02T00:00:00.000  2010-01-01T00:00:00.000   \n",
       "\n",
       "        Time Occurred  Area ID    Area Name  Reporting District  Crime Code  \\\n",
       "0                 130       13       Newton                1385         997   \n",
       "1                  15       20      Olympic                2054         997   \n",
       "2                 230       16     Foothill                1669         997   \n",
       "3                 730       18    Southeast                1802         997   \n",
       "4                 720       16     Foothill                1689         997   \n",
       "...               ...      ...          ...                 ...         ...   \n",
       "502853            335        6    Hollywood                 637         997   \n",
       "502854           1900       14      Pacific                1437         997   \n",
       "502855            900       12  77th Street                1259         997   \n",
       "502856            245        3    Southwest                 378         997   \n",
       "502857           2100       18    Southeast                1822         997   \n",
       "\n",
       "       Crime Code Description MO Codes  ...  Premise Description  \\\n",
       "0           TRAFFIC COLLISION      NaN  ...               STREET   \n",
       "1           TRAFFIC COLLISION      NaN  ...               STREET   \n",
       "2           TRAFFIC COLLISION      NaN  ...               STREET   \n",
       "3           TRAFFIC COLLISION     0605  ...               STREET   \n",
       "4           TRAFFIC COLLISION      NaN  ...               STREET   \n",
       "...                       ...      ...  ...                  ...   \n",
       "502853      TRAFFIC COLLISION      NaN  ...               STREET   \n",
       "502854      TRAFFIC COLLISION     1501  ...               STREET   \n",
       "502855      TRAFFIC COLLISION      NaN  ...               STREET   \n",
       "502856      TRAFFIC COLLISION     0605  ...               STREET   \n",
       "502857      TRAFFIC COLLISION      NaN  ...               STREET   \n",
       "\n",
       "                                Address                     Cross Street  \\\n",
       "0       SAN PEDRO                    ST  SLAUSON                      AV   \n",
       "1       OLYMPIC                      BL  KINGSLEY                     AV   \n",
       "2       TUJUNGA CANYON               BL  LA TUNA CANYON               RD   \n",
       "3       88TH                         ST  MAIN                         ST   \n",
       "4                              CROCKETT                          SUNLAND   \n",
       "...                                 ...                              ...   \n",
       "502853  HOLLYWOOD                    BL  GOWER                        ST   \n",
       "502854  VENICE                       BL                        SEPULVEDA   \n",
       "502855  AVALON                       BL  75TH                         ST   \n",
       "502856                         FIGUEROA  39TH                         ST   \n",
       "502857  FIGUEROA                     ST  CENTURY                      BL   \n",
       "\n",
       "                                                 Location Zip Codes  \\\n",
       "0       {'longitude': '-118.2696', 'human_address': '{...   22352.0   \n",
       "1       {'longitude': '-118.3031', 'human_address': '{...   22723.0   \n",
       "2       {'longitude': '-118.2704', 'human_address': '{...    3222.0   \n",
       "3       {'longitude': '-118.2739', 'human_address': '{...   22352.0   \n",
       "4       {'longitude': '-118.3703', 'human_address': '{...   19335.0   \n",
       "...                                                   ...       ...   \n",
       "502853  {'longitude': '-118.3224', 'human_address': '{...   23446.0   \n",
       "502854  {'longitude': '-118.4172', 'human_address': '{...   23451.0   \n",
       "502855  {'longitude': '-118.2652', 'human_address': '{...   22352.0   \n",
       "502856  {'longitude': '-118.2827', 'human_address': '{...   23668.0   \n",
       "502857  {'longitude': '-118.2826', 'human_address': '{...   22352.0   \n",
       "\n",
       "       Census Tracts Precinct Boundaries LA Specific Plans  Council Districts  \\\n",
       "0              786.0               858.0               7.0               13.0   \n",
       "1              617.0               646.0               NaN               12.0   \n",
       "2                5.0               227.0               NaN                1.0   \n",
       "3              800.0               358.0               7.0               14.0   \n",
       "4              166.0               272.0               NaN                3.0   \n",
       "...              ...                 ...               ...                ...   \n",
       "502853         427.0               573.0               NaN                8.0   \n",
       "502854         896.0              1239.0               NaN                6.0   \n",
       "502855         790.0               998.0               7.0               13.0   \n",
       "502856         727.0               977.0               7.0               13.0   \n",
       "502857         803.0              1165.0               7.0               14.0   \n",
       "\n",
       "        Neighborhood Councils (Certified)  \n",
       "0                                    46.0  \n",
       "1                                    89.0  \n",
       "2                                     7.0  \n",
       "3                                    45.0  \n",
       "4                                    21.0  \n",
       "...                                   ...  \n",
       "502853                               64.0  \n",
       "502854                               74.0  \n",
       "502855                               46.0  \n",
       "502856                               32.0  \n",
       "502857                               45.0  \n",
       "\n",
       "[502858 rows x 24 columns]"
      ]
     },
     "execution_count": 36,
     "metadata": {},
     "output_type": "execute_result"
    }
   ],
   "source": [
    "df = pd.read_csv('traffic-collision-data-from-2010-to-present.csv')\n",
    "df"
   ]
  },
  {
   "cell_type": "code",
   "execution_count": 37,
   "metadata": {},
   "outputs": [
    {
     "data": {
      "text/plain": [
       "Index(['DR Number', 'Date Reported', 'Date Occurred', 'Time Occurred',\n",
       "       'Area ID', 'Area Name', 'Reporting District', 'Crime Code',\n",
       "       'Crime Code Description', 'MO Codes', 'Victim Age', 'Victim Sex',\n",
       "       'Victim Descent', 'Premise Code', 'Premise Description', 'Address',\n",
       "       'Cross Street', 'Location', 'Zip Codes', 'Census Tracts',\n",
       "       'Precinct Boundaries', 'LA Specific Plans', 'Council Districts',\n",
       "       'Neighborhood Councils (Certified)'],\n",
       "      dtype='object')"
      ]
     },
     "execution_count": 37,
     "metadata": {},
     "output_type": "execute_result"
    }
   ],
   "source": [
    "# Спосок столбцов фрейма\n",
    "df.columns"
   ]
  },
  {
   "cell_type": "code",
   "execution_count": 38,
   "metadata": {
    "scrolled": false
   },
   "outputs": [
    {
     "data": {
      "text/html": [
       "<div>\n",
       "<style scoped>\n",
       "    .dataframe tbody tr th:only-of-type {\n",
       "        vertical-align: middle;\n",
       "    }\n",
       "\n",
       "    .dataframe tbody tr th {\n",
       "        vertical-align: top;\n",
       "    }\n",
       "\n",
       "    .dataframe thead th {\n",
       "        text-align: right;\n",
       "    }\n",
       "</style>\n",
       "<table border=\"1\" class=\"dataframe\">\n",
       "  <thead>\n",
       "    <tr style=\"text-align: right;\">\n",
       "      <th></th>\n",
       "      <th>DR Number</th>\n",
       "      <th>Date Reported</th>\n",
       "      <th>Date Occurred</th>\n",
       "      <th>Area ID</th>\n",
       "      <th>Area Name</th>\n",
       "      <th>Reporting District</th>\n",
       "      <th>Victim Age</th>\n",
       "      <th>Victim Sex</th>\n",
       "    </tr>\n",
       "  </thead>\n",
       "  <tbody>\n",
       "    <tr>\n",
       "      <th>0</th>\n",
       "      <td>191323054</td>\n",
       "      <td>2019-11-30T00:00:00.000</td>\n",
       "      <td>2019-11-30T00:00:00.000</td>\n",
       "      <td>13</td>\n",
       "      <td>Newton</td>\n",
       "      <td>1385</td>\n",
       "      <td>NaN</td>\n",
       "      <td>F</td>\n",
       "    </tr>\n",
       "    <tr>\n",
       "      <th>1</th>\n",
       "      <td>192020666</td>\n",
       "      <td>2019-11-30T00:00:00.000</td>\n",
       "      <td>2019-11-30T00:00:00.000</td>\n",
       "      <td>20</td>\n",
       "      <td>Olympic</td>\n",
       "      <td>2054</td>\n",
       "      <td>40.0</td>\n",
       "      <td>M</td>\n",
       "    </tr>\n",
       "    <tr>\n",
       "      <th>2</th>\n",
       "      <td>191616992</td>\n",
       "      <td>2019-11-30T00:00:00.000</td>\n",
       "      <td>2019-11-30T00:00:00.000</td>\n",
       "      <td>16</td>\n",
       "      <td>Foothill</td>\n",
       "      <td>1669</td>\n",
       "      <td>18.0</td>\n",
       "      <td>M</td>\n",
       "    </tr>\n",
       "    <tr>\n",
       "      <th>3</th>\n",
       "      <td>191824082</td>\n",
       "      <td>2019-11-30T00:00:00.000</td>\n",
       "      <td>2019-11-30T00:00:00.000</td>\n",
       "      <td>18</td>\n",
       "      <td>Southeast</td>\n",
       "      <td>1802</td>\n",
       "      <td>23.0</td>\n",
       "      <td>M</td>\n",
       "    </tr>\n",
       "    <tr>\n",
       "      <th>4</th>\n",
       "      <td>191616980</td>\n",
       "      <td>2019-11-30T00:00:00.000</td>\n",
       "      <td>2019-11-30T00:00:00.000</td>\n",
       "      <td>16</td>\n",
       "      <td>Foothill</td>\n",
       "      <td>1689</td>\n",
       "      <td>NaN</td>\n",
       "      <td>M</td>\n",
       "    </tr>\n",
       "    <tr>\n",
       "      <th>...</th>\n",
       "      <td>...</td>\n",
       "      <td>...</td>\n",
       "      <td>...</td>\n",
       "      <td>...</td>\n",
       "      <td>...</td>\n",
       "      <td>...</td>\n",
       "      <td>...</td>\n",
       "      <td>...</td>\n",
       "    </tr>\n",
       "    <tr>\n",
       "      <th>502853</th>\n",
       "      <td>100604050</td>\n",
       "      <td>2010-01-01T00:00:00.000</td>\n",
       "      <td>2010-01-01T00:00:00.000</td>\n",
       "      <td>6</td>\n",
       "      <td>Hollywood</td>\n",
       "      <td>637</td>\n",
       "      <td>NaN</td>\n",
       "      <td>M</td>\n",
       "    </tr>\n",
       "    <tr>\n",
       "      <th>502854</th>\n",
       "      <td>101404164</td>\n",
       "      <td>2010-01-03T00:00:00.000</td>\n",
       "      <td>2010-01-01T00:00:00.000</td>\n",
       "      <td>14</td>\n",
       "      <td>Pacific</td>\n",
       "      <td>1437</td>\n",
       "      <td>NaN</td>\n",
       "      <td>M</td>\n",
       "    </tr>\n",
       "    <tr>\n",
       "      <th>502855</th>\n",
       "      <td>101204051</td>\n",
       "      <td>2010-01-01T00:00:00.000</td>\n",
       "      <td>2010-01-01T00:00:00.000</td>\n",
       "      <td>12</td>\n",
       "      <td>77th Street</td>\n",
       "      <td>1259</td>\n",
       "      <td>34.0</td>\n",
       "      <td>F</td>\n",
       "    </tr>\n",
       "    <tr>\n",
       "      <th>502856</th>\n",
       "      <td>100304221</td>\n",
       "      <td>2010-01-05T00:00:00.000</td>\n",
       "      <td>2010-01-01T00:00:00.000</td>\n",
       "      <td>3</td>\n",
       "      <td>Southwest</td>\n",
       "      <td>378</td>\n",
       "      <td>53.0</td>\n",
       "      <td>M</td>\n",
       "    </tr>\n",
       "    <tr>\n",
       "      <th>502857</th>\n",
       "      <td>101804056</td>\n",
       "      <td>2010-01-02T00:00:00.000</td>\n",
       "      <td>2010-01-01T00:00:00.000</td>\n",
       "      <td>18</td>\n",
       "      <td>Southeast</td>\n",
       "      <td>1822</td>\n",
       "      <td>25.0</td>\n",
       "      <td>F</td>\n",
       "    </tr>\n",
       "  </tbody>\n",
       "</table>\n",
       "<p>502858 rows × 8 columns</p>\n",
       "</div>"
      ],
      "text/plain": [
       "        DR Number            Date Reported            Date Occurred  Area ID  \\\n",
       "0       191323054  2019-11-30T00:00:00.000  2019-11-30T00:00:00.000       13   \n",
       "1       192020666  2019-11-30T00:00:00.000  2019-11-30T00:00:00.000       20   \n",
       "2       191616992  2019-11-30T00:00:00.000  2019-11-30T00:00:00.000       16   \n",
       "3       191824082  2019-11-30T00:00:00.000  2019-11-30T00:00:00.000       18   \n",
       "4       191616980  2019-11-30T00:00:00.000  2019-11-30T00:00:00.000       16   \n",
       "...           ...                      ...                      ...      ...   \n",
       "502853  100604050  2010-01-01T00:00:00.000  2010-01-01T00:00:00.000        6   \n",
       "502854  101404164  2010-01-03T00:00:00.000  2010-01-01T00:00:00.000       14   \n",
       "502855  101204051  2010-01-01T00:00:00.000  2010-01-01T00:00:00.000       12   \n",
       "502856  100304221  2010-01-05T00:00:00.000  2010-01-01T00:00:00.000        3   \n",
       "502857  101804056  2010-01-02T00:00:00.000  2010-01-01T00:00:00.000       18   \n",
       "\n",
       "          Area Name  Reporting District  Victim Age Victim Sex  \n",
       "0            Newton                1385         NaN          F  \n",
       "1           Olympic                2054        40.0          M  \n",
       "2          Foothill                1669        18.0          M  \n",
       "3         Southeast                1802        23.0          M  \n",
       "4          Foothill                1689         NaN          M  \n",
       "...             ...                 ...         ...        ...  \n",
       "502853    Hollywood                 637         NaN          M  \n",
       "502854      Pacific                1437         NaN          M  \n",
       "502855  77th Street                1259        34.0          F  \n",
       "502856    Southwest                 378        53.0          M  \n",
       "502857    Southeast                1822        25.0          F  \n",
       "\n",
       "[502858 rows x 8 columns]"
      ]
     },
     "execution_count": 38,
     "metadata": {},
     "output_type": "execute_result"
    }
   ],
   "source": [
    "df_flt = df[['DR Number', 'Date Reported', 'Date Occurred',\n",
    "       'Area ID', 'Area Name', 'Reporting District', 'Victim Age', 'Victim Sex']]\n",
    "df_flt"
   ]
  },
  {
   "cell_type": "code",
   "execution_count": 44,
   "metadata": {},
   "outputs": [
    {
     "name": "stderr",
     "output_type": "stream",
     "text": [
      "C:\\ProgramData\\Anaconda3\\lib\\site-packages\\pandas\\core\\indexing.py:1745: SettingWithCopyWarning: \n",
      "A value is trying to be set on a copy of a slice from a DataFrame.\n",
      "Try using .loc[row_indexer,col_indexer] = value instead\n",
      "\n",
      "See the caveats in the documentation: https://pandas.pydata.org/pandas-docs/stable/user_guide/indexing.html#returning-a-view-versus-a-copy\n",
      "  isetter(ilocs[0], value)\n"
     ]
    }
   ],
   "source": [
    "# Перевод текстовых дат в формат pandas.datetime\n",
    "df_flt.loc[:, 'Date Occurred'] = pd.to_datetime(df_flt.loc[:, 'Date Occurred'])\n",
    "df_flt.loc[:, 'Date Reported'] = pd.to_datetime(df_flt.loc[:, 'Date Reported'])\n",
    "\n",
    "# Заполнение пропусков возраста средним значением\n",
    "#df_flt.loc[:, 'Victim Age'] = df_flt['Victim Age'].fillna(df_flt.loc[:, 'Victim Age'].mean())"
   ]
  },
  {
   "cell_type": "code",
   "execution_count": 152,
   "metadata": {
    "scrolled": true
   },
   "outputs": [
    {
     "name": "stderr",
     "output_type": "stream",
     "text": [
      "C:\\ProgramData\\Anaconda3\\lib\\site-packages\\pandas\\core\\indexing.py:1765: SettingWithCopyWarning: \n",
      "A value is trying to be set on a copy of a slice from a DataFrame.\n",
      "Try using .loc[row_indexer,col_indexer] = value instead\n",
      "\n",
      "See the caveats in the documentation: https://pandas.pydata.org/pandas-docs/stable/user_guide/indexing.html#returning-a-view-versus-a-copy\n",
      "  isetter(loc, value)\n"
     ]
    },
    {
     "data": {
      "text/html": [
       "<div>\n",
       "<style scoped>\n",
       "    .dataframe tbody tr th:only-of-type {\n",
       "        vertical-align: middle;\n",
       "    }\n",
       "\n",
       "    .dataframe tbody tr th {\n",
       "        vertical-align: top;\n",
       "    }\n",
       "\n",
       "    .dataframe thead th {\n",
       "        text-align: right;\n",
       "    }\n",
       "</style>\n",
       "<table border=\"1\" class=\"dataframe\">\n",
       "  <thead>\n",
       "    <tr style=\"text-align: right;\">\n",
       "      <th></th>\n",
       "      <th>DR Number</th>\n",
       "      <th>Date Reported</th>\n",
       "      <th>Date Occurred</th>\n",
       "      <th>Area ID</th>\n",
       "      <th>Area Name</th>\n",
       "      <th>Reporting District</th>\n",
       "      <th>Victim Age</th>\n",
       "      <th>Victim Sex</th>\n",
       "      <th>Male</th>\n",
       "    </tr>\n",
       "  </thead>\n",
       "  <tbody>\n",
       "    <tr>\n",
       "      <th>0</th>\n",
       "      <td>191323054</td>\n",
       "      <td>2019-11-30</td>\n",
       "      <td>2019-11-30</td>\n",
       "      <td>13</td>\n",
       "      <td>Newton</td>\n",
       "      <td>1385</td>\n",
       "      <td>NaN</td>\n",
       "      <td>F</td>\n",
       "      <td>0.0</td>\n",
       "    </tr>\n",
       "    <tr>\n",
       "      <th>1</th>\n",
       "      <td>192020666</td>\n",
       "      <td>2019-11-30</td>\n",
       "      <td>2019-11-30</td>\n",
       "      <td>20</td>\n",
       "      <td>Olympic</td>\n",
       "      <td>2054</td>\n",
       "      <td>40.0</td>\n",
       "      <td>M</td>\n",
       "      <td>1.0</td>\n",
       "    </tr>\n",
       "    <tr>\n",
       "      <th>2</th>\n",
       "      <td>191616992</td>\n",
       "      <td>2019-11-30</td>\n",
       "      <td>2019-11-30</td>\n",
       "      <td>16</td>\n",
       "      <td>Foothill</td>\n",
       "      <td>1669</td>\n",
       "      <td>18.0</td>\n",
       "      <td>M</td>\n",
       "      <td>1.0</td>\n",
       "    </tr>\n",
       "    <tr>\n",
       "      <th>3</th>\n",
       "      <td>191824082</td>\n",
       "      <td>2019-11-30</td>\n",
       "      <td>2019-11-30</td>\n",
       "      <td>18</td>\n",
       "      <td>Southeast</td>\n",
       "      <td>1802</td>\n",
       "      <td>23.0</td>\n",
       "      <td>M</td>\n",
       "      <td>1.0</td>\n",
       "    </tr>\n",
       "    <tr>\n",
       "      <th>4</th>\n",
       "      <td>191616980</td>\n",
       "      <td>2019-11-30</td>\n",
       "      <td>2019-11-30</td>\n",
       "      <td>16</td>\n",
       "      <td>Foothill</td>\n",
       "      <td>1689</td>\n",
       "      <td>NaN</td>\n",
       "      <td>M</td>\n",
       "      <td>1.0</td>\n",
       "    </tr>\n",
       "  </tbody>\n",
       "</table>\n",
       "</div>"
      ],
      "text/plain": [
       "   DR Number Date Reported Date Occurred  Area ID  Area Name  \\\n",
       "0  191323054    2019-11-30    2019-11-30       13     Newton   \n",
       "1  192020666    2019-11-30    2019-11-30       20    Olympic   \n",
       "2  191616992    2019-11-30    2019-11-30       16   Foothill   \n",
       "3  191824082    2019-11-30    2019-11-30       18  Southeast   \n",
       "4  191616980    2019-11-30    2019-11-30       16   Foothill   \n",
       "\n",
       "   Reporting District  Victim Age Victim Sex  Male  \n",
       "0                1385         NaN          F   0.0  \n",
       "1                2054        40.0          M   1.0  \n",
       "2                1669        18.0          M   1.0  \n",
       "3                1802        23.0          M   1.0  \n",
       "4                1689         NaN          M   1.0  "
      ]
     },
     "execution_count": 152,
     "metadata": {},
     "output_type": "execute_result"
    }
   ],
   "source": [
    "df_flt.loc[df_flt['Victim Sex'] == 'M', 'Male'] = 1\n",
    "df_flt.loc[df_flt['Victim Sex'] == 'F', 'Male'] = 0\n",
    "df_flt.head()"
   ]
  },
  {
   "cell_type": "code",
   "execution_count": 40,
   "metadata": {
    "scrolled": false
   },
   "outputs": [
    {
     "data": {
      "text/html": [
       "<div>\n",
       "<style scoped>\n",
       "    .dataframe tbody tr th:only-of-type {\n",
       "        vertical-align: middle;\n",
       "    }\n",
       "\n",
       "    .dataframe tbody tr th {\n",
       "        vertical-align: top;\n",
       "    }\n",
       "\n",
       "    .dataframe thead th {\n",
       "        text-align: right;\n",
       "    }\n",
       "</style>\n",
       "<table border=\"1\" class=\"dataframe\">\n",
       "  <thead>\n",
       "    <tr style=\"text-align: right;\">\n",
       "      <th></th>\n",
       "      <th>DR Number</th>\n",
       "      <th>Area ID</th>\n",
       "      <th>Reporting District</th>\n",
       "      <th>Victim Age</th>\n",
       "    </tr>\n",
       "  </thead>\n",
       "  <tbody>\n",
       "    <tr>\n",
       "      <th>count</th>\n",
       "      <td>5.028580e+05</td>\n",
       "      <td>502858.000000</td>\n",
       "      <td>502858.000000</td>\n",
       "      <td>424144.000000</td>\n",
       "    </tr>\n",
       "    <tr>\n",
       "      <th>mean</th>\n",
       "      <td>1.485742e+08</td>\n",
       "      <td>11.073369</td>\n",
       "      <td>1153.468528</td>\n",
       "      <td>41.425862</td>\n",
       "    </tr>\n",
       "    <tr>\n",
       "      <th>std</th>\n",
       "      <td>2.848089e+07</td>\n",
       "      <td>5.876479</td>\n",
       "      <td>588.929125</td>\n",
       "      <td>16.227330</td>\n",
       "    </tr>\n",
       "    <tr>\n",
       "      <th>min</th>\n",
       "      <td>1.001000e+08</td>\n",
       "      <td>1.000000</td>\n",
       "      <td>100.000000</td>\n",
       "      <td>10.000000</td>\n",
       "    </tr>\n",
       "    <tr>\n",
       "      <th>25%</th>\n",
       "      <td>1.217087e+08</td>\n",
       "      <td>6.000000</td>\n",
       "      <td>666.000000</td>\n",
       "      <td>28.000000</td>\n",
       "    </tr>\n",
       "    <tr>\n",
       "      <th>50%</th>\n",
       "      <td>1.510145e+08</td>\n",
       "      <td>11.000000</td>\n",
       "      <td>1151.000000</td>\n",
       "      <td>39.000000</td>\n",
       "    </tr>\n",
       "    <tr>\n",
       "      <th>75%</th>\n",
       "      <td>1.715159e+08</td>\n",
       "      <td>16.000000</td>\n",
       "      <td>1651.000000</td>\n",
       "      <td>51.000000</td>\n",
       "    </tr>\n",
       "    <tr>\n",
       "      <th>max</th>\n",
       "      <td>1.999286e+08</td>\n",
       "      <td>21.000000</td>\n",
       "      <td>2199.000000</td>\n",
       "      <td>99.000000</td>\n",
       "    </tr>\n",
       "  </tbody>\n",
       "</table>\n",
       "</div>"
      ],
      "text/plain": [
       "          DR Number        Area ID  Reporting District     Victim Age\n",
       "count  5.028580e+05  502858.000000       502858.000000  424144.000000\n",
       "mean   1.485742e+08      11.073369         1153.468528      41.425862\n",
       "std    2.848089e+07       5.876479          588.929125      16.227330\n",
       "min    1.001000e+08       1.000000          100.000000      10.000000\n",
       "25%    1.217087e+08       6.000000          666.000000      28.000000\n",
       "50%    1.510145e+08      11.000000         1151.000000      39.000000\n",
       "75%    1.715159e+08      16.000000         1651.000000      51.000000\n",
       "max    1.999286e+08      21.000000         2199.000000      99.000000"
      ]
     },
     "execution_count": 40,
     "metadata": {},
     "output_type": "execute_result"
    }
   ],
   "source": [
    "df_flt.describe()"
   ]
  },
  {
   "cell_type": "code",
   "execution_count": 41,
   "metadata": {},
   "outputs": [
    {
     "name": "stdout",
     "output_type": "stream",
     "text": [
      "<class 'pandas.core.frame.DataFrame'>\n",
      "RangeIndex: 502858 entries, 0 to 502857\n",
      "Data columns (total 8 columns):\n",
      " #   Column              Non-Null Count   Dtype  \n",
      "---  ------              --------------   -----  \n",
      " 0   DR Number           502858 non-null  int64  \n",
      " 1   Date Reported       502858 non-null  object \n",
      " 2   Date Occurred       502858 non-null  object \n",
      " 3   Area ID             502858 non-null  int64  \n",
      " 4   Area Name           502858 non-null  object \n",
      " 5   Reporting District  502858 non-null  int64  \n",
      " 6   Victim Age          424144 non-null  float64\n",
      " 7   Victim Sex          495243 non-null  object \n",
      "dtypes: float64(1), int64(3), object(4)\n",
      "memory usage: 30.7+ MB\n"
     ]
    }
   ],
   "source": [
    "df_flt.info()"
   ]
  },
  {
   "cell_type": "markdown",
   "metadata": {},
   "source": [
    "### Обязательная часть\n",
    "Вам необходимо провести базовый EDA выбранного набора данных.\n",
    "\n",
    "Требования к анализу:\n",
    "- построить не менее 4 визуализаций различных видов;\n",
    "- каждая визуализация должным образом оформлена и читается даже в отрыве от контекста;\n",
    "- по каждой визуализации необходимо написать вывод (какую гипотезу на ее основе можно выдвинуть?)."
   ]
  },
  {
   "cell_type": "markdown",
   "metadata": {},
   "source": [
    "#### Динамика столкновений"
   ]
  },
  {
   "cell_type": "code",
   "execution_count": 201,
   "metadata": {
    "scrolled": false
   },
   "outputs": [
    {
     "data": {
      "image/png": "[encoded data removed]",
      "text/plain": [
       "<Figure size 1080x432 with 1 Axes>"
      ]
     },
     "metadata": {
      "needs_background": "light"
     },
     "output_type": "display_data"
    }
   ],
   "source": [
    "dynamics_by_year = df_flt[['DR Number', 'Date Reported']] \\\n",
    "    .set_index(\"Date Reported\").groupby(pd.Grouper(freq='Y')) \\\n",
    "    .count() \\\n",
    "    .sort_values('Date Reported', ascending=False)\n",
    "ax = dynamics_by_year.rename(columns={\"DR Number\": \"Столкновения\"}).plot(title='Динамика столкновений по годам', \n",
    "                                        xlabel='Год', \n",
    "                                        ylabel='Кол.-во столкновений')"
   ]
  },
  {
   "cell_type": "markdown",
   "metadata": {},
   "source": [
    "- Рост количесвта столкновений с 2010 по 2017 гг. связан, вероятно, с ростом коиличества автомобилей в городе. В тоже время дорожная инфраструктура, как это часто бывает, была не готова для  резко растущего потока машин. \n",
    "- После 2017 года наблю дается снижение киличества ДТП. Возможно, это связано с введением программы Vision Zero в Лос-Анджелесе."
   ]
  },
  {
   "cell_type": "markdown",
   "metadata": {},
   "source": [
    "#### Динамика столкновений по месяцам"
   ]
  },
  {
   "cell_type": "code",
   "execution_count": 118,
   "metadata": {
    "scrolled": false
   },
   "outputs": [
    {
     "data": {
      "text/html": [
       "<div>\n",
       "<style scoped>\n",
       "    .dataframe tbody tr th:only-of-type {\n",
       "        vertical-align: middle;\n",
       "    }\n",
       "\n",
       "    .dataframe tbody tr th {\n",
       "        vertical-align: top;\n",
       "    }\n",
       "\n",
       "    .dataframe thead th {\n",
       "        text-align: right;\n",
       "    }\n",
       "</style>\n",
       "<table border=\"1\" class=\"dataframe\">\n",
       "  <thead>\n",
       "    <tr style=\"text-align: right;\">\n",
       "      <th></th>\n",
       "      <th>DR Number</th>\n",
       "    </tr>\n",
       "    <tr>\n",
       "      <th>Date Reported</th>\n",
       "      <th></th>\n",
       "    </tr>\n",
       "  </thead>\n",
       "  <tbody>\n",
       "    <tr>\n",
       "      <th>2010-01-31</th>\n",
       "      <td>3550</td>\n",
       "    </tr>\n",
       "    <tr>\n",
       "      <th>2010-02-28</th>\n",
       "      <td>3474</td>\n",
       "    </tr>\n",
       "    <tr>\n",
       "      <th>2010-03-31</th>\n",
       "      <td>3924</td>\n",
       "    </tr>\n",
       "    <tr>\n",
       "      <th>2010-04-30</th>\n",
       "      <td>3646</td>\n",
       "    </tr>\n",
       "    <tr>\n",
       "      <th>2010-05-31</th>\n",
       "      <td>3781</td>\n",
       "    </tr>\n",
       "    <tr>\n",
       "      <th>...</th>\n",
       "      <td>...</td>\n",
       "    </tr>\n",
       "    <tr>\n",
       "      <th>2019-07-31</th>\n",
       "      <td>4856</td>\n",
       "    </tr>\n",
       "    <tr>\n",
       "      <th>2019-08-31</th>\n",
       "      <td>4890</td>\n",
       "    </tr>\n",
       "    <tr>\n",
       "      <th>2019-09-30</th>\n",
       "      <td>4975</td>\n",
       "    </tr>\n",
       "    <tr>\n",
       "      <th>2019-10-31</th>\n",
       "      <td>5070</td>\n",
       "    </tr>\n",
       "    <tr>\n",
       "      <th>2019-11-30</th>\n",
       "      <td>4141</td>\n",
       "    </tr>\n",
       "  </tbody>\n",
       "</table>\n",
       "<p>119 rows × 1 columns</p>\n",
       "</div>"
      ],
      "text/plain": [
       "               DR Number\n",
       "Date Reported           \n",
       "2010-01-31          3550\n",
       "2010-02-28          3474\n",
       "2010-03-31          3924\n",
       "2010-04-30          3646\n",
       "2010-05-31          3781\n",
       "...                  ...\n",
       "2019-07-31          4856\n",
       "2019-08-31          4890\n",
       "2019-09-30          4975\n",
       "2019-10-31          5070\n",
       "2019-11-30          4141\n",
       "\n",
       "[119 rows x 1 columns]"
      ]
     },
     "execution_count": 118,
     "metadata": {},
     "output_type": "execute_result"
    }
   ],
   "source": [
    "dynamics_by_month = df_flt[['DR Number', 'Date Reported']] \\\n",
    "    .set_index(\"Date Reported\").groupby(pd.Grouper(freq='M')) \\\n",
    "    .count() \\\n",
    "    .sort_values('Date Reported', ascending=True)\n",
    "dynamics_by_month"
   ]
  },
  {
   "cell_type": "code",
   "execution_count": 202,
   "metadata": {},
   "outputs": [
    {
     "data": {
      "image/png": "[encoded data removed]",
      "text/plain": [
       "<Figure size 1080x432 with 1 Axes>"
      ]
     },
     "metadata": {
      "needs_background": "light"
     },
     "output_type": "display_data"
    }
   ],
   "source": [
    "years = sorted(set(dynamics_by_month.index.year))[0:-1]\n",
    "for Y in years:\n",
    "    plt.plot(dynamics_by_month.loc[dynamics_by_month.index.year == Y].index.month_name(),\n",
    "             dynamics_by_month.loc[dynamics_by_month.index.year == Y])\n",
    "    plt.title('Динамика столкновений по месяцам годам')\n",
    "    plt.xlabel('Месяц')\n",
    "    plt.ylabel('Столкновения') \n",
    "    plt.legend(sorted(set(dynamics_by_month.index.year))[0:-1], ncol=len(years), loc='upper center')"
   ]
  },
  {
   "cell_type": "markdown",
   "metadata": {},
   "source": [
    "##### Явные всплески в Марте, Августе и Октябре.\n",
    "1. Активный рост в Марте, возможно свзян к подготовке к Пасхе.\n",
    "2. В Августе, возможно, есть связь с подготовкой к новому учебному году.\n",
    "3. Октябрьский рост количества столкновений нужно разбирать более подробно. То же относится к снижению аварийности в Феврале - причина на первый взгляд неоченивдна\n",
    "\n",
    "Из общей картины выбивается 2016 год: типичные экстремумы для остальных периоднов почти незаметны."
   ]
  },
  {
   "cell_type": "markdown",
   "metadata": {},
   "source": [
    "#### Жертвы столкновений"
   ]
  },
  {
   "cell_type": "code",
   "execution_count": 203,
   "metadata": {},
   "outputs": [
    {
     "data": {
      "text/plain": [
       "<AxesSubplot:title={'center':'Распределение возраста жертв'}, ylabel='Frequency'>"
      ]
     },
     "execution_count": 203,
     "metadata": {},
     "output_type": "execute_result"
    },
    {
     "data": {
      "image/png": "[encoded data removed]",
      "text/plain": [
       "<Figure size 1080x432 with 1 Axes>"
      ]
     },
     "metadata": {
      "needs_background": "light"
     },
     "output_type": "display_data"
    }
   ],
   "source": [
    "df_flt['Victim Age'].plot(kind='hist',\n",
    "                          bins=18,\n",
    "                          ylabel='Частота',\n",
    "                          xlabel='Возраст',\n",
    "                          title='Распределение возраста жертв',\n",
    "                          xticks=range(10, 100, 5))"
   ]
  },
  {
   "cell_type": "markdown",
   "metadata": {},
   "source": [
    "Преобладают жертвы 20-35 лет. Думаю, это связано с высохой активностью населения в этом возрастном диапазоне. "
   ]
  },
  {
   "cell_type": "markdown",
   "metadata": {},
   "source": [
    "### Аварийность по районам"
   ]
  },
  {
   "cell_type": "code",
   "execution_count": 204,
   "metadata": {
    "scrolled": false
   },
   "outputs": [
    {
     "data": {
      "image/png": "[encoded data removed]",
      "text/plain": [
       "<Figure size 1080x432 with 1 Axes>"
      ]
     },
     "metadata": {
      "needs_background": "light"
     },
     "output_type": "display_data"
    }
   ],
   "source": [
    "top5_areas = df_flt[['DR Number', 'Area Name']].groupby('Area Name').count().sort_values('DR Number', ascending=False) \\\n",
    "    .rename(columns={\"DR Number\": \"Столкновения\"}).head()\n",
    "ax = top5_areas.plot(kind='bar',\n",
    "                    xlabel = 'Район',\n",
    "                    title = 'Особо аварийные районы')\n"
   ]
  },
  {
   "cell_type": "markdown",
   "metadata": {},
   "source": [
    "На эти районы стоит обратить внимание в первую очередь для улучшения ситуации."
   ]
  },
  {
   "cell_type": "markdown",
   "metadata": {},
   "source": [
    "### Необязательная часть.\n",
    "- построить дополнительно не менее 2 визуализаций (итого не менее 6);\n",
    "- в работе должны присутствовать следующие визуализации: boxplot, heatmap, scatter plot matrix;"
   ]
  },
  {
   "cell_type": "code",
   "execution_count": 205,
   "metadata": {},
   "outputs": [
    {
     "data": {
      "text/plain": [
       "Text(0, 0.5, 'Возраст')"
      ]
     },
     "execution_count": 205,
     "metadata": {},
     "output_type": "execute_result"
    },
    {
     "data": {
      "image/png": "[encoded data removed]",
      "text/plain": [
       "<Figure size 1080x432 with 1 Axes>"
      ]
     },
     "metadata": {
      "needs_background": "light"
     },
     "output_type": "display_data"
    }
   ],
   "source": [
    "areas = top5_areas.index.value_counts().sort_values(ascending = False).head().index.values\n",
    "areas\n",
    "sns.boxplot(x='Area Name', y='Victim Age', \n",
    "            data=df_flt.loc[df_flt['Area Name'].isin(areas)])\n",
    "plt.title('Распределение возраста жертв по районам')\n",
    "plt.xlabel('Район')\n",
    "plt.ylabel('Возраст') "
   ]
  },
  {
   "cell_type": "markdown",
   "metadata": {},
   "source": [
    "Распределение возрастов жертв по районам не имеет существенных отличий."
   ]
  },
  {
   "cell_type": "markdown",
   "metadata": {},
   "source": [
    "#### Распределение по районам с разбивкой по половому признаку"
   ]
  },
  {
   "cell_type": "code",
   "execution_count": 197,
   "metadata": {},
   "outputs": [
    {
     "data": {
      "text/plain": [
       "array(['F', 'M', 'X', nan, 'H', 'N'], dtype=object)"
      ]
     },
     "execution_count": 197,
     "metadata": {},
     "output_type": "execute_result"
    }
   ],
   "source": [
    "df_flt['Victim Sex'].unique()"
   ]
  },
  {
   "cell_type": "code",
   "execution_count": 198,
   "metadata": {},
   "outputs": [
    {
     "data": {
      "text/html": [
       "<div>\n",
       "<style scoped>\n",
       "    .dataframe tbody tr th:only-of-type {\n",
       "        vertical-align: middle;\n",
       "    }\n",
       "\n",
       "    .dataframe tbody tr th {\n",
       "        vertical-align: top;\n",
       "    }\n",
       "\n",
       "    .dataframe thead th {\n",
       "        text-align: right;\n",
       "    }\n",
       "</style>\n",
       "<table border=\"1\" class=\"dataframe\">\n",
       "  <thead>\n",
       "    <tr style=\"text-align: right;\">\n",
       "      <th>Victim Sex</th>\n",
       "      <th>F</th>\n",
       "      <th>H</th>\n",
       "      <th>M</th>\n",
       "      <th>N</th>\n",
       "      <th>X</th>\n",
       "    </tr>\n",
       "    <tr>\n",
       "      <th>Area Name</th>\n",
       "      <th></th>\n",
       "      <th></th>\n",
       "      <th></th>\n",
       "      <th></th>\n",
       "      <th></th>\n",
       "    </tr>\n",
       "  </thead>\n",
       "  <tbody>\n",
       "    <tr>\n",
       "      <th>77th Street</th>\n",
       "      <td>13086.0</td>\n",
       "      <td>7.0</td>\n",
       "      <td>17829.0</td>\n",
       "      <td>1.0</td>\n",
       "      <td>829.0</td>\n",
       "    </tr>\n",
       "    <tr>\n",
       "      <th>N Hollywood</th>\n",
       "      <td>10176.0</td>\n",
       "      <td>9.0</td>\n",
       "      <td>15922.0</td>\n",
       "      <td>1.0</td>\n",
       "      <td>478.0</td>\n",
       "    </tr>\n",
       "    <tr>\n",
       "      <th>Southwest</th>\n",
       "      <td>12339.0</td>\n",
       "      <td>7.0</td>\n",
       "      <td>16178.0</td>\n",
       "      <td>1.0</td>\n",
       "      <td>905.0</td>\n",
       "    </tr>\n",
       "    <tr>\n",
       "      <th>West LA</th>\n",
       "      <td>10587.0</td>\n",
       "      <td>5.0</td>\n",
       "      <td>14226.0</td>\n",
       "      <td>1.0</td>\n",
       "      <td>1030.0</td>\n",
       "    </tr>\n",
       "    <tr>\n",
       "      <th>Wilshire</th>\n",
       "      <td>11440.0</td>\n",
       "      <td>6.0</td>\n",
       "      <td>15868.0</td>\n",
       "      <td>0.0</td>\n",
       "      <td>399.0</td>\n",
       "    </tr>\n",
       "  </tbody>\n",
       "</table>\n",
       "</div>"
      ],
      "text/plain": [
       "Victim Sex         F    H        M    N       X\n",
       "Area Name                                      \n",
       "77th Street  13086.0  7.0  17829.0  1.0   829.0\n",
       "N Hollywood  10176.0  9.0  15922.0  1.0   478.0\n",
       "Southwest    12339.0  7.0  16178.0  1.0   905.0\n",
       "West LA      10587.0  5.0  14226.0  1.0  1030.0\n",
       "Wilshire     11440.0  6.0  15868.0  0.0   399.0"
      ]
     },
     "execution_count": 198,
     "metadata": {},
     "output_type": "execute_result"
    }
   ],
   "source": [
    "area_sex_collisions = df_flt[df['Area Name'].isin(areas)].pivot_table(\n",
    "                        index='Area Name', \n",
    "                        columns='Victim Sex', \n",
    "                        values='DR Number', \n",
    "                        aggfunc='count').fillna(0)\n",
    "area_sex_collisions"
   ]
  },
  {
   "cell_type": "code",
   "execution_count": 206,
   "metadata": {},
   "outputs": [
    {
     "data": {
      "text/plain": [
       "<AxesSubplot:xlabel='Victim Sex', ylabel='Area Name'>"
      ]
     },
     "execution_count": 206,
     "metadata": {},
     "output_type": "execute_result"
    },
    {
     "data": {
      "image/png": "[encoded data removed]",
      "text/plain": [
       "<Figure size 1080x432 with 2 Axes>"
      ]
     },
     "metadata": {
      "needs_background": "light"
     },
     "output_type": "display_data"
    }
   ],
   "source": [
    "sns.heatmap(area_sex_collisions)"
   ]
  },
  {
   "cell_type": "markdown",
   "metadata": {},
   "source": [
    "Среди жертв наблюдается преобладание мужчин. Можно предположить, что женщины более осторожны или двигались с меньшей скоростью.\n",
    "Остальные категории можно не рассматривать, так как их доля очень мала."
   ]
  }
 ],
 "metadata": {
  "kernelspec": {
   "display_name": "Python 3",
   "language": "python",
   "name": "python3"
  },
  "language_info": {
   "codemirror_mode": {
    "name": "ipython",
    "version": 3
   },
   "file_extension": ".py",
   "mimetype": "text/x-python",
   "name": "python",
   "nbconvert_exporter": "python",
   "pygments_lexer": "ipython3",
   "version": "3.8.5"
  }
 },
 "nbformat": 4,
 "nbformat_minor": 4
}
